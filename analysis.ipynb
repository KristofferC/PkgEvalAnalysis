{
 "cells": [
  {
   "cell_type": "code",
   "execution_count": 1,
   "metadata": {},
   "outputs": [],
   "source": [
    "using DataFrames, Feather"
   ]
  },
  {
   "cell_type": "code",
   "execution_count": 2,
   "metadata": {},
   "outputs": [],
   "source": [
    "@enum FailureType begin\n",
    "    # General ones\n",
    "    Unknown\n",
    "    InferredFailure\n",
    "    PrintingChange\n",
    "    TestAmbiguities\n",
    "    NewAmbiguity\n",
    "    ApproxError\n",
    "    DocTest\n",
    "    BadBoy\n",
    "    # Specific\n",
    "    IRToolsParams\n",
    "    ParameterUpperBound\n",
    "    ModuleIR\n",
    "    BoundsErrorCompiler\n",
    "    Cassette\n",
    "    OldMbedTLSSyntax\n",
    "    GPUErrors\n",
    "end"
   ]
  },
  {
   "cell_type": "code",
   "execution_count": 3,
   "metadata": {
    "scrolled": true
   },
   "outputs": [],
   "source": [
    "if !isdir(\"data\")\n",
    "    run(`tar -xvf data.tar.gz`)\n",
    "end\n",
    "primary  = Feather.read(\"data/primary.feather\");\n",
    "against = Feather.read(\"data/against.feather\");"
   ]
  },
  {
   "cell_type": "code",
   "execution_count": 4,
   "metadata": {},
   "outputs": [],
   "source": [
    "package_results = join(primary, against,\n",
    "     on=:uuid, kind=:left, makeunique=true, indicator=:source);"
   ]
  },
  {
   "cell_type": "code",
   "execution_count": 5,
   "metadata": {},
   "outputs": [],
   "source": [
    "changed_tests = filter(test->test.source == \"both\" &&\n",
    "                 test.status != test.status_1, package_results)\n",
    "fails = changed_tests[changed_tests[!, :status] .== \":fail\", :];\n",
    "sort!(fails , :name);\n",
    "insert!(fails, size(fails, 2), fill(Unknown, size(fails, 1)), :why);"
   ]
  },
  {
   "cell_type": "code",
   "execution_count": 6,
   "metadata": {},
   "outputs": [
    {
     "data": {
      "text/plain": [
       "total_unknown (generic function with 1 method)"
      ]
     },
     "execution_count": 6,
     "metadata": {},
     "output_type": "execute_result"
    }
   ],
   "source": [
    "query(fails, s) = filter(row -> occursin(s, row[:log]), fails)    \n",
    "\n",
    "function update_reason!(fails, needle, why)\n",
    "    idxs = findall(row -> occursin(needle, row), fails.log)\n",
    "    fails.why[idxs] .= why\n",
    "    return fails\n",
    "end\n",
    "\n",
    "total_unknown(fails) = count(x -> x.why == Unknown, eachrow(fails))"
   ]
  },
  {
   "cell_type": "code",
   "execution_count": 7,
   "metadata": {},
   "outputs": [],
   "source": [
    "# Generic ones\n",
    "update_reason!(fails, \"Test.detect_ambiguities\", TestAmbiguities)\n",
    "update_reason!(fails, \"Expression: all_doctests()\", DocTest)\n",
    "update_reason!(fails, \"does not match inferred return type\", InferredFailure);\n",
    "update_reason!(fails, \"Expression: isapprox\", ApproxError)\n",
    "update_reason!(fails, \"is ambiguous. Candidates:\", NewAmbiguity)\n",
    "update_reason!(fails, \"Evaluated: \\\"\", PrintingChange)\n",
    "\n",
    "\n",
    "# Specific ones for this release\n",
    "update_reason!(fails, \"Params not defined\", IRToolsParams);\n",
    "update_reason!(fails, \"parameter_upper_bound\", ParameterUpperBound);\n",
    "update_reason!(fails, \"Module IR does not contain specified entry function\", ModuleIR);\n",
    "update_reason!(fails, \"Internal error: encountered unexpected error in runtime:\\nBoundsError\", BoundsErrorCompiler\n",
    ");\n",
    "update_reason!(fails, \"@ Cassette\", Cassette)\n",
    "update_reason!(fails, \"/home/pkgeval/.julia/packages/MbedTLS/\", OldMbedTLSSyntax)\n",
    "update_reason!(fails, \"Test.detect_ambiguities\", TestAmbiguities)\n",
    "update_reason!(fails, \"unsupported or misplaced expression \\\"return\\\" in function\", GPUErrors)\n",
    "\n",
    "# Baddies\n",
    "\n",
    "# https://github.com/JuliaDiffusionBayes/DiffusionDefinition.jl/issues/11\n",
    "update_reason!(fails, \"DD.remove_curly(Vector{Float64}) == Array\", BadBoy)\n",
    "update_reason!(fails, \"Unknown observable eltype\", BadBoy)\n",
    "update_reason!(fails, \"ArgumentError: Invalid type: typename(SwingEq)\", BadBoy)\n",
    "\n",
    "nothing"
   ]
  },
  {
   "cell_type": "code",
   "execution_count": 8,
   "metadata": {},
   "outputs": [
    {
     "data": {
      "text/plain": [
       "70"
      ]
     },
     "execution_count": 8,
     "metadata": {},
     "output_type": "execute_result"
    }
   ],
   "source": [
    "total_unknown(fails)"
   ]
  },
  {
   "cell_type": "code",
   "execution_count": 9,
   "metadata": {
    "scrolled": true
   },
   "outputs": [
    {
     "data": {
      "text/plain": [
       "41-element Array{String,1}:\n",
       " \"DiffEqBiological\"\n",
       " \"DimensionalData\"\n",
       " \"DomainSets\"\n",
       " \"ExprTools\"\n",
       " \"Fermi\"\n",
       " \"ForneyLab\"\n",
       " \"GPUCompiler\"\n",
       " \"GeoGreensFunctions\"\n",
       " \"Graphene\"\n",
       " \"GslibIO\"\n",
       " \"ImagePhaseCongruency\"\n",
       " \"IncompleteLU\"\n",
       " \"InterProcessCommunication\"\n",
       " ⋮\n",
       " \"PhaseSpaceIO\"\n",
       " \"PhysicsInformedML\"\n",
       " \"PushVectors\"\n",
       " \"QuantReg\"\n",
       " \"QuasiArrays\"\n",
       " \"RBNF\"\n",
       " \"RandomBasedArrays\"\n",
       " \"ReferenceTests\"\n",
       " \"Rotations\"\n",
       " \"SMC\"\n",
       " \"Sched\"\n",
       " \"SpatialJackknife\""
      ]
     },
     "execution_count": 9,
     "metadata": {},
     "output_type": "execute_result"
    }
   ],
   "source": [
    "filter(x -> x.why == Unknown, fails).name[20:60]"
   ]
  },
  {
   "cell_type": "code",
   "execution_count": 10,
   "metadata": {
    "scrolled": true
   },
   "outputs": [
    {
     "data": {
      "text/html": [
       "<table class=\"data-frame\"><thead><tr><th></th><th>julia</th><th>name</th><th>uuid</th></tr><tr><th></th><th>String</th><th>String</th><th>String</th></tr></thead><tbody><p>2 rows × 17 columns (omitted printing of 14 columns)</p><tr><th>1</th><td>v\"1.6.0-DEV-4978cd5a4f\"</td><td>DomainSets</td><td>UUID(\"5b8099bc-c8ec-5219-889f-1d9e522a28bf\")</td></tr><tr><th>2</th><td>v\"1.6.0-DEV-4978cd5a4f\"</td><td>MLJModels</td><td>UUID(\"d491faf4-2d78-11e9-2867-c94bc002c0b7\")</td></tr></tbody></table>"
      ],
      "text/latex": [
       "\\begin{tabular}{r|cccc}\n",
       "\t& julia & name & uuid & \\\\\n",
       "\t\\hline\n",
       "\t& String & String & String & \\\\\n",
       "\t\\hline\n",
       "\t1 & v\"1.6.0-DEV-4978cd5a4f\" & DomainSets & UUID(\"5b8099bc-c8ec-5219-889f-1d9e522a28bf\") & $\\dots$ \\\\\n",
       "\t2 & v\"1.6.0-DEV-4978cd5a4f\" & MLJModels & UUID(\"d491faf4-2d78-11e9-2867-c94bc002c0b7\") & $\\dots$ \\\\\n",
       "\\end{tabular}\n"
      ],
      "text/plain": [
       "2×17 DataFrame. Omitted printing of 15 columns\n",
       "│ Row │ julia                   │ name       │\n",
       "│     │ \u001b[90mString\u001b[39m                  │ \u001b[90mString\u001b[39m     │\n",
       "├─────┼─────────────────────────┼────────────┤\n",
       "│ 1   │ v\"1.6.0-DEV-4978cd5a4f\" │ DomainSets │\n",
       "│ 2   │ v\"1.6.0-DEV-4978cd5a4f\" │ MLJModels  │"
      ]
     },
     "execution_count": 10,
     "metadata": {},
     "output_type": "execute_result"
    }
   ],
   "source": [
    "query(fails, \"Log Pattern: \")"
   ]
  },
  {
   "cell_type": "code",
   "execution_count": 11,
   "metadata": {},
   "outputs": [
    {
     "data": {
      "text/plain": [
       "15-element Array{Any,1}:\n",
       " (70, Unknown)\n",
       " (58, ParameterUpperBound)\n",
       " (37, ModuleIR)\n",
       " (35, PrintingChange)\n",
       " (32, IRToolsParams)\n",
       " (15, DocTest)\n",
       " (12, Cassette)\n",
       " (7, BoundsErrorCompiler)\n",
       " (7, NewAmbiguity)\n",
       " (5, GPUErrors)\n",
       " (5, OldMbedTLSSyntax)\n",
       " (3, BadBoy)\n",
       " (3, InferredFailure)\n",
       " (2, ApproxError)\n",
       " (2, TestAmbiguities)"
      ]
     },
     "execution_count": 11,
     "metadata": {},
     "output_type": "execute_result"
    }
   ],
   "source": [
    "z = []\n",
    "for i in instances(FailureType)\n",
    "    n = count(row -> row.why == i, eachrow(fails))\n",
    "    push!(z, (n, i))\n",
    "end\n",
    "sort!(z; rev=true)"
   ]
  }
 ],
 "metadata": {
  "kernelspec": {
   "display_name": "Julia 1.5.0",
   "language": "julia",
   "name": "julia-1.5"
  },
  "language_info": {
   "file_extension": ".jl",
   "mimetype": "application/julia",
   "name": "julia",
   "version": "1.5.0"
  }
 },
 "nbformat": 4,
 "nbformat_minor": 4
}
