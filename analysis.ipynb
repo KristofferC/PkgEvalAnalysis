{
 "cells": [
  {
   "cell_type": "code",
   "execution_count": 1,
   "metadata": {},
   "outputs": [],
   "source": [
    "using DataFrames, Feather"
   ]
  },
  {
   "cell_type": "code",
   "execution_count": 2,
   "metadata": {},
   "outputs": [],
   "source": [
    "@enum FailureType begin\n",
    "    # General ones\n",
    "    Unknown\n",
    "    InferredFailure\n",
    "    PrintingChange\n",
    "    TestAmbiguities\n",
    "    NewAmbiguity\n",
    "    ApproxError\n",
    "    DocTest\n",
    "    NewExceptionType\n",
    "    DownloadError\n",
    "    BadBoy\n",
    "    # Specific\n",
    "    IRToolsParams\n",
    "    ParameterUpperBound\n",
    "    ModuleIR\n",
    "    BoundsErrorCompiler\n",
    "    Cassette\n",
    "    OldMbedTLSSyntax\n",
    "    GPUErrors\n",
    "end"
   ]
  },
  {
   "cell_type": "code",
   "execution_count": 3,
   "metadata": {
    "scrolled": true
   },
   "outputs": [],
   "source": [
    "if !isdir(\"data\")\n",
    "    run(`tar -xvf data.tar.gz`)\n",
    "end\n",
    "primary  = Feather.read(\"data/primary.feather\");\n",
    "against = Feather.read(\"data/against.feather\");"
   ]
  },
  {
   "cell_type": "code",
   "execution_count": 4,
   "metadata": {},
   "outputs": [],
   "source": [
    "package_results = join(primary, against,\n",
    "     on=:uuid, kind=:left, makeunique=true, indicator=:source);"
   ]
  },
  {
   "cell_type": "code",
   "execution_count": 5,
   "metadata": {},
   "outputs": [],
   "source": [
    "changed_tests = filter(test->test.source == \"both\" &&\n",
    "                 test.status != test.status_1, package_results)\n",
    "fails = changed_tests[changed_tests[!, :status] .== \":fail\", :];\n",
    "sort!(fails , :name);\n",
    "insert!(fails, size(fails, 2), fill(Unknown, size(fails, 1)), :why);"
   ]
  },
  {
   "cell_type": "code",
   "execution_count": 6,
   "metadata": {},
   "outputs": [
    {
     "data": {
      "text/plain": [
       "total_unknown (generic function with 1 method)"
      ]
     },
     "execution_count": 6,
     "metadata": {},
     "output_type": "execute_result"
    }
   ],
   "source": [
    "query(fails, s) = filter(row -> occursin(s, row[:log]), fails)    \n",
    "\n",
    "function update_reason!(fails, needle, why)\n",
    "    idxs = findall(row -> occursin(needle, row), fails.log)\n",
    "    fails.why[idxs] .= why\n",
    "    return fails\n",
    "end\n",
    "\n",
    "total_unknown(fails) = count(x -> x.why == Unknown, eachrow(fails))"
   ]
  },
  {
   "cell_type": "code",
   "execution_count": 23,
   "metadata": {},
   "outputs": [],
   "source": [
    "# Generic ones\n",
    "update_reason!(fails, \"Test.detect_ambiguities\", TestAmbiguities)\n",
    "update_reason!(fails, \"Expression: all_doctests()\", DocTest)\n",
    "update_reason!(fails, \"does not match inferred return type\", InferredFailure);\n",
    "update_reason!(fails, \"Expression: isapprox\", ApproxError)\n",
    "update_reason!(fails, \"is ambiguous. Candidates:\", NewAmbiguity)\n",
    "update_reason!(fails, \"Evaluated: \\\"\", PrintingChange)\n",
    "update_reason!(fails, \"Log Test Failed at\", PrintingChange)\n",
    "update_reason!(fails, \"Expression: occursin(r\\\"\", PrintingChange)\n",
    "update_reason!(fails, \"Expression: startswith(\", PrintingChange)\n",
    "\n",
    "\n",
    "update_reason!(fails, \"      Thrown: \", NewExceptionType)\n",
    "update_reason!(fails, \"The requested URL returned error\", DownloadError)\n",
    "update_reason!(fails, \"gzip: stdin: not in gzip format\", DownloadError)\n",
    "\n",
    "# Specific ones for this release\n",
    "update_reason!(fails, \"Params not defined\", IRToolsParams);\n",
    "update_reason!(fails, \"parameter_upper_bound\", ParameterUpperBound);\n",
    "update_reason!(fails, \"Module IR does not contain specified entry function\", ModuleIR);\n",
    "update_reason!(fails, \"Internal error: encountered unexpected error in runtime:\\nBoundsError\", BoundsErrorCompiler\n",
    ");\n",
    "update_reason!(fails, \"@ Cassette\", Cassette)\n",
    "update_reason!(fails, \"/home/pkgeval/.julia/packages/MbedTLS/\", OldMbedTLSSyntax)\n",
    "update_reason!(fails, \"Test.detect_ambiguities\", TestAmbiguities)\n",
    "update_reason!(fails, \"unsupported or misplaced expression \\\"return\\\" in function\", GPUErrors)\n",
    "\n",
    "# Baddies\n",
    "\n",
    "# https://github.com/JuliaDiffusionBayes/DiffusionDefinition.jl/issues/11\n",
    "update_reason!(fails, \"DD.remove_curly(Vector{Float64}) == Array\", BadBoy)\n",
    "update_reason!(fails, \"Unknown observable eltype\", BadBoy)\n",
    "update_reason!(fails, \"ArgumentError: Invalid type: typename(SwingEq)\", BadBoy)\n",
    "update_reason!(fails, \"/home/pkgeval/.julia/packages/Tricks/Omjx9/test/runtests.jl:89\", BadBoy)\n",
    "update_reason!(fails, \"Judycon ~/.julia/packages/Judycon/Zc2IV/src/Judycon.jl:7\", BadBoy)\n",
    "update_reason!(fails, \": Error During Test at /home/pkgeval/.julia/packages/LOLTools/K3Wzy/test/loltools/championmasteryv4.jl:1\", BadBoy)\n",
    "update_reason!(fails, \"/home/pkgeval/.julia/packages/Libtask/Zo6uM/test/ctask.jl:23\", BadBoy)\n",
    "update_reason!(fails, \"~/.julia/packages/MonthlyDates/vCogo/src/MonthlyDates.jl:72\", BadBoy)\n",
    "update_reason!(fails, \"type Method has no field ambig\", BadBoy)\n",
    "update_reason!(fails, \"oadError: UndefVarError: LAST_SHOWN_LINE_INFOS not definedfatal: \", BadBoy)\n",
    "update_reason!(fails, \"/home/pkgeval/.julia/packages/CQLdriver/QjN09/deps/build.jl:1\", BadBoy)\n",
    "update_reason!(fails, \"Cannot `convert` an object of type ForneyLab.Variable to an object of type Symbol\", BadBoy)\n",
    "update_reason!(fails, \"est Failed at /home/pkgeval/.julia/packages/XPORTA/QaHQb/test/integration/filesystem.jl:41\", BadBoy)\n",
    "update_reason!(fails, \"During Test at /home/pkgeval/.julia/packages/AlignedBinaryFormat/Nlf6L/test/runtests.jl:59\", BadBoy)\n",
    "update_reason!(fails, \"ApproximateComputations/fS6jW/src/ASTReplacementApproximation.jl:121\", BadBoy)\n",
    "\n",
    "\n",
    "nothing"
   ]
  },
  {
   "cell_type": "code",
   "execution_count": 24,
   "metadata": {},
   "outputs": [
    {
     "data": {
      "text/plain": [
       "44"
      ]
     },
     "execution_count": 24,
     "metadata": {},
     "output_type": "execute_result"
    }
   ],
   "source": [
    "total_unknown(fails)"
   ]
  },
  {
   "cell_type": "code",
   "execution_count": 26,
   "metadata": {
    "scrolled": true
   },
   "outputs": [
    {
     "data": {
      "text/plain": [
       "20-element Array{String,1}:\n",
       " \"BlobTracking\"\n",
       " \"CORBITS\"\n",
       " \"Cassette\"\n",
       " \"CodeTracking\"\n",
       " \"CombinedParsers\"\n",
       " \"CopositiveAnalyticCenter\"\n",
       " \"CorticalSpectralTemporalResponses\"\n",
       " \"Cthulhu\"\n",
       " \"Darknet\"\n",
       " \"DataAPI\"\n",
       " \"DataFrames\"\n",
       " \"DevIL\"\n",
       " \"DiffEqBiological\"\n",
       " \"DimensionalData\"\n",
       " \"Fermi\"\n",
       " \"GeoGreensFunctions\"\n",
       " \"Graphene\"\n",
       " \"GslibIO\"\n",
       " \"IncompleteLU\"\n",
       " \"InterProcessCommunication\""
      ]
     },
     "execution_count": 26,
     "metadata": {},
     "output_type": "execute_result"
    }
   ],
   "source": [
    "filter(x -> x.why == Unknown, fails).name[1:20]"
   ]
  },
  {
   "cell_type": "code",
   "execution_count": 21,
   "metadata": {
    "scrolled": true
   },
   "outputs": [
    {
     "data": {
      "text/plain": [
       "11"
      ]
     },
     "execution_count": 21,
     "metadata": {},
     "output_type": "execute_result"
    }
   ],
   "source": [
    "count(x -> x.why == ModuleIR, eachrow(query(fails, \"FunctionWrappers\")))"
   ]
  },
  {
   "cell_type": "code",
   "execution_count": 11,
   "metadata": {},
   "outputs": [
    {
     "data": {
      "text/plain": [
       "17-element Array{Any,1}:\n",
       " (58, ParameterUpperBound)\n",
       " (48, Unknown)\n",
       " (40, PrintingChange)\n",
       " (37, ModuleIR)\n",
       " (32, IRToolsParams)\n",
       " (15, DocTest)\n",
       " (13, BadBoy)\n",
       " (12, Cassette)\n",
       " (7, BoundsErrorCompiler)\n",
       " (7, NewAmbiguity)\n",
       " (5, GPUErrors)\n",
       " (5, OldMbedTLSSyntax)\n",
       " (4, NewExceptionType)\n",
       " (3, DownloadError)\n",
       " (3, InferredFailure)\n",
       " (2, ApproxError)\n",
       " (2, TestAmbiguities)"
      ]
     },
     "execution_count": 11,
     "metadata": {},
     "output_type": "execute_result"
    }
   ],
   "source": [
    "z = []\n",
    "for i in instances(FailureType)\n",
    "    n = count(row -> row.why == i, eachrow(fails))\n",
    "    push!(z, (n, i))\n",
    "end\n",
    "sort!(z; rev=true)"
   ]
  }
 ],
 "metadata": {
  "kernelspec": {
   "display_name": "Julia 1.5.0",
   "language": "julia",
   "name": "julia-1.5"
  },
  "language_info": {
   "file_extension": ".jl",
   "mimetype": "application/julia",
   "name": "julia",
   "version": "1.5.0"
  }
 },
 "nbformat": 4,
 "nbformat_minor": 4
}
