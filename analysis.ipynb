{
 "cells": [
  {
   "cell_type": "code",
   "execution_count": 22,
   "metadata": {},
   "outputs": [],
   "source": [
    "using DataFrames, Feather"
   ]
  },
  {
   "cell_type": "code",
   "execution_count": 88,
   "metadata": {},
   "outputs": [
    {
     "name": "stderr",
     "output_type": "stream",
     "text": [
      "WARNING: redefinition of constant GPUErrors. This may fail, cause incorrect answers, or produce other errors.\n",
      "WARNING: redefinition of constant LLVMModuleIR. This may fail, cause incorrect answers, or produce other errors.\n",
      "WARNING: redefinition of constant BoundsErrorCompiler. This may fail, cause incorrect answers, or produce other errors.\n",
      "WARNING: redefinition of constant Cassette. This may fail, cause incorrect answers, or produce other errors.\n"
     ]
    }
   ],
   "source": [
    "@enum FailureType begin\n",
    "    # General ones\n",
    "    Unknown\n",
    "    InferredFailure\n",
    "    PrintingChange\n",
    "    TestAmbiguities\n",
    "    NewAmbiguity\n",
    "    ApproxError\n",
    "    DocTest\n",
    "    NewExceptionType\n",
    "    DownloadError\n",
    "    UnexpectedPass\n",
    "    BadBoy\n",
    "    # Specific\n",
    "    InferenceStackOverFlow\n",
    "    IRTools\n",
    "    LLVMModuleIR\n",
    "    BoundsErrorCompiler\n",
    "    Cassette\n",
    "    GPUErrors\n",
    "end"
   ]
  },
  {
   "cell_type": "code",
   "execution_count": 24,
   "metadata": {
    "scrolled": true
   },
   "outputs": [
    {
     "name": "stdout",
     "output_type": "stream",
     "text": [
      "data/\n",
      "data/primary.feather\n",
      "data/primary.json\n",
      "data/against.feather\n",
      "data/against.json\n"
     ]
    }
   ],
   "source": [
    "if !isdir(\"data\")\n",
    "    run(`tar -xvf data.tar.gz`)\n",
    "end\n",
    "primary  = Feather.read(\"data/primary.feather\");\n",
    "against = Feather.read(\"data/against.feather\");"
   ]
  },
  {
   "cell_type": "code",
   "execution_count": 25,
   "metadata": {},
   "outputs": [],
   "source": [
    "package_results = join(primary, against,\n",
    "     on=:uuid, kind=:left, makeunique=true, indicator=:source);"
   ]
  },
  {
   "cell_type": "code",
   "execution_count": 26,
   "metadata": {},
   "outputs": [],
   "source": [
    "changed_tests = filter(test->test.source == \"both\" &&\n",
    "                 test.status != test.status_1, package_results)\n",
    "fails = changed_tests[changed_tests[!, :status] .== \":fail\", :];\n",
    "sort!(fails , :name);\n",
    "insert!(fails, size(fails, 2), fill(Unknown, size(fails, 1)), :why);"
   ]
  },
  {
   "cell_type": "code",
   "execution_count": 27,
   "metadata": {},
   "outputs": [
    {
     "data": {
      "text/plain": [
       "total_unknown (generic function with 1 method)"
      ]
     },
     "execution_count": 27,
     "metadata": {},
     "output_type": "execute_result"
    }
   ],
   "source": [
    "query(fails, s) = filter(row -> occursin(s, row[:log]), fails)    \n",
    "\n",
    "function update_reason!(fails, needle, why)\n",
    "    idxs = findall(row -> occursin(needle, row), fails.log)\n",
    "    fails.why[idxs] .= why\n",
    "    return fails\n",
    "end\n",
    "\n",
    "total_unknown(fails) = count(x -> x.why == Unknown, eachrow(fails))"
   ]
  },
  {
   "cell_type": "code",
   "execution_count": 89,
   "metadata": {},
   "outputs": [],
   "source": [
    "# Generic ones\n",
    "update_reason!(fails, \"Test.detect_ambiguities\", TestAmbiguities)\n",
    "update_reason!(fails, \"detect_ambiguities(\", TestAmbiguities)\n",
    "\n",
    "update_reason!(fails, \"Expression: all_doctests()\", DocTest)\n",
    "update_reason!(fails, \"does not match inferred return type\", InferredFailure);\n",
    "update_reason!(fails, \"Expression: isapprox\", ApproxError)\n",
    "update_reason!(fails, \"is ambiguous. Candidates:\", NewAmbiguity)\n",
    "update_reason!(fails, \"Evaluated: \\\"\", PrintingChange)\n",
    "update_reason!(fails, \"Log Test Failed at\", PrintingChange)\n",
    "update_reason!(fails, \"Expression: occursin(r\\\"\", PrintingChange)\n",
    "update_reason!(fails, \"Expression: startswith(\", PrintingChange)\n",
    "update_reason!(fails, r\"Expression: (\\N.*?) == \", PrintingChange)\n",
    "update_reason!(fails, \"Evaluated: occursin(\", PrintingChange)\n",
    "update_reason!(fails, \"Evaluated: endswith(\", PrintingChange)\n",
    "update_reason!(fails, \"- DIFF ------------------------\", PrintingChange)\n",
    "\n",
    "update_reason!(fails, \"      Thrown: \", NewExceptionType)\n",
    "update_reason!(fails, \"The requested URL returned error\", DownloadError)\n",
    "update_reason!(fails, \"gzip: stdin: not in gzip format\", DownloadError)\n",
    "update_reason!(fails, \"Unexpected Pass\", UnexpectedPass)\n",
    "\n",
    "# Specific ones for this release\n",
    "update_reason!(fails, \"Params not defined\", IRTools);\n",
    "update_reason!(fails, \"Core.Compiler.IRCode(\", IRTools);\n",
    "update_reason!(fails, \"/.julia/packages/IRTools/\", IRTools);\n",
    "update_reason!(fails, \"Module IR does not contain specified entry function\", LLVMModuleIR);\n",
    "update_reason!(fails, \"Internal error: encountered unexpected error in runtime:\\nBoundsError\", BoundsErrorCompiler\n",
    ");\n",
    "update_reason!(fails, \"@ Cassette\", Cassette)\n",
    "update_reason!(fails, \"Test.detect_ambiguities\", TestAmbiguities)\n",
    "update_reason!(fails, \"unsupported or misplaced expression \\\"return\\\" in function\", GPUErrors)\n",
    "update_reason!(fails, \"intersect_aside at /workspace/srcdir/src/subtype.c:2146\", InferenceStackOverFlow);\n",
    "\n",
    "# Baddies\n",
    "\n",
    "# https://github.com/JuliaDiffusionBayes/DiffusionDefinition.jl/issues/11\n",
    "update_reason!(fails, \"DD.remove_curly(Vector{Float64}) == Array\", BadBoy)\n",
    "update_reason!(fails, \"Unknown observable eltype\", BadBoy)\n",
    "update_reason!(fails, \"ArgumentError: Invalid type: typename(SwingEq)\", BadBoy)\n",
    "update_reason!(fails, \"/home/pkgeval/.julia/packages/Tricks/Omjx9/test/runtests.jl:89\", BadBoy)\n",
    "update_reason!(fails, \"Judycon ~/.julia/packages/Judycon/Zc2IV/src/Judycon.jl:7\", BadBoy)\n",
    "update_reason!(fails, \": Error During Test at /home/pkgeval/.julia/packages/LOLTools/K3Wzy/test/loltools/championmasteryv4.jl:1\", BadBoy)\n",
    "update_reason!(fails, \"/home/pkgeval/.julia/packages/Libtask/Zo6uM/test/ctask.jl:23\", BadBoy)\n",
    "update_reason!(fails, \"~/.julia/packages/MonthlyDates/vCogo/src/MonthlyDates.jl:72\", BadBoy)\n",
    "update_reason!(fails, \"type Method has no field ambig\", BadBoy)\n",
    "update_reason!(fails, \"oadError: UndefVarError: LAST_SHOWN_LINE_INFOS not definedfatal: \", BadBoy)\n",
    "update_reason!(fails, \"/home/pkgeval/.julia/packages/CQLdriver/QjN09/deps/build.jl:1\", BadBoy)\n",
    "update_reason!(fails, \"Cannot `convert` an object of type ForneyLab.Variable to an object of type Symbol\", BadBoy)\n",
    "update_reason!(fails, \"est Failed at /home/pkgeval/.julia/packages/XPORTA/QaHQb/test/integration/filesystem.jl:41\", BadBoy)\n",
    "update_reason!(fails, \"During Test at /home/pkgeval/.julia/packages/AlignedBinaryFormat/Nlf6L/test/runtests.jl:59\", BadBoy)\n",
    "update_reason!(fails, \"ApproximateComputations/fS6jW/src/ASTReplacementApproximation.jl:121\", BadBoy)\n",
    "\n",
    "\n",
    "nothing"
   ]
  },
  {
   "cell_type": "code",
   "execution_count": 90,
   "metadata": {},
   "outputs": [
    {
     "data": {
      "text/plain": [
       "47"
      ]
     },
     "execution_count": 90,
     "metadata": {},
     "output_type": "execute_result"
    }
   ],
   "source": [
    "total_unknown(fails)"
   ]
  },
  {
   "cell_type": "code",
   "execution_count": 86,
   "metadata": {
    "scrolled": true
   },
   "outputs": [
    {
     "data": {
      "text/plain": [
       "16-element Array{String,1}:\n",
       " \"GeoGreensFunctions\"\n",
       " \"GslibIO\"\n",
       " \"HAML\"\n",
       " \"InfiniteLinearAlgebra\"\n",
       " \"InstantiateFromURL\"\n",
       " \"InterProcessCommunication\"\n",
       " \"JuliennedArrays\"\n",
       " \"LLVM\"\n",
       " \"MCMCChains\"\n",
       " \"MLLabelUtils\"\n",
       " \"Memento\"\n",
       " \"NLopt\"\n",
       " \"OhMyREPL\"\n",
       " \"PhaseSpaceIO\"\n",
       " \"PhysicsInformedML\"\n",
       " \"ProximalOperators\""
      ]
     },
     "execution_count": 86,
     "metadata": {},
     "output_type": "execute_result"
    }
   ],
   "source": [
    "filter(x -> x.why == Unknown, fails).name[15:30]"
   ]
  },
  {
   "cell_type": "code",
   "execution_count": 87,
   "metadata": {
    "scrolled": true
   },
   "outputs": [
    {
     "data": {
      "text/plain": [
       "19-element Array{Any,1}:\n",
       " (84, PrintingChange)\n",
       " (47, Unknown)\n",
       " (39, IRTools)\n",
       " (28, LLVMModuleIR)\n",
       " (26, TestAmbiguities)\n",
       " (17, DocTest)\n",
       " (14, GPUErrors)\n",
       " (13, Cassette)\n",
       " (13, InferenceStackOverFlow)\n",
       " (12, BadBoy)\n",
       " (9, NewAmbiguity)\n",
       " (8, BoundsErrorCompiler)\n",
       " (4, NewExceptionType)\n",
       " (2, UnexpectedPass)\n",
       " (2, DownloadError)\n",
       " (2, ApproxError)\n",
       " (2, InferredFailure)\n",
       " (0, OldMbedTLSSyntax)\n",
       " (0, ParameterUpperBound)"
      ]
     },
     "execution_count": 87,
     "metadata": {},
     "output_type": "execute_result"
    }
   ],
   "source": [
    "z = []\n",
    "for i in instances(FailureType)\n",
    "    n = count(row -> row.why == i, eachrow(fails))\n",
    "    push!(z, (n, i))\n",
    "end\n",
    "sort!(z; rev=true)"
   ]
  },
  {
   "cell_type": "code",
   "execution_count": 83,
   "metadata": {},
   "outputs": [
    {
     "data": {
      "text/html": [
       "<table class=\"data-frame\"><thead><tr><th></th><th>julia</th><th>name</th><th>uuid</th></tr><tr><th></th><th>String</th><th>String</th><th>String</th></tr></thead><tbody><p>3 rows × 17 columns (omitted printing of 14 columns)</p><tr><th>1</th><td>v\"1.6.0-DEV-3d1de029bc\"</td><td>ImageInTerminal</td><td>UUID(\"d8c32880-2388-543b-8c61-d9f865259254\")</td></tr><tr><th>2</th><td>v\"1.6.0-DEV-3d1de029bc\"</td><td>MLDataPattern</td><td>UUID(\"9920b226-0b2a-5f5f-9153-9aa70a013f8b\")</td></tr><tr><th>3</th><td>v\"1.6.0-DEV-3d1de029bc\"</td><td>ReferenceTests</td><td>UUID(\"324d217c-45ce-50fc-942e-d289b448e8cf\")</td></tr></tbody></table>"
      ],
      "text/latex": [
       "\\begin{tabular}{r|cccc}\n",
       "\t& julia & name & uuid & \\\\\n",
       "\t\\hline\n",
       "\t& String & String & String & \\\\\n",
       "\t\\hline\n",
       "\t1 & v\"1.6.0-DEV-3d1de029bc\" & ImageInTerminal & UUID(\"d8c32880-2388-543b-8c61-d9f865259254\") & $\\dots$ \\\\\n",
       "\t2 & v\"1.6.0-DEV-3d1de029bc\" & MLDataPattern & UUID(\"9920b226-0b2a-5f5f-9153-9aa70a013f8b\") & $\\dots$ \\\\\n",
       "\t3 & v\"1.6.0-DEV-3d1de029bc\" & ReferenceTests & UUID(\"324d217c-45ce-50fc-942e-d289b448e8cf\") & $\\dots$ \\\\\n",
       "\\end{tabular}\n"
      ],
      "text/plain": [
       "3×17 DataFrame. Omitted printing of 15 columns\n",
       "│ Row │ julia                   │ name            │\n",
       "│     │ \u001b[90mString\u001b[39m                  │ \u001b[90mString\u001b[39m          │\n",
       "├─────┼─────────────────────────┼─────────────────┤\n",
       "│ 1   │ v\"1.6.0-DEV-3d1de029bc\" │ ImageInTerminal │\n",
       "│ 2   │ v\"1.6.0-DEV-3d1de029bc\" │ MLDataPattern   │\n",
       "│ 3   │ v\"1.6.0-DEV-3d1de029bc\" │ ReferenceTests  │"
      ]
     },
     "execution_count": 83,
     "metadata": {},
     "output_type": "execute_result"
    }
   ],
   "source": [
    "query(fails, \"- DIFF ------------------------\")"
   ]
  },
  {
   "cell_type": "code",
   "execution_count": null,
   "metadata": {},
   "outputs": [],
   "source": []
  }
 ],
 "metadata": {
  "kernelspec": {
   "display_name": "Julia 1.5.0",
   "language": "julia",
   "name": "julia-1.5"
  },
  "language_info": {
   "file_extension": ".jl",
   "mimetype": "application/julia",
   "name": "julia",
   "version": "1.5.0"
  }
 },
 "nbformat": 4,
 "nbformat_minor": 4
}
