{
 "cells": [
  {
   "cell_type": "code",
   "execution_count": 91,
   "metadata": {},
   "outputs": [],
   "source": [
    "using DataFrames, Feather"
   ]
  },
  {
   "cell_type": "code",
   "execution_count": 153,
   "metadata": {},
   "outputs": [],
   "source": [
    "@enum FailureType begin\n",
    "    # General ones\n",
    "    Unknown\n",
    "    InferredFailure\n",
    "    PrintingChange\n",
    "    TestAmbiguities\n",
    "    NewAmbiguity\n",
    "    ApproxError\n",
    "    DocTest\n",
    "    NewExceptionType\n",
    "    DownloadError\n",
    "    UnexpectedPass\n",
    "    BadBoy\n",
    "    SyntaxError\n",
    "    VisualRegression\n",
    "    MissingDep\n",
    "    BuildError\n",
    "    UnsatReq\n",
    "    \n",
    "    # Specific\n",
    "    InferenceStackOverFlow\n",
    "    GetIndexExpr\n",
    "    IRTools\n",
    "    LLVMModuleIR\n",
    "    BoundsErrorCompiler\n",
    "    Cassette\n",
    "    GPUErrors\n",
    "    TypeSubtract\n",
    "    OldRevise\n",
    "    Grisu\n",
    "    Formatting\n",
    "    AssertTypeEqual\n",
    "    AssertOpaqueType\n",
    "    AssertJlTypesEqual\n",
    "end"
   ]
  },
  {
   "cell_type": "code",
   "execution_count": 138,
   "metadata": {
    "scrolled": true
   },
   "outputs": [],
   "source": [
    "if !isdir(\"data\")\n",
    "    run(`tar -xvf data.tar.xz`)\n",
    "end\n",
    "primary  = Feather.read(\"data/primary.feather\");\n",
    "against = Feather.read(\"data/against.feather\");"
   ]
  },
  {
   "cell_type": "code",
   "execution_count": 139,
   "metadata": {},
   "outputs": [],
   "source": [
    "package_results = join(primary, against,\n",
    "     on=:uuid, kind=:left, makeunique=true, indicator=:source);"
   ]
  },
  {
   "cell_type": "code",
   "execution_count": 140,
   "metadata": {},
   "outputs": [],
   "source": [
    "changed_tests = filter(test->test.source == \"both\" &&\n",
    "                 test.status != test.status_1, package_results)\n",
    "fails = changed_tests[in.(changed_tests[!, :status], ((\":fail\", \":kill\"),)), :];\n",
    "sort!(fails , :name);\n",
    "insert!(fails, size(fails, 2), fill(Unknown, size(fails, 1)), :why);"
   ]
  },
  {
   "cell_type": "code",
   "execution_count": 141,
   "metadata": {},
   "outputs": [
    {
     "data": {
      "text/plain": [
       "total_unknown (generic function with 1 method)"
      ]
     },
     "execution_count": 141,
     "metadata": {},
     "output_type": "execute_result"
    }
   ],
   "source": [
    "query(fails, s) = filter(row -> occursin(s, row[:log]), fails)    \n",
    "\n",
    "function update_reason!(fails, needle, why)\n",
    "    idxs = findall(row -> occursin(needle, row), fails.log)\n",
    "    fails.why[idxs] .= why\n",
    "    return fails\n",
    "end\n",
    "\n",
    "total_unknown(fails) = count(x -> x.why == Unknown, eachrow(fails))"
   ]
  },
  {
   "cell_type": "code",
   "execution_count": 154,
   "metadata": {},
   "outputs": [],
   "source": [
    "# Generic ones\n",
    "update_reason!(fails, \"Test.detect_ambiguities\", TestAmbiguities)\n",
    "update_reason!(fails, \"detect_ambiguities(\", TestAmbiguities)\n",
    "\n",
    "update_reason!(fails, \"Expression: all_doctests()\", DocTest)\n",
    "update_reason!(fails, \"Error: doctest failure in \", DocTest)\n",
    "\n",
    "update_reason!(fails, \"does not match inferred return type\", InferredFailure);\n",
    "update_reason!(fails, \"Expression: isapprox\", ApproxError)\n",
    "update_reason!(fails, r\"Expression: (\\S*) ≈ (\\S*)\", ApproxError) \n",
    "update_reason!(fails, \"Expression: ≈(\", ApproxError)\n",
    "    \n",
    "update_reason!(fails, \"is ambiguous. Candidates:\", NewAmbiguity)\n",
    "update_reason!(fails, \" ambiguities found\", NewAmbiguity)\n",
    "\n",
    "update_reason!(fails, \"Unsatisfiable requirements detected for package\", UnsatReq)\n",
    "\n",
    "\n",
    "\n",
    "update_reason!(fails, \"Evaluated: \\\"\", PrintingChange)\n",
    "update_reason!(fails, \"Log Test Failed at\", PrintingChange)\n",
    "update_reason!(fails, \"Expression: occursin(r\\\"\", PrintingChange)\n",
    "update_reason!(fails, \"Expression: startswith(\", PrintingChange)\n",
    "update_reason!(fails, r\"Expression: (\\N.*?) == \", PrintingChange)\n",
    "update_reason!(fails, \"Evaluated: occursin(\", PrintingChange)\n",
    "update_reason!(fails, \"Evaluated: endswith(\", PrintingChange)\n",
    "update_reason!(fails, \"- DIFF ------------------------\", PrintingChange)\n",
    "update_reason!(fails, \"LoadError: syntax\", SyntaxError)\n",
    "\n",
    "update_reason!(fails, \"Image did not match reference image\", VisualRegression)\n",
    "\n",
    "update_reason!(fails, \"      Thrown: \", NewExceptionType)\n",
    "update_reason!(fails, \"The requested URL returned error\", DownloadError)\n",
    "update_reason!(fails, \"gzip: stdin: not in gzip format\", DownloadError)\n",
    "update_reason!(fails, \"Unexpected Pass\", UnexpectedPass)\n",
    "\n",
    "update_reason!(fails, \"Error building \", BuildError)\n",
    "\n",
    "\n",
    "\n",
    "# Specific ones for this release\n",
    "update_reason!(fails, \"Params not defined\", IRTools);\n",
    "update_reason!(fails, \"Core.Compiler.IRCode(\", IRTools);\n",
    "update_reason!(fails, \"/.julia/packages/IRTools/\", IRTools);\n",
    "update_reason!(fails, \"Module IR does not contain specified entry function\", LLVMModuleIR);\n",
    "update_reason!(fails, \"Internal error: encountered unexpected error in runtime:\\nBoundsError\", BoundsErrorCompiler\n",
    ");\n",
    "update_reason!(fails, \"@ Cassette\", Cassette)\n",
    "update_reason!(fails, \"Test.detect_ambiguities\", TestAmbiguities)\n",
    "update_reason!(fails, \"unsupported or misplaced expression \\\"return\\\" in function\", GPUErrors)\n",
    "update_reason!(fails, \"intersect_aside\", InferenceStackOverFlow);\n",
    "\n",
    "update_reason!(fails, \"no method matching typesubtract\", TypeSubtract);\n",
    "update_reason!(fails, \"MethodError(Core.Compiler.typesubtract\", TypeSubtract);\n",
    "\n",
    "update_reason!(fails, r\"Package (\\S.*) not found in current path:\", MissingDep);\n",
    "\n",
    "\n",
    "\n",
    "update_reason!(fails, \"MethodError: no method matching Base.TOMLCache()\", OldRevise)\n",
    "update_reason!(fails, \"UndefVarError: Grisu not defined\", Grisu)\n",
    "update_reason!(fails, \"MethodError: no method matching parse(::String)\", Formatting)\n",
    "update_reason!(fails, \"ERROR: LoadError: LoadError: MethodError: no method matching getindex(::Expr, ::Int64)\", GetIndexExpr)\n",
    "\n",
    "\n",
    "update_reason!(fails, \"jl_types_equal at /workspace/srcdir/src/subtype.c:1987\", AssertTypeEqual)\n",
    "update_reason!(fails, \"opaque types should have been handled specially\", AssertOpaqueType)\n",
    "update_reason!(fails, \"Assertion `!jl_types_equal(mi->specTypes, type)\", AssertJlTypesEqual)\n",
    "\n",
    "# Baddies\n",
    "\n",
    "# https://github.com/JuliaDiffusionBayes/DiffusionDefinition.jl/issues/11\n",
    "update_reason!(fails, \"DD.remove_curly(Vector{Float64}) == Array\", BadBoy)\n",
    "update_reason!(fails, \"Unknown observable eltype\", BadBoy)\n",
    "update_reason!(fails, \"ArgumentError: Invalid type: typename(SwingEq)\", BadBoy)\n",
    "update_reason!(fails, \"/home/pkgeval/.julia/packages/Tricks/Omjx9/test/runtests.jl:89\", BadBoy)\n",
    "update_reason!(fails, \"Judycon ~/.julia/packages/Judycon/Zc2IV/src/Judycon.jl:7\", BadBoy)\n",
    "update_reason!(fails, \": Error During Test at /home/pkgeval/.julia/packages/LOLTools/K3Wzy/test/loltools/championmasteryv4.jl:1\", BadBoy)\n",
    "update_reason!(fails, \"/home/pkgeval/.julia/packages/Libtask/Zo6uM/test/ctask.jl:23\", BadBoy)\n",
    "update_reason!(fails, \"~/.julia/packages/MonthlyDates/vCogo/src/MonthlyDates.jl:72\", BadBoy)\n",
    "update_reason!(fails, \"type Method has no field ambig\", BadBoy)\n",
    "update_reason!(fails, \"oadError: UndefVarError: LAST_SHOWN_LINE_INFOS not definedfatal: \", BadBoy)\n",
    "update_reason!(fails, \"/home/pkgeval/.julia/packages/CQLdriver/QjN09/deps/build.jl:1\", BadBoy)\n",
    "update_reason!(fails, \"Cannot `convert` an object of type ForneyLab.Variable to an object of type Symbol\", BadBoy)\n",
    "update_reason!(fails, \"est Failed at /home/pkgeval/.julia/packages/XPORTA/QaHQb/test/integration/filesystem.jl:41\", BadBoy)\n",
    "update_reason!(fails, \"During Test at /home/pkgeval/.julia/packages/AlignedBinaryFormat/Nlf6L/test/runtests.jl:59\", BadBoy)\n",
    "update_reason!(fails, \"ApproximateComputations/fS6jW/src/ASTReplacementApproximation.jl:121\", BadBoy)\n",
    "update_reason!(fails, \"type OptimizationState has no field params\", BadBoy)\n",
    "\n",
    "\n",
    "\n",
    "nothing"
   ]
  },
  {
   "cell_type": "code",
   "execution_count": 164,
   "metadata": {},
   "outputs": [
    {
     "data": {
      "text/plain": [
       "12-element Array{String,1}:\n",
       " \"AdvancedVI\"\n",
       " \"BlackBoxOptim\"\n",
       " \"CalibrationTests\"\n",
       " \"ConvexBodyProximityQueries\"\n",
       " \"DeterminantalPointProcesses\"\n",
       " \"FastTransforms\"\n",
       " \"FeynmanKacParticleFilters\"\n",
       " \"FiniteDifferences\"\n",
       " \"FunctionOperators\"\n",
       " \"GPLinearODEMaker\"\n",
       " \"GeneticVariation\"\n",
       " \"HMMBase\""
      ]
     },
     "execution_count": 164,
     "metadata": {},
     "output_type": "execute_result"
    }
   ],
   "source": [
    "issues_opened = [\n",
    "    \"AbstractNumbers\", # https://github.com/SimonDanisch/AbstractNumbers.jl/issues/12\n",
    "    \"ArchGDAL\", # https://github.com/yeesian/ArchGDAL.jl/issues/154\n",
    "    \"AutomotiveSimulator\", #https://github.com/JuliaLang/julia/issues/38422\n",
    "    \"BilevelJuMP\", # https://github.com/jump-dev/MathOptInterface.jl/pull/1197\n",
    "    \"DataTypesBasic\", # https://github.com/JuliaLang/julia/issues/38423\n",
    "    \"Emoji_Entities\", #https://github.com/JuliaString/Emoji_Entities.jl/issues/18\n",
    "    \"Contour\", #https://github.com/JuliaGeometry/Contour.jl/issues/62\n",
    "    \"Continuables\", # https://github.com/JuliaLang/julia/issues/38423\n",
    "    \"DoubleFloats\", # https://github.com/JuliaMath/DoubleFloats.jl/issues/112\n",
    "    \"DevIL\", # https://github.com/JuliaGL/DevIL.jl/pull/4,\n",
    "    \"EAGO\", # https://github.com/PSORLab/EAGO.jl/issues/58\n",
    "    \"ExponentialUtilities\", # https://github.com/JuliaLang/julia/issues/38426\n",
    "    \"Formatting\", #https://github.com/JuliaIO/Formatting.jl/pull/88\n",
    "    \"Rotations\", # https://github.com/JuliaGeometry/Rotations.jl/issues/133\n",
    "    \"Memento\", # https://github.com/invenia/Memento.jl/pull/165\n",
    "    \"IonBase\", # https://github.com/Roger-luo/IonBase.jl/pull/8\n",
    "    \"MLLabelUtils\", # https://github.com/JuliaML/MLLabelUtils.jl/pull/41\n",
    "    \"GAP\", # https://github.com/oscar-system/GAP.jl/issues/560\n",
    "    \"DataStructures\", # https://github.com/JuliaCollections/DataStructures.jl/issues/703\n",
    "    \"DataTypesBasic\", # https://github.com/JuliaLang/julia/issues/38423\n",
    "]\n",
    "\n",
    "likely_tol = [\n",
    "    \"AdvancedVI\",\n",
    "    \"BlackBoxOptim\",\n",
    "    \"CalibrationTests\",\n",
    "    \"ConvexBodyProximityQueries\",\n",
    "    \"DeterminantalPointProcesses\",\n",
    "    \"FastTransforms\",\n",
    "    \"FeynmanKacParticleFilters\",\n",
    "    \"FiniteDifferences\",\n",
    "    \"FunctionOperators\",\n",
    "    \"GPLinearODEMaker\",\n",
    "    \"GeneticVariation\",\n",
    "    \"HMMBase\"\n",
    "    \n",
    "]"
   ]
  },
  {
   "cell_type": "code",
   "execution_count": 165,
   "metadata": {},
   "outputs": [
    {
     "data": {
      "text/plain": [
       "80"
      ]
     },
     "execution_count": 165,
     "metadata": {},
     "output_type": "execute_result"
    }
   ],
   "source": [
    "total_unknown(fails)"
   ]
  },
  {
   "cell_type": "code",
   "execution_count": 166,
   "metadata": {
    "scrolled": true
   },
   "outputs": [
    {
     "data": {
      "text/plain": [
       "11-element Array{String,1}:\n",
       " \"CartesianGeneticProgramming\"\n",
       " \"Cassette\"\n",
       " \"CodeTransformation\"\n",
       " \"CombinedParsers\"\n",
       " \"Continuables\"\n",
       " \"Convex1d\"\n",
       " \"ConvexBodyProximityQueries\"\n",
       " \"DataStructures\"\n",
       " \"DataTypesBasic\"\n",
       " \"DeterminantalPointProcesses\"\n",
       " \"DiffEqOperators\""
      ]
     },
     "execution_count": 166,
     "metadata": {},
     "output_type": "execute_result"
    }
   ],
   "source": [
    "filter(x -> x.why == Unknown, fails).name[end-70:end-60]"
   ]
  },
  {
   "cell_type": "code",
   "execution_count": 167,
   "metadata": {
    "scrolled": true
   },
   "outputs": [
    {
     "data": {
      "text/plain": [
       "25-element Array{Any,1}:\n",
       " (117, PrintingChange)\n",
       " (85, AssertTypeEqual)\n",
       " (80, Unknown)\n",
       " (50, IRTools)\n",
       " (39, LLVMModuleIR)\n",
       " (16, DocTest)\n",
       " (15, ApproxError)\n",
       " (14, BuildError)\n",
       " (11, UnsatReq)\n",
       " (10, Formatting)\n",
       " (10, BadBoy)\n",
       " (9, Cassette)\n",
       " (8, Grisu)\n",
       " (5, VisualRegression)\n",
       " (5, NewExceptionType)\n",
       " (4, OldRevise)\n",
       " (4, NewAmbiguity)\n",
       " (3, AssertJlTypesEqual)\n",
       " (3, MissingDep)\n",
       " (3, TestAmbiguities)\n",
       " (2, SyntaxError)\n",
       " (1, AssertOpaqueType)\n",
       " (1, BoundsErrorCompiler)\n",
       " (1, GetIndexExpr)\n",
       " (1, InferredFailure)"
      ]
     },
     "execution_count": 167,
     "metadata": {},
     "output_type": "execute_result"
    }
   ],
   "source": [
    "z = []\n",
    "for i in instances(FailureType)\n",
    "    n = count(row -> row.why == i, eachrow(fails))\n",
    "    n == 0 || push!(z, (n, i))\n",
    "end\n",
    "sort!(z; rev=true)"
   ]
  },
  {
   "cell_type": "code",
   "execution_count": 168,
   "metadata": {},
   "outputs": [
    {
     "name": "stdout",
     "output_type": "stream",
     "text": [
      "length(d) = 66\n",
      "AWSSQS\n",
      "Alpaca\n",
      "BifurcationKit\n",
      "BlobTracking\n",
      "CBindingGen\n",
      "CMPlot\n",
      "CairoMakie\n",
      "CartesianGeneticProgramming\n",
      "Cassette\n",
      "CodeTransformation\n",
      "CombinedParsers\n",
      "Convex1d\n",
      "DiffEqOperators\n",
      "DynamicPolynomials\n",
      "Enzyme\n",
      "FTPClient\n",
      "GPUArrays\n",
      "GenericSchur\n",
      "Gridap\n",
      "GridapEmbedded\n",
      "GridapODEs\n",
      "GroebnerBasis\n",
      "HTTP\n",
      "IPython\n",
      "IncrementalInference\n",
      "InfiniteLinearAlgebra\n",
      "IntervalConstraintProgramming\n",
      "IterativeSolvers\n",
      "JetPackDSP\n",
      "JsonGrinder\n",
      "KVectors\n",
      "LLVM\n",
      "Laplacians\n",
      "Libtask\n",
      "LinearDynamicsModels\n",
      "MCAnalyzer\n",
      "Matcha\n",
      "MathOptFormat\n",
      "MixedModels\n",
      "MultivariatePolynomials\n",
      "NeuralNetDiffEq\n",
      "OceanTurb\n",
      "OhMyREPL\n",
      "Oscar\n",
      "PencilFFTs\n",
      "Plotly\n",
      "Polymake\n",
      "PrincipalMomentAnalysisApp\n",
      "ProbabilisticCircuits\n",
      "Probably\n",
      "ProximalOperators\n",
      "PushVectors\n",
      "QuantLib\n",
      "Quante\n",
      "RoME\n",
      "SparseDiffTools\n",
      "StaticLint\n",
      "StochasticDiffEq\n",
      "SymbolServer\n",
      "SymbolicUtils\n",
      "SystemBenchmark\n",
      "Tar\n",
      "TexTables\n",
      "TropicalYao\n",
      "VideoIO\n",
      "YaoArrayRegister"
     ]
    }
   ],
   "source": [
    "d = filter(x -> x.why == Unknown, fails).name\n",
    "d = filter(!in(issues_opened), d)\n",
    "d = filter(!in(likely_tol), d)\n",
    "@show length(d)\n",
    "join(d, '\\n') |> print"
   ]
  },
  {
   "cell_type": "code",
   "execution_count": 172,
   "metadata": {},
   "outputs": [
    {
     "data": {
      "text/plain": [
       "39-element Array{String,1}:\n",
       " \"ASE\"\n",
       " \"AccurateArithmetic\"\n",
       " \"Blades\"\n",
       " \"Catalyst\"\n",
       " \"Catlab\"\n",
       " \"DECAES\"\n",
       " \"DiffEqBiological\"\n",
       " \"DiffEqJump\"\n",
       " \"DiffEqSensitivity\"\n",
       " \"DiscreteDifferentialGeometry\"\n",
       " \"FastRecurFlux\"\n",
       " \"FinEtools\"\n",
       " \"FunctionWrappers\"\n",
       " ⋮\n",
       " \"RecursiveFactorization\"\n",
       " \"ReverseDiff\"\n",
       " \"SIMDPirates\"\n",
       " \"SLEEFPirates\"\n",
       " \"Scrypt\"\n",
       " \"SlidingDistancesBase\"\n",
       " \"TensorCast\"\n",
       " \"Tracking\"\n",
       " \"Trixi2Img\"\n",
       " \"Trixi2Vtk\"\n",
       " \"VectorizationBase\"\n",
       " \"VectorizedRNG\""
      ]
     },
     "execution_count": 172,
     "metadata": {},
     "output_type": "execute_result"
    }
   ],
   "source": [
    "filter(x -> x.why == LLVMModuleIR, fails).name |> (x -> join(x, '\\n')) |> print"
   ]
  },
  {
   "cell_type": "code",
   "execution_count": 25,
   "metadata": {},
   "outputs": [
    {
     "data": {
      "text/html": [
       "<table class=\"data-frame\"><thead><tr><th></th><th>julia</th><th>name</th><th>uuid</th></tr><tr><th></th><th>String</th><th>String</th><th>String</th></tr></thead><tbody><p>322 rows × 17 columns (omitted printing of 14 columns)</p><tr><th>1</th><td>v\"1.6.0-DEV-3d1de029bc\"</td><td>ARCHModels</td><td>UUID(\"6d3278bc-c23a-5105-85e5-0d57d2bf684f\")</td></tr><tr><th>2</th><td>v\"1.6.0-DEV-3d1de029bc\"</td><td>ASE</td><td>UUID(\"51974c44-a7ed-5088-b8be-3e78c8ba416c\")</td></tr><tr><th>3</th><td>v\"1.6.0-DEV-3d1de029bc\"</td><td>AbstractGPs</td><td>UUID(\"99985d1d-32ba-4be9-9821-2ec096f28918\")</td></tr><tr><th>4</th><td>v\"1.6.0-DEV-3d1de029bc\"</td><td>AbstractMCMC</td><td>UUID(\"80f14c24-f653-4e6a-9b94-39d6b0f70001\")</td></tr><tr><th>5</th><td>v\"1.6.0-DEV-3d1de029bc\"</td><td>AbstractTrees</td><td>UUID(\"1520ce14-60c1-5f80-bbc7-55ef81b5835c\")</td></tr><tr><th>6</th><td>v\"1.6.0-DEV-3d1de029bc\"</td><td>AcceleratedArrays</td><td>UUID(\"44e12807-9a19-5591-91cf-c1b4fb89ce64\")</td></tr><tr><th>7</th><td>v\"1.6.0-DEV-3d1de029bc\"</td><td>AccurateArithmetic</td><td>UUID(\"22286c92-06ac-501d-9306-4abd417d9753\")</td></tr><tr><th>8</th><td>v\"1.6.0-DEV-3d1de029bc\"</td><td>AdversarialPrediction</td><td>UUID(\"ad42c870-428c-46ff-ae37-01b7349146a9\")</td></tr><tr><th>9</th><td>v\"1.6.0-DEV-3d1de029bc\"</td><td>Amb</td><td>UUID(\"c42f9944-9a8f-11e9-2851-1930a3e1c813\")</td></tr><tr><th>10</th><td>v\"1.6.0-DEV-3d1de029bc\"</td><td>ApproximateComputations</td><td>UUID(\"49d1aae2-ae6b-5d26-a063-7cf6630cf99c\")</td></tr><tr><th>11</th><td>v\"1.6.0-DEV-3d1de029bc\"</td><td>ArgParse</td><td>UUID(\"c7e460c6-2fb9-53a9-8c5b-16f535851c63\")</td></tr><tr><th>12</th><td>v\"1.6.0-DEV-3d1de029bc\"</td><td>Augmentor</td><td>UUID(\"02898b10-1f73-11ea-317c-6393d7073e15\")</td></tr><tr><th>13</th><td>v\"1.6.0-DEV-3d1de029bc\"</td><td>AxisArrays</td><td>UUID(\"39de3d68-74b9-583c-8d2d-e117c070f3a9\")</td></tr><tr><th>14</th><td>v\"1.6.0-DEV-3d1de029bc\"</td><td>AxisIndices</td><td>UUID(\"f52c9ee2-1b1c-4fd8-8546-6350938c7f11\")</td></tr><tr><th>15</th><td>v\"1.6.0-DEV-3d1de029bc\"</td><td>BSON</td><td>UUID(\"fbb218c0-5317-5bc6-957e-2ee96dd4b1f0\")</td></tr><tr><th>16</th><td>v\"1.6.0-DEV-3d1de029bc\"</td><td>BSONqs</td><td>UUID(\"d4e7598c-6ff7-5b24-8fdc-8d1c0c33c9cf\")</td></tr><tr><th>17</th><td>v\"1.6.0-DEV-3d1de029bc\"</td><td>BandedMatrices</td><td>UUID(\"aae01518-5342-5314-be14-df237901396f\")</td></tr><tr><th>18</th><td>v\"1.6.0-DEV-3d1de029bc\"</td><td>Baselet</td><td>UUID(\"9718e550-a3fa-408a-8086-8db961cd8217\")</td></tr><tr><th>19</th><td>v\"1.6.0-DEV-3d1de029bc\"</td><td>BayesianLinearRegressors</td><td>UUID(\"f579363c-4606-5e5c-a623-c4549f609c4b\")</td></tr><tr><th>20</th><td>v\"1.6.0-DEV-3d1de029bc\"</td><td>BayesianOptimization</td><td>UUID(\"4c6ed407-134f-591c-93fa-e0f7c164a0ec\")</td></tr><tr><th>21</th><td>v\"1.6.0-DEV-3d1de029bc\"</td><td>BenchmarkTools</td><td>UUID(\"6e4b80f9-dd63-53aa-95a3-0cdb28fa8baf\")</td></tr><tr><th>22</th><td>v\"1.6.0-DEV-3d1de029bc\"</td><td>BetaML</td><td>UUID(\"024491cd-cc6b-443e-8034-08ea7eb7db2b\")</td></tr><tr><th>23</th><td>v\"1.6.0-DEV-3d1de029bc\"</td><td>BifurcationKit</td><td>UUID(\"0f109fa4-8a5d-4b75-95aa-f515264e7665\")</td></tr><tr><th>24</th><td>v\"1.6.0-DEV-3d1de029bc\"</td><td>Bijectors</td><td>UUID(\"76274a88-744f-5084-9051-94815aaf08c4\")</td></tr><tr><th>25</th><td>v\"1.6.0-DEV-3d1de029bc\"</td><td>BilevelOptimization</td><td>UUID(\"98803d92-2a2a-5e5c-9642-fb423c87776e\")</td></tr><tr><th>26</th><td>v\"1.6.0-DEV-3d1de029bc\"</td><td>BinningAnalysis</td><td>UUID(\"b7192094-8e58-5052-a244-180a858778ee\")</td></tr><tr><th>27</th><td>v\"1.6.0-DEV-3d1de029bc\"</td><td>BioAlignments</td><td>UUID(\"00701ae9-d1dc-5365-b64a-a3a3ebf5695e\")</td></tr><tr><th>28</th><td>v\"1.6.0-DEV-3d1de029bc\"</td><td>BirkhoffDecomposition</td><td>UUID(\"7095a2e3-0a7f-4f3b-b61c-705d32c2f8a5\")</td></tr><tr><th>29</th><td>v\"1.6.0-DEV-3d1de029bc\"</td><td>Blades</td><td>UUID(\"ab78ad86-d995-11e9-19c2-2d9731c36d75\")</td></tr><tr><th>30</th><td>v\"1.6.0-DEV-3d1de029bc\"</td><td>BlockDiagonals</td><td>UUID(\"0a1fb500-61f7-11e9-3c65-f5ef3456f9f0\")</td></tr><tr><th>&vellip;</th><td>&vellip;</td><td>&vellip;</td><td>&vellip;</td></tr></tbody></table>"
      ],
      "text/latex": [
       "\\begin{tabular}{r|cccc}\n",
       "\t& julia & name & uuid & \\\\\n",
       "\t\\hline\n",
       "\t& String & String & String & \\\\\n",
       "\t\\hline\n",
       "\t1 & v\"1.6.0-DEV-3d1de029bc\" & ARCHModels & UUID(\"6d3278bc-c23a-5105-85e5-0d57d2bf684f\") & $\\dots$ \\\\\n",
       "\t2 & v\"1.6.0-DEV-3d1de029bc\" & ASE & UUID(\"51974c44-a7ed-5088-b8be-3e78c8ba416c\") & $\\dots$ \\\\\n",
       "\t3 & v\"1.6.0-DEV-3d1de029bc\" & AbstractGPs & UUID(\"99985d1d-32ba-4be9-9821-2ec096f28918\") & $\\dots$ \\\\\n",
       "\t4 & v\"1.6.0-DEV-3d1de029bc\" & AbstractMCMC & UUID(\"80f14c24-f653-4e6a-9b94-39d6b0f70001\") & $\\dots$ \\\\\n",
       "\t5 & v\"1.6.0-DEV-3d1de029bc\" & AbstractTrees & UUID(\"1520ce14-60c1-5f80-bbc7-55ef81b5835c\") & $\\dots$ \\\\\n",
       "\t6 & v\"1.6.0-DEV-3d1de029bc\" & AcceleratedArrays & UUID(\"44e12807-9a19-5591-91cf-c1b4fb89ce64\") & $\\dots$ \\\\\n",
       "\t7 & v\"1.6.0-DEV-3d1de029bc\" & AccurateArithmetic & UUID(\"22286c92-06ac-501d-9306-4abd417d9753\") & $\\dots$ \\\\\n",
       "\t8 & v\"1.6.0-DEV-3d1de029bc\" & AdversarialPrediction & UUID(\"ad42c870-428c-46ff-ae37-01b7349146a9\") & $\\dots$ \\\\\n",
       "\t9 & v\"1.6.0-DEV-3d1de029bc\" & Amb & UUID(\"c42f9944-9a8f-11e9-2851-1930a3e1c813\") & $\\dots$ \\\\\n",
       "\t10 & v\"1.6.0-DEV-3d1de029bc\" & ApproximateComputations & UUID(\"49d1aae2-ae6b-5d26-a063-7cf6630cf99c\") & $\\dots$ \\\\\n",
       "\t11 & v\"1.6.0-DEV-3d1de029bc\" & ArgParse & UUID(\"c7e460c6-2fb9-53a9-8c5b-16f535851c63\") & $\\dots$ \\\\\n",
       "\t12 & v\"1.6.0-DEV-3d1de029bc\" & Augmentor & UUID(\"02898b10-1f73-11ea-317c-6393d7073e15\") & $\\dots$ \\\\\n",
       "\t13 & v\"1.6.0-DEV-3d1de029bc\" & AxisArrays & UUID(\"39de3d68-74b9-583c-8d2d-e117c070f3a9\") & $\\dots$ \\\\\n",
       "\t14 & v\"1.6.0-DEV-3d1de029bc\" & AxisIndices & UUID(\"f52c9ee2-1b1c-4fd8-8546-6350938c7f11\") & $\\dots$ \\\\\n",
       "\t15 & v\"1.6.0-DEV-3d1de029bc\" & BSON & UUID(\"fbb218c0-5317-5bc6-957e-2ee96dd4b1f0\") & $\\dots$ \\\\\n",
       "\t16 & v\"1.6.0-DEV-3d1de029bc\" & BSONqs & UUID(\"d4e7598c-6ff7-5b24-8fdc-8d1c0c33c9cf\") & $\\dots$ \\\\\n",
       "\t17 & v\"1.6.0-DEV-3d1de029bc\" & BandedMatrices & UUID(\"aae01518-5342-5314-be14-df237901396f\") & $\\dots$ \\\\\n",
       "\t18 & v\"1.6.0-DEV-3d1de029bc\" & Baselet & UUID(\"9718e550-a3fa-408a-8086-8db961cd8217\") & $\\dots$ \\\\\n",
       "\t19 & v\"1.6.0-DEV-3d1de029bc\" & BayesianLinearRegressors & UUID(\"f579363c-4606-5e5c-a623-c4549f609c4b\") & $\\dots$ \\\\\n",
       "\t20 & v\"1.6.0-DEV-3d1de029bc\" & BayesianOptimization & UUID(\"4c6ed407-134f-591c-93fa-e0f7c164a0ec\") & $\\dots$ \\\\\n",
       "\t21 & v\"1.6.0-DEV-3d1de029bc\" & BenchmarkTools & UUID(\"6e4b80f9-dd63-53aa-95a3-0cdb28fa8baf\") & $\\dots$ \\\\\n",
       "\t22 & v\"1.6.0-DEV-3d1de029bc\" & BetaML & UUID(\"024491cd-cc6b-443e-8034-08ea7eb7db2b\") & $\\dots$ \\\\\n",
       "\t23 & v\"1.6.0-DEV-3d1de029bc\" & BifurcationKit & UUID(\"0f109fa4-8a5d-4b75-95aa-f515264e7665\") & $\\dots$ \\\\\n",
       "\t24 & v\"1.6.0-DEV-3d1de029bc\" & Bijectors & UUID(\"76274a88-744f-5084-9051-94815aaf08c4\") & $\\dots$ \\\\\n",
       "\t25 & v\"1.6.0-DEV-3d1de029bc\" & BilevelOptimization & UUID(\"98803d92-2a2a-5e5c-9642-fb423c87776e\") & $\\dots$ \\\\\n",
       "\t26 & v\"1.6.0-DEV-3d1de029bc\" & BinningAnalysis & UUID(\"b7192094-8e58-5052-a244-180a858778ee\") & $\\dots$ \\\\\n",
       "\t27 & v\"1.6.0-DEV-3d1de029bc\" & BioAlignments & UUID(\"00701ae9-d1dc-5365-b64a-a3a3ebf5695e\") & $\\dots$ \\\\\n",
       "\t28 & v\"1.6.0-DEV-3d1de029bc\" & BirkhoffDecomposition & UUID(\"7095a2e3-0a7f-4f3b-b61c-705d32c2f8a5\") & $\\dots$ \\\\\n",
       "\t29 & v\"1.6.0-DEV-3d1de029bc\" & Blades & UUID(\"ab78ad86-d995-11e9-19c2-2d9731c36d75\") & $\\dots$ \\\\\n",
       "\t30 & v\"1.6.0-DEV-3d1de029bc\" & BlockDiagonals & UUID(\"0a1fb500-61f7-11e9-3c65-f5ef3456f9f0\") & $\\dots$ \\\\\n",
       "\t$\\dots$ & $\\dots$ & $\\dots$ & $\\dots$ &  \\\\\n",
       "\\end{tabular}\n"
      ],
      "text/plain": [
       "322×17 DataFrame. Omitted printing of 15 columns\n",
       "│ Row │ julia                   │ name                    │\n",
       "│     │ \u001b[90mString\u001b[39m                  │ \u001b[90mString\u001b[39m                  │\n",
       "├─────┼─────────────────────────┼─────────────────────────┤\n",
       "│ 1   │ v\"1.6.0-DEV-3d1de029bc\" │ ARCHModels              │\n",
       "│ 2   │ v\"1.6.0-DEV-3d1de029bc\" │ ASE                     │\n",
       "│ 3   │ v\"1.6.0-DEV-3d1de029bc\" │ AbstractGPs             │\n",
       "│ 4   │ v\"1.6.0-DEV-3d1de029bc\" │ AbstractMCMC            │\n",
       "│ 5   │ v\"1.6.0-DEV-3d1de029bc\" │ AbstractTrees           │\n",
       "│ 6   │ v\"1.6.0-DEV-3d1de029bc\" │ AcceleratedArrays       │\n",
       "│ 7   │ v\"1.6.0-DEV-3d1de029bc\" │ AccurateArithmetic      │\n",
       "│ 8   │ v\"1.6.0-DEV-3d1de029bc\" │ AdversarialPrediction   │\n",
       "│ 9   │ v\"1.6.0-DEV-3d1de029bc\" │ Amb                     │\n",
       "│ 10  │ v\"1.6.0-DEV-3d1de029bc\" │ ApproximateComputations │\n",
       "⋮\n",
       "│ 312 │ v\"1.6.0-DEV-3d1de029bc\" │ VectorizedRNG           │\n",
       "│ 313 │ v\"1.6.0-DEV-3d1de029bc\" │ VideoIO                 │\n",
       "│ 314 │ v\"1.6.0-DEV-3d1de029bc\" │ VoronoiFVM              │\n",
       "│ 315 │ v\"1.6.0-DEV-3d1de029bc\" │ XPORTA                  │\n",
       "│ 316 │ v\"1.6.0-DEV-3d1de029bc\" │ YOLO                    │\n",
       "│ 317 │ v\"1.6.0-DEV-3d1de029bc\" │ YaoLang                 │\n",
       "│ 318 │ v\"1.6.0-DEV-3d1de029bc\" │ YaoSym                  │\n",
       "│ 319 │ v\"1.6.0-DEV-3d1de029bc\" │ Yota                    │\n",
       "│ 320 │ v\"1.6.0-DEV-3d1de029bc\" │ Zeros                   │\n",
       "│ 321 │ v\"1.6.0-DEV-3d1de029bc\" │ ZipFile                 │\n",
       "│ 322 │ v\"1.6.0-DEV-3d1de029bc\" │ ZygoteStructArrays      │"
      ]
     },
     "execution_count": 25,
     "metadata": {},
     "output_type": "execute_result"
    }
   ],
   "source": [
    "fails"
   ]
  },
  {
   "cell_type": "code",
   "execution_count": 29,
   "metadata": {},
   "outputs": [
    {
     "data": {
      "text/plain": [
       "6-element Array{String,1}:\n",
       " \"QBase\"\n",
       " \"QML\"\n",
       " \"Quadrature\"\n",
       " \"QuantReg\"\n",
       " \"QuasiArrays\"\n",
       " \"QuasiNewtonMethods\""
      ]
     },
     "execution_count": 29,
     "metadata": {},
     "output_type": "execute_result"
    }
   ],
   "source": [
    "filter(startswith('Q'), fails.name)"
   ]
  },
  {
   "cell_type": "code",
   "execution_count": 33,
   "metadata": {},
   "outputs": [
    {
     "data": {
      "text/plain": [
       "9-element Array{String,1}:\n",
       " \"QuadraticToBinary\"\n",
       " \"QML\"\n",
       " \"QuasiArrays\"\n",
       " \"QBase\"\n",
       " \"Quadrature\"\n",
       " \"Quante\"\n",
       " \"QHull\"\n",
       " \"QuasiNewtonMethods\"\n",
       " \"QuantReg\""
      ]
     },
     "execution_count": 33,
     "metadata": {},
     "output_type": "execute_result"
    }
   ],
   "source": [
    "changed_tests = filter(test->test.source == \"both\" &&\n",
    "                 test.status != test.status_1, package_results)\n",
    "filter(startswith('Q'), changed_tests.status)"
   ]
  },
  {
   "cell_type": "code",
   "execution_count": 12,
   "metadata": {},
   "outputs": [
    {
     "data": {
      "text/html": [
       "<table class=\"data-frame\"><thead><tr><th></th><th>julia</th><th>name</th><th>uuid</th></tr><tr><th></th><th>String</th><th>String</th><th>String</th></tr></thead><tbody><p>9 rows × 17 columns (omitted printing of 14 columns)</p><tr><th>1</th><td>v\"1.6.0-DEV-a896693d33\"</td><td>AccurateArithmetic</td><td>UUID(\"22286c92-06ac-501d-9306-4abd417d9753\")</td></tr><tr><th>2</th><td>v\"1.6.0-DEV-a896693d33\"</td><td>ExponentialUtilities</td><td>UUID(\"d4d017d3-3776-5f7e-afef-a10c40355c18\")</td></tr><tr><th>3</th><td>v\"1.6.0-DEV-a896693d33\"</td><td>HMMBase</td><td>UUID(\"b2b3ca75-8444-5ffa-85e6-af70e2b64fe7\")</td></tr><tr><th>4</th><td>v\"1.6.0-DEV-a896693d33\"</td><td>LoopVectorization</td><td>UUID(\"bdcacae8-1622-11e9-2a5c-532679323890\")</td></tr><tr><th>5</th><td>v\"1.6.0-DEV-a896693d33\"</td><td>Maxvol</td><td>UUID(\"4cc553b9-be87-484b-81d9-b5ae2a4e3958\")</td></tr><tr><th>6</th><td>v\"1.6.0-DEV-a896693d33\"</td><td>PlotAxes</td><td>UUID(\"8b6f5f00-d239-11e8-3a24-33314b00f6b0\")</td></tr><tr><th>7</th><td>v\"1.6.0-DEV-a896693d33\"</td><td>RestrictedBoltzmannMachines</td><td>UUID(\"12e6b396-7db5-4506-8cb6-664a4fe1e50e\")</td></tr><tr><th>8</th><td>v\"1.6.0-DEV-a896693d33\"</td><td>StateSpaceRoutines</td><td>UUID(\"261fd431-d7e4-51f7-86ab-ce9e57fc1fff\")</td></tr><tr><th>9</th><td>v\"1.6.0-DEV-a896693d33\"</td><td>TensorCast</td><td>UUID(\"02d47bb6-7ce6-556a-be16-bb1710789e2b\")</td></tr></tbody></table>"
      ],
      "text/latex": [
       "\\begin{tabular}{r|cccc}\n",
       "\t& julia & name & uuid & \\\\\n",
       "\t\\hline\n",
       "\t& String & String & String & \\\\\n",
       "\t\\hline\n",
       "\t1 & v\"1.6.0-DEV-a896693d33\" & AccurateArithmetic & UUID(\"22286c92-06ac-501d-9306-4abd417d9753\") & $\\dots$ \\\\\n",
       "\t2 & v\"1.6.0-DEV-a896693d33\" & ExponentialUtilities & UUID(\"d4d017d3-3776-5f7e-afef-a10c40355c18\") & $\\dots$ \\\\\n",
       "\t3 & v\"1.6.0-DEV-a896693d33\" & HMMBase & UUID(\"b2b3ca75-8444-5ffa-85e6-af70e2b64fe7\") & $\\dots$ \\\\\n",
       "\t4 & v\"1.6.0-DEV-a896693d33\" & LoopVectorization & UUID(\"bdcacae8-1622-11e9-2a5c-532679323890\") & $\\dots$ \\\\\n",
       "\t5 & v\"1.6.0-DEV-a896693d33\" & Maxvol & UUID(\"4cc553b9-be87-484b-81d9-b5ae2a4e3958\") & $\\dots$ \\\\\n",
       "\t6 & v\"1.6.0-DEV-a896693d33\" & PlotAxes & UUID(\"8b6f5f00-d239-11e8-3a24-33314b00f6b0\") & $\\dots$ \\\\\n",
       "\t7 & v\"1.6.0-DEV-a896693d33\" & RestrictedBoltzmannMachines & UUID(\"12e6b396-7db5-4506-8cb6-664a4fe1e50e\") & $\\dots$ \\\\\n",
       "\t8 & v\"1.6.0-DEV-a896693d33\" & StateSpaceRoutines & UUID(\"261fd431-d7e4-51f7-86ab-ce9e57fc1fff\") & $\\dots$ \\\\\n",
       "\t9 & v\"1.6.0-DEV-a896693d33\" & TensorCast & UUID(\"02d47bb6-7ce6-556a-be16-bb1710789e2b\") & $\\dots$ \\\\\n",
       "\\end{tabular}\n"
      ],
      "text/plain": [
       "9×17 DataFrame. Omitted printing of 15 columns\n",
       "│ Row │ julia                   │ name                        │\n",
       "│     │ \u001b[90mString\u001b[39m                  │ \u001b[90mString\u001b[39m                      │\n",
       "├─────┼─────────────────────────┼─────────────────────────────┤\n",
       "│ 1   │ v\"1.6.0-DEV-a896693d33\" │ AccurateArithmetic          │\n",
       "│ 2   │ v\"1.6.0-DEV-a896693d33\" │ ExponentialUtilities        │\n",
       "│ 3   │ v\"1.6.0-DEV-a896693d33\" │ HMMBase                     │\n",
       "│ 4   │ v\"1.6.0-DEV-a896693d33\" │ LoopVectorization           │\n",
       "│ 5   │ v\"1.6.0-DEV-a896693d33\" │ Maxvol                      │\n",
       "│ 6   │ v\"1.6.0-DEV-a896693d33\" │ PlotAxes                    │\n",
       "│ 7   │ v\"1.6.0-DEV-a896693d33\" │ RestrictedBoltzmannMachines │\n",
       "│ 8   │ v\"1.6.0-DEV-a896693d33\" │ StateSpaceRoutines          │\n",
       "│ 9   │ v\"1.6.0-DEV-a896693d33\" │ TensorCast                  │"
      ]
     },
     "execution_count": 12,
     "metadata": {},
     "output_type": "execute_result"
    }
   ],
   "source": [
    "query(fails, r\"Expression: (\\S*) ≈ (\\S*)\") "
   ]
  },
  {
   "cell_type": "code",
   "execution_count": 11,
   "metadata": {},
   "outputs": [
    {
     "data": {
      "text/plain": [
       "1-element Array{String,1}:\n",
       " \"AbstractNumbers\""
      ]
     },
     "execution_count": 11,
     "metadata": {},
     "output_type": "execute_result"
    }
   ],
   "source": []
  },
  {
   "cell_type": "code",
   "execution_count": null,
   "metadata": {},
   "outputs": [],
   "source": []
  }
 ],
 "metadata": {
  "kernelspec": {
   "display_name": "Julia 1.5.2",
   "language": "julia",
   "name": "julia-1.5"
  },
  "language_info": {
   "file_extension": ".jl",
   "mimetype": "application/julia",
   "name": "julia",
   "version": "1.5.2"
  }
 },
 "nbformat": 4,
 "nbformat_minor": 4
}
