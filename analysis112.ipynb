{
 "cells": [
  {
   "cell_type": "markdown",
   "metadata": {},
   "source": [
    "# PkgEvalAnalysis\n",
    "\n",
    "Latest pkgeval: https://s3.amazonaws.com/julialang-reports/nanosoldier/pkgeval/by_hash/cdf2f46_vs_d63aded/report.html"
   ]
  },
  {
   "cell_type": "code",
   "execution_count": 14,
   "metadata": {},
   "outputs": [
    {
     "data": {
      "text/plain": [
       "download_logs (generic function with 1 method)"
      ]
     },
     "execution_count": 14,
     "metadata": {},
     "output_type": "execute_result"
    }
   ],
   "source": [
    "using DataFrames, Feather\n",
    "using JuliaRegistryAnalysis\n",
    "using Graphs, MetaGraphs\n",
    "using Downloads\n",
    "\n",
    "include(\"add_back_logs.jl\")"
   ]
  },
  {
   "cell_type": "code",
   "execution_count": 15,
   "metadata": {},
   "outputs": [],
   "source": [
    "baseline = \"cdf2f46\"\n",
    "vs       = \"d63aded\"\n",
    "\n",
    "data_dir = joinpath(\"data_$(baseline)_vs_$(vs)\")\n",
    "if !isdir(data_dir)\n",
    "    url = \"https://github.com/JuliaCI/NanosoldierReports/blob/master/pkgeval/by_hash/$(baseline)_vs_$(vs)/data.tar.zst?raw=true\"\n",
    "    file = Downloads.download(url)\n",
    "    mkdir(data_dir)\n",
    "    mv(file, joinpath(data_dir, \"$(baseline)_vs_$(vs).tar.zst\"))\n",
    "    cd(data_dir) do\n",
    "        run(`tar -xf $(baseline)_vs_$(vs).tar.zst`)\n",
    "    end\n",
    "end\n",
    "\n",
    "# The data in the data.tar.zst do not contain the actual logs so we have to download these\n",
    "if !isfile(joinpath(data_dir, \"primary_log.feather\"))\n",
    "    add_back_logs(data_dir)\n",
    "end\n",
    "primary  = Feather.read(joinpath(@__DIR__, data_dir, \"primary_log.feather\"));\n",
    "against  = Feather.read(joinpath(@__DIR__, data_dir, \"against_log.feather\"));"
   ]
  },
  {
   "cell_type": "code",
   "execution_count": 16,
   "metadata": {},
   "outputs": [
    {
     "name": "stderr",
     "output_type": "stream",
     "text": [
      "WARNING: redefinition of constant Main.trans. This may fail, cause incorrect answers, or produce other errors.\n"
     ]
    }
   ],
   "source": [
    "# We sort packages according to how many transitive dependencies they have,\n",
    "graph = JuliaRegistryAnalysis.dependency_graph(; include=(name, uuid) -> true)\n",
    "name_to_vertex = Dict{String, Int}(get_prop(graph, i, :label) => i for i in 1:nv(graph));\n",
    "\n",
    "const trans = transitiveclosure(graph.graph)\n",
    "\n",
    "sortby = x -> begin\n",
    "    v = get(name_to_vertex, x, 0)\n",
    "    v == 0 && return 0\n",
    "    return Graphs.indegree(trans, v)\n",
    "end\n",
    "    \n",
    "primary = sort(primary, order(:package, by=sortby, rev=true))\n",
    "against = sort(against, order(:package, by=sortby, rev=true))\n",
    "nothing"
   ]
  },
  {
   "cell_type": "code",
   "execution_count": 17,
   "metadata": {},
   "outputs": [],
   "source": [
    "# This is a list of different categories of failures.\n",
    "# Some are common between different Julia version upgrades\n",
    "# and some are \"special\" for this specific upgrade.\n",
    "\n",
    "@enum FailureType begin\n",
    "    # General ones\n",
    "    Unknown\n",
    "    InferredFailure\n",
    "    PrintingChange\n",
    "    TestAmbiguities\n",
    "    NewAmbiguity\n",
    "    ApproxError\n",
    "    DocTest\n",
    "    NewExceptionType\n",
    "    DownloadError\n",
    "    UnexpectedPass\n",
    "    BadBoy\n",
    "    SyntaxError\n",
    "    VisualRegression\n",
    "    MissingDep\n",
    "    BuildError\n",
    "    UnsatReq\n",
    "    Belapsed\n",
    "    StderrCheck\n",
    "    TypeInferenceError\n",
    "    \n",
    "    # From PkgEval\n",
    "    MissingDependency\n",
    "    Inactivity\n",
    "    MissingBinary\n",
    "    Untestable\n",
    "    LogLimit\n",
    "    TimeLimit\n",
    "    Syntax\n",
    "    \n",
    "    # Specific\n",
    "    \n",
    "    # Assertions\n",
    "    PHINodesGrouped\n",
    "    CTXSSAValueAssigned\n",
    "    MethodAddedWhenDeleted\n",
    "    CycleDepth\n",
    "    IfElseInvalidIR\n",
    "    MalformedIsdefined\n",
    "    BadSignatureEnzyme\n",
    "    GCPreserveEnd\n",
    "    NewObjMethInst\n",
    "    IJLTypesEqual\n",
    "    InfStackOverflow\n",
    "    CodeInstMaxWorld\n",
    "    SubArrayConvert\n",
    "\n",
    "    # Segfaults\n",
    "    Vload\n",
    "end\n"
   ]
  },
  {
   "cell_type": "code",
   "execution_count": 18,
   "metadata": {},
   "outputs": [],
   "source": [
    "# Join the primary and against data\n",
    "package_results = leftjoin(primary, against, on=:package, makeunique=true, indicator=:source);\n",
    "\n",
    "# Only keep packages that started to fail in the new version\n",
    "fails = filter(test->test.source == \"both\" &&\n",
    "                 test.status != test.status_1 &&\n",
    "                 test.status in (\":fail\", \":kill\", \":crash\"), package_results)\n",
    "\n",
    "\n",
    "missing_binary_idx     = fails.reason .== \":binary_dependency\"\n",
    "inactivity_idx         = fails.reason .== \":inactivity\"\n",
    "missing_dependency_idx = fails.reason .== \":missing_dependency\"\n",
    "untestable_idx         = fails.reason .== \":untestable\"\n",
    "log_limit_idx          = fails.reason .== \":log_limit\"\n",
    "time_limit_idx         = fails.reason .== \":time_limit\"\n",
    "\n",
    "# Initially we do not know why a package failed\n",
    "fails.why = fill(Unknown, size(fails, 1));\n",
    "\n",
    "fails.why[missing_binary_idx]     .= MissingBinary\n",
    "fails.why[inactivity_idx]         .= Inactivity\n",
    "fails.why[missing_dependency_idx] .= MissingDependency\n",
    "fails.why[untestable_idx]         .= Untestable\n",
    "fails.why[log_limit_idx]          .= LogLimit\n",
    "fails.why[time_limit_idx]         .= TimeLimit\n",
    "\n",
    "nothing"
   ]
  },
  {
   "cell_type": "code",
   "execution_count": 19,
   "metadata": {},
   "outputs": [
    {
     "data": {
      "text/plain": [
       "update_reason! (generic function with 1 method)"
      ]
     },
     "execution_count": 19,
     "metadata": {},
     "output_type": "execute_result"
    }
   ],
   "source": [
    "# Some utility functions\n",
    "\n",
    "query(fails, s) = sort(filter(row -> occursin(s, row[:log]), fails))\n",
    "\n",
    "function update_reason!(fails, needle, why)\n",
    "    idxs = findall(row -> occursin(needle, row), fails.log)\n",
    "    fails.why[idxs] .= why\n",
    "    return fails\n",
    "end"
   ]
  },
  {
   "cell_type": "code",
   "execution_count": 21,
   "metadata": {},
   "outputs": [],
   "source": [
    "# Here we pattern match certain test errors and categorize them based on that.\n",
    "\n",
    "# Generic ones\n",
    "update_reason!(fails, \"Test.detect_ambiguities\", TestAmbiguities)\n",
    "update_reason!(fails, \"detect_ambiguities(\", TestAmbiguities)\n",
    "\n",
    "update_reason!(fails, \"Expression: all_doctests()\", DocTest)\n",
    "update_reason!(fails, \"Error: doctest failure in \", DocTest)\n",
    "\n",
    "update_reason!(fails, \"does not match inferred return type\", InferredFailure);\n",
    "update_reason!(fails, \"Expression: isapprox\", ApproxError)\n",
    "update_reason!(fails, r\"Expression: (\\S*) ≈ (\\S*)\", ApproxError) \n",
    "update_reason!(fails, \"Expression: ≈(\", ApproxError)\n",
    "    \n",
    "update_reason!(fails, \"is ambiguous. Candidates:\", NewAmbiguity)\n",
    "update_reason!(fails, \" ambiguities found\", NewAmbiguity)\n",
    "\n",
    "update_reason!(fails, \"Unsatisfiable requirements detected for package\", UnsatReq)\n",
    "\n",
    "\n",
    "\n",
    "update_reason!(fails, \"Log Test Failed at\", PrintingChange)\n",
    "update_reason!(fails, \"Expression: occursin(r\\\"\", PrintingChange)\n",
    "update_reason!(fails, \"Expression: startswith(\", PrintingChange)\n",
    "# update_reason!(fails, r\"Expression: (\\N.*?) == \", PrintingChange)\n",
    "update_reason!(fails, \"Evaluated: occursin(\", PrintingChange)\n",
    "update_reason!(fails, \"Evaluated: endswith(\", PrintingChange)\n",
    "update_reason!(fails, \"- DIFF ------------------------\", PrintingChange)\n",
    "update_reason!(fails, \"LoadError: syntax\", SyntaxError)\n",
    "\n",
    "update_reason!(fails, \"Image did not match reference image\", VisualRegression)\n",
    "\n",
    "update_reason!(fails, \"      Thrown: \", NewExceptionType)\n",
    "update_reason!(fails, \"The requested URL returned error\", DownloadError)\n",
    "update_reason!(fails, \"gzip: stdin: not in gzip format\", DownloadError)\n",
    "update_reason!(fails, \"Unexpected Pass\", UnexpectedPass)\n",
    "\n",
    "update_reason!(fails, \"Error building \", BuildError)\n",
    "update_reason!(fails, \"isempty(stderr_content)\", StderrCheck)\n",
    "\n",
    "update_reason!(fails, \"isempty(stderr_content)\", StderrCheck)\n",
    "\n",
    "update_reason!(fails, \"fatal error in type inference\", TypeInferenceError)\n",
    "\n",
    "\n",
    "# Specific ones for this release\n",
    "\n",
    "# Assertions\n",
    "update_reason!(fails, \"!ctx.ssavalue_assigned.at\", CTXSSAValueAssigned)\n",
    "update_reason!(fails, \"PHI nodes not grouped at top of basic block\", PHINodesGrouped)\n",
    "update_reason!(fails, \"method cannot be added at the same time as method deleted\", MethodAddedWhenDeleted)\n",
    "update_reason!(fails, \"cycle == depth\", CycleDepth)\n",
    "update_reason!(fails, \"select i1 %ifelse\", IfElseInvalidIR)\n",
    "update_reason!(fails, \"malformed isdefined expression\", MalformedIsdefined)\n",
    "update_reason!(fails, \"Calling a function with bad signature\", BadSignatureEnzyme)\n",
    "update_reason!(fails, \"llvm.julia.gc_preserve_end\", GCPreserveEnd)\n",
    "update_reason!(fails, \"newobj == (jl_method_instance_t\", NewObjMethInst)\n",
    "update_reason!(fails, \"!ijl_types_equal(mi->specType\", IJLTypesEqual)\n",
    "update_reason!(fails, \"stack overflow in type inference\", InfStackOverflow)\n",
    "update_reason!(fails, \"This might be caused by recursion over very long\", InfStackOverflow)\n",
    "update_reason!(fails, \"(&codeinst->max_world) == WORLD_AGE_REVALIDATION_SENTINEL\", CodeInstMaxWorld)\n",
    "\n",
    "# Segfaults\n",
    "update_reason!(fails, \"__vload at\", Vload)\n",
    "\n",
    "\n",
    "\n",
    "nothing"
   ]
  },
  {
   "cell_type": "code",
   "execution_count": 22,
   "metadata": {
    "tags": []
   },
   "outputs": [
    {
     "data": {
      "text/plain": [
       "Any[]"
      ]
     },
     "execution_count": 22,
     "metadata": {},
     "output_type": "execute_result"
    }
   ],
   "source": [
    "# Packages that have gotten some attention but haven't made a new version that would\n",
    "# remove the package from the PkgEval list\n",
    "\n",
    "issues_opened = [\n",
    "]\n",
    "\n",
    "likely_tol = [\n",
    "]\n",
    "\n",
    "fixed = [\n",
    "]\n",
    "\n",
    "ignored_packages = [\n",
    "]"
   ]
  },
  {
   "cell_type": "code",
   "execution_count": 23,
   "metadata": {},
   "outputs": [
    {
     "data": {
      "text/plain": [
       "931"
      ]
     },
     "execution_count": 23,
     "metadata": {},
     "output_type": "execute_result"
    }
   ],
   "source": [
    "# Total package failures that we haven't categorized\n",
    "total_unknown(fails) = count(x -> x.why == Unknown, eachrow(fails)) - length(issues_opened) - length(fixed)\n",
    "total_unknown(fails)"
   ]
  },
  {
   "cell_type": "code",
   "execution_count": 24,
   "metadata": {
    "scrolled": true
   },
   "outputs": [
    {
     "name": "stdout",
     "output_type": "stream",
     "text": [
      "Requires\n",
      "StaticArrays\n",
      "PtrArrays\n",
      "Adapt\n",
      "QuadGK\n",
      "PDMats\n",
      "ArrayInterface\n",
      "StringManipulation\n",
      "InlineStrings\n",
      "Colors\n",
      "ExprTools\n",
      "MbedTLS\n",
      "ProgressMeter\n",
      "CpuId\n",
      "CPUSummary\n",
      "SIMDTypes\n",
      "MutableArithmetics\n",
      "RuntimeGeneratedFunctions\n",
      "ADTypes\n",
      "StructArrays\n",
      "SymbolicIndexingInterface\n",
      "ArrayLayouts\n",
      "EnzymeCore\n",
      "Functors\n",
      "Polyester\n",
      "Transducers\n",
      "LazyArrays\n",
      "FastBroadcast\n",
      "DiffEqBase\n",
      "Krylov\n",
      "SparseMatrixColorings\n",
      "LoopVectorization\n",
      "Sixel\n",
      "Zygote\n",
      "RoundingEmulator\n",
      "ImageIO\n",
      "Rotations\n",
      "MaybeInplace\n",
      "NonlinearSolveBase\n",
      "DomainSets\n",
      "GenericSchur\n",
      "Optimisers\n",
      "TiledIteration\n",
      "MLUtils\n",
      "ComputationalResources\n",
      "OrdinaryDiffEqRKN\n",
      "OrdinaryDiffEqSymplecticRK\n",
      "OrdinaryDiffEqExtrapolation\n",
      "SymbolicUtils\n",
      "MathTeXEngine"
     ]
    }
   ],
   "source": [
    "# Unknown failures, these are packages where we haven't yet managed to categorize their failure\n",
    "\n",
    "fail_unknowns = filter(x -> x.why == Unknown && \n",
    "       !(x.package in issues_opened) && \n",
    "       !(x.package in likely_tol) && \n",
    "       !(x.package in ignored_packages) && \n",
    "       !(x.package in fixed) \n",
    "      # && x.status == \":crash\", \n",
    "    , fails).package\n",
    "\n",
    "print(join(fail_unknowns[1:50], '\\n'))"
   ]
  },
  {
   "cell_type": "code",
   "execution_count": 25,
   "metadata": {
    "scrolled": true
   },
   "outputs": [
    {
     "data": {
      "text/plain": [
       "14-element Vector{Any}:\n",
       " (931, Unknown)\n",
       " (580, SyntaxError)\n",
       " (236, TimeLimit)\n",
       " (10, UnsatReq)\n",
       " (9, ApproxError)\n",
       " (7, NewExceptionType)\n",
       " (6, PrintingChange)\n",
       " (5, Inactivity)\n",
       " (5, DocTest)\n",
       " (4, LogLimit)\n",
       " (4, NewAmbiguity)\n",
       " (2, InferredFailure)\n",
       " (1, GCPreserveEnd)\n",
       " (1, TestAmbiguities)"
      ]
     },
     "execution_count": 25,
     "metadata": {},
     "output_type": "execute_result"
    }
   ],
   "source": [
    "# Categorize\n",
    "\n",
    "z = []\n",
    "for i in instances(FailureType)\n",
    "    n = count(row -> row.why == i, eachrow(fails))\n",
    "    n > 0 && push!(z, (n, i))\n",
    "end\n",
    "sort!(z; rev=true)"
   ]
  },
  {
   "cell_type": "code",
   "execution_count": 12,
   "metadata": {},
   "outputs": [
    {
     "data": {
      "text/plain": [
       "String[]"
      ]
     },
     "execution_count": 12,
     "metadata": {},
     "output_type": "execute_result"
    }
   ],
   "source": [
    "filter(x -> x.why == NewAmbiguity,  fails).package"
   ]
  },
  {
   "cell_type": "code",
   "execution_count": null,
   "metadata": {},
   "outputs": [],
   "source": []
  }
 ],
 "metadata": {
  "@webio": {
   "lastCommId": null,
   "lastKernelId": null
  },
  "kernelspec": {
   "display_name": "Julia 1.11.3",
   "language": "julia",
   "name": "julia-1.11"
  },
  "language_info": {
   "file_extension": ".jl",
   "mimetype": "application/julia",
   "name": "julia",
   "version": "1.11.3"
  },
  "toc-autonumbering": false,
  "toc-showmarkdowntxt": false
 },
 "nbformat": 4,
 "nbformat_minor": 4
}
