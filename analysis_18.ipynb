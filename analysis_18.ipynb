{
 "cells": [
  {
   "cell_type": "markdown",
   "metadata": {},
   "source": [
    "# PkgEvalAnalysis\n",
    "\n",
    "Latest pkgeval: https://s3.amazonaws.com/julialang-reports/nanosoldier/pkgeval/by_hash/fb69baf_vs_40279f9/report.html\n",
    "\n",
    "Looking at RangeHelpers."
   ]
  },
  {
   "cell_type": "code",
   "execution_count": 28,
   "metadata": {},
   "outputs": [],
   "source": [
    "using DataFrames, Feather"
   ]
  },
  {
   "cell_type": "code",
   "execution_count": 29,
   "metadata": {},
   "outputs": [],
   "source": [
    "@enum FailureType begin\n",
    "    # General ones\n",
    "    Unknown\n",
    "    InferredFailure\n",
    "    PrintingChange\n",
    "    TestAmbiguities\n",
    "    NewAmbiguity\n",
    "    ApproxError\n",
    "    DocTest\n",
    "    NewExceptionType\n",
    "    DownloadError\n",
    "    UnexpectedPass\n",
    "    BadBoy\n",
    "    SyntaxError\n",
    "    VisualRegression\n",
    "    MissingDep\n",
    "    BuildError\n",
    "    UnsatReq\n",
    "    BSONDataTypeField\n",
    "    Belapsed\n",
    "    StderrCheck\n",
    "    \n",
    "    # From PkgEval\n",
    "    MissingDependency\n",
    "    Inactivity\n",
    "    MissingBinary\n",
    "    Untestable\n",
    "    LogLimit\n",
    "    TimeLimit\n",
    "    Syntax\n",
    "    \n",
    "    # Specific ones\n",
    "    Cassette\n",
    "    LLVMVersion\n",
    "    UninstalledDep\n",
    "    ImageReference\n",
    "    IOBufferWritable\n",
    "    JSONUndefinedReference\n",
    "    CcallType\n",
    "    NoMethodZero\n",
    "    CloseWrite\n",
    "    ReturnType\n",
    "    StdinBuffer\n",
    "    BlockArraysIsLess\n",
    "    TypeNameConstField\n",
    "    CxxWrap\n",
    "    InfinityArrays\n",
    "    \n",
    "end\n"
   ]
  },
  {
   "cell_type": "code",
   "execution_count": 30,
   "metadata": {
    "scrolled": true
   },
   "outputs": [
    {
     "name": "stdout",
     "output_type": "stream",
     "text": [
      "data/\n",
      "data/primary.feather\n",
      "data/against.json\n",
      "data/against.feather\n",
      "data/primary.json\n"
     ]
    }
   ],
   "source": [
    "# Unpack the data unless it has already been unpacked\n",
    "\n",
    "if !isdir(\"data\")\n",
    "    run(`tar -xvf data.tar.xz`)\n",
    "end\n",
    "primary  = Feather.read(\"data/primary.feather\");\n",
    "against = Feather.read(\"data/against.feather\");"
   ]
  },
  {
   "cell_type": "code",
   "execution_count": 31,
   "metadata": {},
   "outputs": [],
   "source": [
    "# Join the primary and against data\n",
    "\n",
    "package_results = leftjoin(primary, against,\n",
    "     on=:uuid, makeunique=true, indicator=:source);"
   ]
  },
  {
   "cell_type": "code",
   "execution_count": 32,
   "metadata": {},
   "outputs": [],
   "source": [
    "# Filter out packages that started failing but didn't start failing when the RNG stream changed\n",
    "\n",
    "fails = filter(test->test.source == \"both\" &&\n",
    "                 test.status != test.status_1 &&\n",
    "                 test.status in (\":fail\", \":kill\"), package_results)\n",
    "\n",
    "# Initially we do not know why a package failed\n",
    "fails.why = fill(Unknown, size(fails, 1));\n",
    "\n",
    "missing_binary_idx     = fails.reason .== \":binary_dependency\"\n",
    "inactivity_idx         = fails.reason .== \":inactivity\"\n",
    "missing_dependency_idx = fails.reason .== \":missing_dependency\"\n",
    "untestable_idx         = fails.reason .== \":untestable\"\n",
    "log_limit_idx          = fails.reason .== \":log_limit\"\n",
    "time_limit_idx         = fails.reason .== \":time_limit\"\n",
    "\n",
    "# Initially we do not know why a package failed\n",
    "fails.why = fill(Unknown, size(fails, 1));\n",
    "\n",
    "fails.why[missing_binary_idx]     .= MissingBinary\n",
    "fails.why[inactivity_idx]         .= Inactivity\n",
    "fails.why[missing_dependency_idx] .= MissingDependency\n",
    "fails.why[untestable_idx]         .= Untestable\n",
    "fails.why[log_limit_idx]          .= LogLimit\n",
    "fails.why[time_limit_idx]         .= TimeLimit\n",
    "\n",
    "nothing"
   ]
  },
  {
   "cell_type": "code",
   "execution_count": 33,
   "metadata": {},
   "outputs": [
    {
     "data": {
      "text/plain": [
       "total_unknown (generic function with 1 method)"
      ]
     },
     "execution_count": 33,
     "metadata": {},
     "output_type": "execute_result"
    }
   ],
   "source": [
    "# Some utility functions\n",
    "\n",
    "query(fails, s) = filter(row -> occursin(s, row[:log]), fails)    \n",
    "\n",
    "function update_reason!(fails, needle, why)\n",
    "    idxs = findall(row -> occursin(needle, row), fails.log)\n",
    "    fails.why[idxs] .= why\n",
    "    return fails\n",
    "end\n",
    "\n",
    "total_unknown(fails) = count(x -> x.why == Unknown, eachrow(fails))"
   ]
  },
  {
   "cell_type": "code",
   "execution_count": 34,
   "metadata": {},
   "outputs": [
    {
     "data": {
      "text/html": [
       "<div class=\"data-frame\"><p>0 rows × 19 columns (omitted printing of 9 columns)</p><table class=\"data-frame\"><thead><tr><th></th><th>julia</th><th>compiled</th><th>name</th><th>uuid</th><th>version</th><th>status</th><th>reason</th><th>duration</th><th>log</th><th>julia_1</th></tr><tr><th></th><th title=\"String\">String</th><th title=\"Bool\">Bool</th><th title=\"String\">String</th><th title=\"String\">String</th><th title=\"String\">String</th><th title=\"String\">String</th><th title=\"String\">String</th><th title=\"Float64\">Float64</th><th title=\"String\">String</th><th title=\"Union{Missing, String}\">String?</th></tr></thead><tbody></tbody></table></div>"
      ],
      "text/latex": [
       "\\begin{tabular}{r|ccccccccccc}\n",
       "\t& julia & compiled & name & uuid & version & status & reason & duration & log & julia\\_1 & \\\\\n",
       "\t\\hline\n",
       "\t& String & Bool & String & String & String & String & String & Float64 & String & String? & \\\\\n",
       "\t\\hline\n",
       "\\end{tabular}\n"
      ],
      "text/plain": [
       "\u001b[1m0×19 DataFrame\u001b[0m"
      ]
     },
     "execution_count": 34,
     "metadata": {},
     "output_type": "execute_result"
    }
   ],
   "source": [
    "query(fails, \"probe_platform_engines!\")"
   ]
  },
  {
   "cell_type": "code",
   "execution_count": 35,
   "metadata": {},
   "outputs": [],
   "source": [
    "# Here we pattern match certain test errors and categorize them based on that.\n",
    "\n",
    "# Generic ones\n",
    "update_reason!(fails, \"Test.detect_ambiguities\", TestAmbiguities)\n",
    "update_reason!(fails, \"detect_ambiguities(\", TestAmbiguities)\n",
    "\n",
    "update_reason!(fails, \"Expression: all_doctests()\", DocTest)\n",
    "update_reason!(fails, \"Error: doctest failure in \", DocTest)\n",
    "\n",
    "update_reason!(fails, \"does not match inferred return type\", InferredFailure);\n",
    "update_reason!(fails, \"Expression: isapprox\", ApproxError)\n",
    "update_reason!(fails, r\"Expression: (\\S*) ≈ (\\S*)\", ApproxError) \n",
    "update_reason!(fails, \"Expression: ≈(\", ApproxError)\n",
    "    \n",
    "update_reason!(fails, \"is ambiguous. Candidates:\", NewAmbiguity)\n",
    "update_reason!(fails, \" ambiguities found\", NewAmbiguity)\n",
    "\n",
    "update_reason!(fails, \"Unsatisfiable requirements detected for package\", UnsatReq)\n",
    "\n",
    "\n",
    "\n",
    "update_reason!(fails, \"Log Test Failed at\", PrintingChange)\n",
    "update_reason!(fails, \"Expression: occursin(r\\\"\", PrintingChange)\n",
    "update_reason!(fails, \"Expression: startswith(\", PrintingChange)\n",
    "update_reason!(fails, r\"Expression: (\\N.*?) == \", PrintingChange)\n",
    "update_reason!(fails, \"Evaluated: occursin(\", PrintingChange)\n",
    "update_reason!(fails, \"Evaluated: endswith(\", PrintingChange)\n",
    "update_reason!(fails, \"- DIFF ------------------------\", PrintingChange)\n",
    "update_reason!(fails, \"LoadError: syntax\", SyntaxError)\n",
    "\n",
    "update_reason!(fails, \"Image did not match reference image\", VisualRegression)\n",
    "\n",
    "update_reason!(fails, \"      Thrown: \", NewExceptionType)\n",
    "update_reason!(fails, \"The requested URL returned error\", DownloadError)\n",
    "update_reason!(fails, \"gzip: stdin: not in gzip format\", DownloadError)\n",
    "update_reason!(fails, \"Unexpected Pass\", UnexpectedPass)\n",
    "\n",
    "update_reason!(fails, \"Error building \", BuildError)\n",
    "update_reason!(fails, \"isempty(stderr_content)\", StderrCheck)\n",
    "\n",
    "\n",
    "\n",
    "\n",
    "# Specific ones for this release\n",
    "update_reason!(fails, \"Cassette.overdub\", Cassette)\n",
    "update_reason!(fails, \"libLLVM-12jl.so\", LLVMVersion)\n",
    "update_reason!(fails, \"You may have a partially installed environment\", UninstalledDep)\n",
    "update_reason!(fails, \"- REFERENCE -------------------\", ImageReference)\n",
    "update_reason!(fails, \"ArgumentError: ensureroom failed, IOBuffer is not writeable\", IOBufferWritable)\n",
    "update_reason!(fails, \"JSON.Writer ~/.julia/packages/JSON/NeJ9k/src/Writer.jl:285\", JSONUndefinedReference)\n",
    "update_reason!(fails, \"ccall method definition: argument 1 type doesn't correspond to a C type\", CcallType)\n",
    "update_reason!(fails, \"no method matching zero\", NoMethodZero)\n",
    "update_reason!(fails, \"closewrite not defined\", CloseWrite)\n",
    "update_reason!(fails, \"no method matching return_type\", ReturnType)\n",
    "update_reason!(fails, \"type IOStream has no field buffer\", StdinBuffer)\n",
    "update_reason!(fails, \"UndefVarError: _isless not defined\", BlockArraysIsLess)\n",
    "update_reason!(fails, \"setfield!: const field .names of type TypeName cannot be changed\", TypeNameConstField)\n",
    "update_reason!(fails, \"C++ exception while wrapping module\", CxxWrap)\n",
    "update_reason!(fails, \"no method matching Infinities.Infinity(::Float64)\", InfinityArrays)\n",
    "\n",
    "\n",
    "\n",
    "\n",
    "\n",
    "\n",
    "nothing"
   ]
  },
  {
   "cell_type": "code",
   "execution_count": 47,
   "metadata": {},
   "outputs": [
    {
     "data": {
      "text/plain": [
       "Any[]"
      ]
     },
     "execution_count": 47,
     "metadata": {},
     "output_type": "execute_result"
    }
   ],
   "source": [
    "# Packages that have gotten  \n",
    "\n",
    "issues_opened = [\n",
    "    \"StaticKernels\" # https://github.com/stev47/StaticKernels.jl/issues/5\n",
    "    \"Polyhedra\" # https://github.com/JuliaPolyhedra/Polyhedra.jl\n",
    "    \"TexasHoldEm\" # https://github.com/charleskawczynski/TexasHoldem.jl/issues/106\n",
    "    \"RedefStructs\" # https://github.com/FedericoStra/RedefStructs.jl/issues/4\n",
    "    \"Memento\" # https://github.com/invenia/Memento.jl/issues/184\n",
    "    \"GarishPrint\" # https://github.com/JuliaLang/Pkg.jl/issues/3015\n",
    "    \"SpecialFunctions\" # https://github.com/JuliaLang/julia/issues/44452\n",
    "]\n",
    "\n",
    "likely_tol = [\n",
    "    \"TaylorModels\"\n",
    "];\n",
    "\n",
    "fixed = [\n",
    "    \"GeoDataFrames\" # https://github.com/evetion/GeoDataFrames.jl/pull/30\n",
    "    \"Cassette\" # https://github.com/JuliaLabs/Cassette.jl/commit/8219e43264543da43e4d71bd860d09fc6a016630\n",
    "]\n",
    "\n",
    "\n",
    "\n",
    "\n",
    "ignored_packages = [\n",
    "]"
   ]
  },
  {
   "cell_type": "code",
   "execution_count": 48,
   "metadata": {},
   "outputs": [
    {
     "data": {
      "text/plain": [
       "50"
      ]
     },
     "execution_count": 48,
     "metadata": {},
     "output_type": "execute_result"
    }
   ],
   "source": [
    "# Total package failures that we haven't categorized\n",
    "\n",
    "total_unknown(fails)"
   ]
  },
  {
   "cell_type": "markdown",
   "metadata": {},
   "source": [
    "# Examples\n",
    "\n",
    "Here are some examples of how one might do queries and categorize errors"
   ]
  },
  {
   "cell_type": "code",
   "execution_count": null,
   "metadata": {},
   "outputs": [],
   "source": []
  },
  {
   "cell_type": "code",
   "execution_count": 49,
   "metadata": {
    "scrolled": true
   },
   "outputs": [
    {
     "data": {
      "text/html": [
       "<div class=\"data-frame\"><p>43 rows × 19 columns (omitted printing of 15 columns)</p><table class=\"data-frame\"><thead><tr><th></th><th>julia</th><th>compiled</th><th>name</th><th>uuid</th></tr><tr><th></th><th title=\"String\">String</th><th title=\"Bool\">Bool</th><th title=\"String\">String</th><th title=\"String\">String</th></tr></thead><tbody><tr><th>1</th><td>v&quot;1.8.0-beta1-233a8c9b2b&quot;</td><td>0</td><td>PkgDeps</td><td>UUID(&quot;839e9fc8-855b-5b3c-a3b7-2833d3dd1f59&quot;)</td></tr><tr><th>2</th><td>v&quot;1.8.0-beta1-233a8c9b2b&quot;</td><td>0</td><td>LiterateTest</td><td>UUID(&quot;d77d25b0-90d3-4a16-b10a-412a9d48f625&quot;)</td></tr><tr><th>3</th><td>v&quot;1.8.0-beta1-233a8c9b2b&quot;</td><td>0</td><td>ProfileSVG</td><td>UUID(&quot;132c30aa-f267-4189-9183-c8a63c7e05e6&quot;)</td></tr><tr><th>4</th><td>v&quot;1.8.0-beta1-233a8c9b2b&quot;</td><td>0</td><td>RangeHelpers</td><td>UUID(&quot;3a07dd3d-1c52-4395-8858-40c6328157db&quot;)</td></tr><tr><th>5</th><td>v&quot;1.8.0-beta1-233a8c9b2b&quot;</td><td>0</td><td>SIMD</td><td>UUID(&quot;fdea26ae-647d-5447-a871-4b548cad5224&quot;)</td></tr><tr><th>6</th><td>v&quot;1.8.0-beta1-233a8c9b2b&quot;</td><td>0</td><td>TensorKitManifolds</td><td>UUID(&quot;11fa318c-39cb-4a83-b1ed-cdc7ba1e3684&quot;)</td></tr><tr><th>7</th><td>v&quot;1.8.0-beta1-233a8c9b2b&quot;</td><td>0</td><td>BEASTXMLConstructor</td><td>UUID(&quot;2ff12cca-58d7-407c-9ba2-24d4f684d922&quot;)</td></tr><tr><th>8</th><td>v&quot;1.8.0-beta1-233a8c9b2b&quot;</td><td>0</td><td>Dash</td><td>UUID(&quot;1b08a953-4be3-4667-9a23-3db579824955&quot;)</td></tr><tr><th>9</th><td>v&quot;1.8.0-beta1-233a8c9b2b&quot;</td><td>0</td><td>JET</td><td>UUID(&quot;c3a54625-cd67-489e-a8e7-0a5a0ff4e31b&quot;)</td></tr><tr><th>10</th><td>v&quot;1.8.0-beta1-233a8c9b2b&quot;</td><td>0</td><td>StatProfilerHTML</td><td>UUID(&quot;a8a75453-ed82-57c9-9e16-4cd1196ecbf5&quot;)</td></tr><tr><th>11</th><td>v&quot;1.8.0-beta1-233a8c9b2b&quot;</td><td>0</td><td>MIRTjim</td><td>UUID(&quot;170b2178-6dee-4cb0-8729-b3e8b57834cc&quot;)</td></tr><tr><th>12</th><td>v&quot;1.8.0-beta1-233a8c9b2b&quot;</td><td>0</td><td>Mamba</td><td>UUID(&quot;5424a776-8be3-5c5b-a13f-3551f69ba0e6&quot;)</td></tr><tr><th>13</th><td>v&quot;1.8.0-beta1-233a8c9b2b&quot;</td><td>0</td><td>FastTransforms</td><td>UUID(&quot;057dd010-8810-581a-b7be-e3fc3b93f78c&quot;)</td></tr><tr><th>14</th><td>v&quot;1.8.0-beta1-233a8c9b2b&quot;</td><td>0</td><td>TORA</td><td>UUID(&quot;a6da6c0f-f153-4ec6-bf42-6dc0ab733f84&quot;)</td></tr><tr><th>15</th><td>v&quot;1.8.0-beta1-233a8c9b2b&quot;</td><td>0</td><td>ArrayLayouts</td><td>UUID(&quot;4c555306-a7a7-4459-81d9-ec55ddd5c99a&quot;)</td></tr><tr><th>16</th><td>v&quot;1.8.0-beta1-233a8c9b2b&quot;</td><td>0</td><td>GPUCompiler</td><td>UUID(&quot;61eb1bfa-7361-4325-ad38-22787b887f55&quot;)</td></tr><tr><th>17</th><td>v&quot;1.8.0-beta1-233a8c9b2b&quot;</td><td>0</td><td>CxxWrap</td><td>UUID(&quot;1f15a43c-97ca-5a2a-ae31-89f07a497df4&quot;)</td></tr><tr><th>18</th><td>v&quot;1.8.0-beta1-233a8c9b2b&quot;</td><td>0</td><td>SnoopCompile</td><td>UUID(&quot;aa65fe97-06da-5843-b5b1-d5d13cad87d2&quot;)</td></tr><tr><th>19</th><td>v&quot;1.8.0-beta1-233a8c9b2b&quot;</td><td>0</td><td>FlxQTL</td><td>UUID(&quot;ede81e08-c6d8-4fe3-94c2-f928d9d678ed&quot;)</td></tr><tr><th>20</th><td>v&quot;1.8.0-beta1-233a8c9b2b&quot;</td><td>0</td><td>TraitSimulation</td><td>UUID(&quot;dec3038e-29bc-11e9-2207-9f3d5855a202&quot;)</td></tr><tr><th>21</th><td>v&quot;1.8.0-beta1-233a8c9b2b&quot;</td><td>0</td><td>FillArrays</td><td>UUID(&quot;1a297f60-69ca-5386-bcde-b61e274b549b&quot;)</td></tr><tr><th>22</th><td>v&quot;1.8.0-beta1-233a8c9b2b&quot;</td><td>0</td><td>ApproxFunFourier</td><td>UUID(&quot;59844689-9c9d-51bf-9583-5b794ec66d30&quot;)</td></tr><tr><th>23</th><td>v&quot;1.8.0-beta1-233a8c9b2b&quot;</td><td>0</td><td>EquationsOfStateOfSolids</td><td>UUID(&quot;1eaa2786-f833-4167-8397-974edad0881e&quot;)</td></tr><tr><th>24</th><td>v&quot;1.8.0-beta1-233a8c9b2b&quot;</td><td>0</td><td>DataKnots</td><td>UUID(&quot;f3f2b2ad-91c8-5588-b964-d77e2d3bb090&quot;)</td></tr><tr><th>25</th><td>v&quot;1.8.0-beta1-233a8c9b2b&quot;</td><td>0</td><td>NMRTools</td><td>UUID(&quot;c2839fe3-f1de-42fc-897f-c1b0e8db4db6&quot;)</td></tr><tr><th>26</th><td>v&quot;1.8.0-beta1-233a8c9b2b&quot;</td><td>0</td><td>OscillatoryIntegrals</td><td>UUID(&quot;36d79ec0-be04-40c6-b002-a7ecbe3190c2&quot;)</td></tr><tr><th>27</th><td>v&quot;1.8.0-beta1-233a8c9b2b&quot;</td><td>0</td><td>ApproxFunSingularities</td><td>UUID(&quot;f8fcb915-6b99-5be2-b79a-d6dbef8e6e7e&quot;)</td></tr><tr><th>28</th><td>v&quot;1.8.0-beta1-233a8c9b2b&quot;</td><td>0</td><td>SlackThreads</td><td>UUID(&quot;a271ce43-5be6-465b-b549-2328063b090f&quot;)</td></tr><tr><th>29</th><td>v&quot;1.8.0-beta1-233a8c9b2b&quot;</td><td>0</td><td>LRSLib</td><td>UUID(&quot;262c1cb6-76e2-5873-868b-19ece3183cc5&quot;)</td></tr><tr><th>30</th><td>v&quot;1.8.0-beta1-233a8c9b2b&quot;</td><td>0</td><td>ApproxFun</td><td>UUID(&quot;28f2ccd6-bb30-5033-b560-165f7b14dc2f&quot;)</td></tr><tr><th>&vellip;</th><td>&vellip;</td><td>&vellip;</td><td>&vellip;</td><td>&vellip;</td></tr></tbody></table></div>"
      ],
      "text/latex": [
       "\\begin{tabular}{r|ccccc}\n",
       "\t& julia & compiled & name & uuid & \\\\\n",
       "\t\\hline\n",
       "\t& String & Bool & String & String & \\\\\n",
       "\t\\hline\n",
       "\t1 & v\"1.8.0-beta1-233a8c9b2b\" & 0 & PkgDeps & UUID(\"839e9fc8-855b-5b3c-a3b7-2833d3dd1f59\") & $\\dots$ \\\\\n",
       "\t2 & v\"1.8.0-beta1-233a8c9b2b\" & 0 & LiterateTest & UUID(\"d77d25b0-90d3-4a16-b10a-412a9d48f625\") & $\\dots$ \\\\\n",
       "\t3 & v\"1.8.0-beta1-233a8c9b2b\" & 0 & ProfileSVG & UUID(\"132c30aa-f267-4189-9183-c8a63c7e05e6\") & $\\dots$ \\\\\n",
       "\t4 & v\"1.8.0-beta1-233a8c9b2b\" & 0 & RangeHelpers & UUID(\"3a07dd3d-1c52-4395-8858-40c6328157db\") & $\\dots$ \\\\\n",
       "\t5 & v\"1.8.0-beta1-233a8c9b2b\" & 0 & SIMD & UUID(\"fdea26ae-647d-5447-a871-4b548cad5224\") & $\\dots$ \\\\\n",
       "\t6 & v\"1.8.0-beta1-233a8c9b2b\" & 0 & TensorKitManifolds & UUID(\"11fa318c-39cb-4a83-b1ed-cdc7ba1e3684\") & $\\dots$ \\\\\n",
       "\t7 & v\"1.8.0-beta1-233a8c9b2b\" & 0 & BEASTXMLConstructor & UUID(\"2ff12cca-58d7-407c-9ba2-24d4f684d922\") & $\\dots$ \\\\\n",
       "\t8 & v\"1.8.0-beta1-233a8c9b2b\" & 0 & Dash & UUID(\"1b08a953-4be3-4667-9a23-3db579824955\") & $\\dots$ \\\\\n",
       "\t9 & v\"1.8.0-beta1-233a8c9b2b\" & 0 & JET & UUID(\"c3a54625-cd67-489e-a8e7-0a5a0ff4e31b\") & $\\dots$ \\\\\n",
       "\t10 & v\"1.8.0-beta1-233a8c9b2b\" & 0 & StatProfilerHTML & UUID(\"a8a75453-ed82-57c9-9e16-4cd1196ecbf5\") & $\\dots$ \\\\\n",
       "\t11 & v\"1.8.0-beta1-233a8c9b2b\" & 0 & MIRTjim & UUID(\"170b2178-6dee-4cb0-8729-b3e8b57834cc\") & $\\dots$ \\\\\n",
       "\t12 & v\"1.8.0-beta1-233a8c9b2b\" & 0 & Mamba & UUID(\"5424a776-8be3-5c5b-a13f-3551f69ba0e6\") & $\\dots$ \\\\\n",
       "\t13 & v\"1.8.0-beta1-233a8c9b2b\" & 0 & FastTransforms & UUID(\"057dd010-8810-581a-b7be-e3fc3b93f78c\") & $\\dots$ \\\\\n",
       "\t14 & v\"1.8.0-beta1-233a8c9b2b\" & 0 & TORA & UUID(\"a6da6c0f-f153-4ec6-bf42-6dc0ab733f84\") & $\\dots$ \\\\\n",
       "\t15 & v\"1.8.0-beta1-233a8c9b2b\" & 0 & ArrayLayouts & UUID(\"4c555306-a7a7-4459-81d9-ec55ddd5c99a\") & $\\dots$ \\\\\n",
       "\t16 & v\"1.8.0-beta1-233a8c9b2b\" & 0 & GPUCompiler & UUID(\"61eb1bfa-7361-4325-ad38-22787b887f55\") & $\\dots$ \\\\\n",
       "\t17 & v\"1.8.0-beta1-233a8c9b2b\" & 0 & CxxWrap & UUID(\"1f15a43c-97ca-5a2a-ae31-89f07a497df4\") & $\\dots$ \\\\\n",
       "\t18 & v\"1.8.0-beta1-233a8c9b2b\" & 0 & SnoopCompile & UUID(\"aa65fe97-06da-5843-b5b1-d5d13cad87d2\") & $\\dots$ \\\\\n",
       "\t19 & v\"1.8.0-beta1-233a8c9b2b\" & 0 & FlxQTL & UUID(\"ede81e08-c6d8-4fe3-94c2-f928d9d678ed\") & $\\dots$ \\\\\n",
       "\t20 & v\"1.8.0-beta1-233a8c9b2b\" & 0 & TraitSimulation & UUID(\"dec3038e-29bc-11e9-2207-9f3d5855a202\") & $\\dots$ \\\\\n",
       "\t21 & v\"1.8.0-beta1-233a8c9b2b\" & 0 & FillArrays & UUID(\"1a297f60-69ca-5386-bcde-b61e274b549b\") & $\\dots$ \\\\\n",
       "\t22 & v\"1.8.0-beta1-233a8c9b2b\" & 0 & ApproxFunFourier & UUID(\"59844689-9c9d-51bf-9583-5b794ec66d30\") & $\\dots$ \\\\\n",
       "\t23 & v\"1.8.0-beta1-233a8c9b2b\" & 0 & EquationsOfStateOfSolids & UUID(\"1eaa2786-f833-4167-8397-974edad0881e\") & $\\dots$ \\\\\n",
       "\t24 & v\"1.8.0-beta1-233a8c9b2b\" & 0 & DataKnots & UUID(\"f3f2b2ad-91c8-5588-b964-d77e2d3bb090\") & $\\dots$ \\\\\n",
       "\t25 & v\"1.8.0-beta1-233a8c9b2b\" & 0 & NMRTools & UUID(\"c2839fe3-f1de-42fc-897f-c1b0e8db4db6\") & $\\dots$ \\\\\n",
       "\t26 & v\"1.8.0-beta1-233a8c9b2b\" & 0 & OscillatoryIntegrals & UUID(\"36d79ec0-be04-40c6-b002-a7ecbe3190c2\") & $\\dots$ \\\\\n",
       "\t27 & v\"1.8.0-beta1-233a8c9b2b\" & 0 & ApproxFunSingularities & UUID(\"f8fcb915-6b99-5be2-b79a-d6dbef8e6e7e\") & $\\dots$ \\\\\n",
       "\t28 & v\"1.8.0-beta1-233a8c9b2b\" & 0 & SlackThreads & UUID(\"a271ce43-5be6-465b-b549-2328063b090f\") & $\\dots$ \\\\\n",
       "\t29 & v\"1.8.0-beta1-233a8c9b2b\" & 0 & LRSLib & UUID(\"262c1cb6-76e2-5873-868b-19ece3183cc5\") & $\\dots$ \\\\\n",
       "\t30 & v\"1.8.0-beta1-233a8c9b2b\" & 0 & ApproxFun & UUID(\"28f2ccd6-bb30-5033-b560-165f7b14dc2f\") & $\\dots$ \\\\\n",
       "\t$\\dots$ & $\\dots$ & $\\dots$ & $\\dots$ & $\\dots$ &  \\\\\n",
       "\\end{tabular}\n"
      ],
      "text/plain": [
       "\u001b[1m43×19 DataFrame\u001b[0m\n",
       "\u001b[1m Row \u001b[0m│\u001b[1m julia                     \u001b[0m\u001b[1m compiled \u001b[0m\u001b[1m name                           \u001b[0m\u001b[1m uu\u001b[0m ⋯\n",
       "\u001b[1m     \u001b[0m│\u001b[90m String                    \u001b[0m\u001b[90m Bool     \u001b[0m\u001b[90m String                         \u001b[0m\u001b[90m St\u001b[0m ⋯\n",
       "─────┼──────────────────────────────────────────────────────────────────────────\n",
       "   1 │ v\"1.8.0-beta1-233a8c9b2b\"     false  PkgDeps                         UU ⋯\n",
       "   2 │ v\"1.8.0-beta1-233a8c9b2b\"     false  LiterateTest                    UU\n",
       "   3 │ v\"1.8.0-beta1-233a8c9b2b\"     false  ProfileSVG                      UU\n",
       "   4 │ v\"1.8.0-beta1-233a8c9b2b\"     false  RangeHelpers                    UU\n",
       "   5 │ v\"1.8.0-beta1-233a8c9b2b\"     false  SIMD                            UU ⋯\n",
       "   6 │ v\"1.8.0-beta1-233a8c9b2b\"     false  TensorKitManifolds              UU\n",
       "   7 │ v\"1.8.0-beta1-233a8c9b2b\"     false  BEASTXMLConstructor             UU\n",
       "   8 │ v\"1.8.0-beta1-233a8c9b2b\"     false  Dash                            UU\n",
       "   9 │ v\"1.8.0-beta1-233a8c9b2b\"     false  JET                             UU ⋯\n",
       "  10 │ v\"1.8.0-beta1-233a8c9b2b\"     false  StatProfilerHTML                UU\n",
       "  11 │ v\"1.8.0-beta1-233a8c9b2b\"     false  MIRTjim                         UU\n",
       "  ⋮  │             ⋮                 ⋮                    ⋮                    ⋱\n",
       "  34 │ v\"1.8.0-beta1-233a8c9b2b\"     false  QML                             UU\n",
       "  35 │ v\"1.8.0-beta1-233a8c9b2b\"     false  HierarchicalUtils               UU ⋯\n",
       "  36 │ v\"1.8.0-beta1-233a8c9b2b\"     false  SingularIntegralEquations       UU\n",
       "  37 │ v\"1.8.0-beta1-233a8c9b2b\"     false  Qwind                           UU\n",
       "  38 │ v\"1.8.0-beta1-233a8c9b2b\"     false  PowerGraphics                   UU\n",
       "  39 │ v\"1.8.0-beta1-233a8c9b2b\"     false  Causal                          UU ⋯\n",
       "  40 │ v\"1.8.0-beta1-233a8c9b2b\"     false  QuantumOptics                   UU\n",
       "  41 │ v\"1.8.0-beta1-233a8c9b2b\"     false  ApproxFunOrthogonalPolynomials  UU\n",
       "  42 │ v\"1.8.0-beta1-233a8c9b2b\"     false  ClimaCore                       UU\n",
       "  43 │ v\"1.8.0-beta1-233a8c9b2b\"     false  StochasticDiffEq                UU ⋯\n",
       "\u001b[36m                                                  16 columns and 22 rows omitted\u001b[0m"
      ]
     },
     "execution_count": 49,
     "metadata": {},
     "output_type": "execute_result"
    }
   ],
   "source": [
    "# Unknown failures\n",
    "\n",
    "filter(x -> x.why == Unknown && \n",
    "       !(x.name in issues_opened) && \n",
    "       !(x.name in likely_tol) && \n",
    "       !(x.name in ignored_packages) && \n",
    "       !(x.name in fixed), \n",
    "    fails)"
   ]
  },
  {
   "cell_type": "code",
   "execution_count": 39,
   "metadata": {
    "scrolled": true
   },
   "outputs": [
    {
     "data": {
      "text/plain": [
       "27-element Vector{Any}:\n",
       " (50, Unknown)\n",
       " (30, PrintingChange)\n",
       " (18, NewExceptionType)\n",
       " (17, CcallType)\n",
       " (15, UninstalledDep)\n",
       " (13, LLVMVersion)\n",
       " (6, CxxWrap)\n",
       " (6, ApproxError)\n",
       " (6, NewAmbiguity)\n",
       " (4, InfinityArrays)\n",
       " (4, ReturnType)\n",
       " (4, CloseWrite)\n",
       " (4, DocTest)\n",
       " ⋮\n",
       " (2, NoMethodZero)\n",
       " (2, MissingBinary)\n",
       " (2, UnsatReq)\n",
       " (2, InferredFailure)\n",
       " (1, TypeNameConstField)\n",
       " (1, JSONUndefinedReference)\n",
       " (1, IOBufferWritable)\n",
       " (1, ImageReference)\n",
       " (1, Inactivity)\n",
       " (1, StderrCheck)\n",
       " (1, VisualRegression)\n",
       " (1, TestAmbiguities)"
      ]
     },
     "execution_count": 39,
     "metadata": {},
     "output_type": "execute_result"
    }
   ],
   "source": [
    "# Categorize\n",
    "\n",
    "z = []\n",
    "for i in instances(FailureType)\n",
    "    n = count(row -> row.why == i, eachrow(fails))\n",
    "    n > 0 && push!(z, (n, i))\n",
    "end\n",
    "sort!(z; rev=true)"
   ]
  },
  {
   "cell_type": "code",
   "execution_count": 40,
   "metadata": {},
   "outputs": [
    {
     "data": {
      "text/plain": [
       "String[]"
      ]
     },
     "execution_count": 40,
     "metadata": {},
     "output_type": "execute_result"
    }
   ],
   "source": []
  },
  {
   "cell_type": "code",
   "execution_count": null,
   "metadata": {},
   "outputs": [],
   "source": []
  },
  {
   "cell_type": "code",
   "execution_count": null,
   "metadata": {},
   "outputs": [],
   "source": []
  }
 ],
 "metadata": {
  "@webio": {
   "lastCommId": null,
   "lastKernelId": null
  },
  "kernelspec": {
   "display_name": "Julia 1.7.2",
   "language": "julia",
   "name": "julia-1.7"
  },
  "language_info": {
   "file_extension": ".jl",
   "mimetype": "application/julia",
   "name": "julia",
   "version": "1.7.2"
  }
 },
 "nbformat": 4,
 "nbformat_minor": 4
}
