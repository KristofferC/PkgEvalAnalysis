{
 "cells": [
  {
   "cell_type": "markdown",
   "metadata": {},
   "source": [
    "# PkgEvalAnalysis\n",
    "\n",
    "Latest pkgeval: https://s3.amazonaws.com/julialang-reports/nanosoldier/pkgeval/by_hash/64a9bb9_vs_2ca8b0c/report.html"
   ]
  },
  {
   "cell_type": "code",
   "execution_count": 1,
   "metadata": {},
   "outputs": [],
   "source": [
    "using DataFrames, Feather"
   ]
  },
  {
   "cell_type": "code",
   "execution_count": 2,
   "metadata": {},
   "outputs": [],
   "source": [
    "@enum FailureType begin\n",
    "    # General ones\n",
    "    Unknown\n",
    "    InferredFailure\n",
    "    PrintingChange\n",
    "    TestAmbiguities\n",
    "    NewAmbiguity\n",
    "    ApproxError\n",
    "    DocTest\n",
    "    NewExceptionType\n",
    "    DownloadError\n",
    "    UnexpectedPass\n",
    "    BadBoy\n",
    "    SyntaxError\n",
    "    VisualRegression\n",
    "    MissingDep\n",
    "    BuildError\n",
    "    UnsatReq\n",
    "    BSONDataTypeField\n",
    "    Belapsed\n",
    "    StderrCheck\n",
    "    \n",
    "    # From PkgEval\n",
    "    MissingDependency\n",
    "    Inactivity\n",
    "    MissingBinary\n",
    "    Untestable\n",
    "    LogLimit\n",
    "    TimeLimit\n",
    "    Syntax\n",
    "    \n",
    "    # Specific ones\n",
    "    Cassette\n",
    "    LLVMVersion\n",
    "    UninstalledDep\n",
    "    ImageReference\n",
    "    IOBufferWritable\n",
    "    JSONUndefinedReference\n",
    "    CcallType\n",
    "    NoMethodZero\n",
    "    CloseWrite\n",
    "    ReturnType\n",
    "    StdinBuffer\n",
    "    BlockArraysIsLess\n",
    "    TypeNameConstField\n",
    "    CxxWrap\n",
    "    InfinityArrays\n",
    "    \n",
    "end\n"
   ]
  },
  {
   "cell_type": "code",
   "execution_count": 3,
   "metadata": {
    "scrolled": true
   },
   "outputs": [],
   "source": [
    "# Unpack the data unless it has already been unpacked\n",
    "\n",
    "if !isdir(\"data\")\n",
    "    run(`tar -xvf data.tar.xz`)\n",
    "end\n",
    "primary  = Feather.read(\"data/primary.feather\");\n",
    "against = Feather.read(\"data/against.feather\");"
   ]
  },
  {
   "cell_type": "code",
   "execution_count": 4,
   "metadata": {},
   "outputs": [],
   "source": [
    "# Join the primary and against data\n",
    "\n",
    "package_results = leftjoin(primary, against,\n",
    "     on=:uuid, makeunique=true, indicator=:source);"
   ]
  },
  {
   "cell_type": "code",
   "execution_count": 5,
   "metadata": {},
   "outputs": [],
   "source": [
    "# Filter out packages that started failing but didn't start failing when the RNG stream changed\n",
    "\n",
    "fails = filter(test->test.source == \"both\" &&\n",
    "                 test.status != test.status_1 &&\n",
    "                 test.status in (\":fail\", \":kill\"), package_results)\n",
    "\n",
    "# Initially we do not know why a package failed\n",
    "fails.why = fill(Unknown, size(fails, 1));\n",
    "\n",
    "missing_binary_idx     = fails.reason .== \":binary_dependency\"\n",
    "inactivity_idx         = fails.reason .== \":inactivity\"\n",
    "missing_dependency_idx = fails.reason .== \":missing_dependency\"\n",
    "untestable_idx         = fails.reason .== \":untestable\"\n",
    "log_limit_idx          = fails.reason .== \":log_limit\"\n",
    "time_limit_idx         = fails.reason .== \":time_limit\"\n",
    "\n",
    "# Initially we do not know why a package failed\n",
    "fails.why = fill(Unknown, size(fails, 1));\n",
    "\n",
    "fails.why[missing_binary_idx]     .= MissingBinary\n",
    "fails.why[inactivity_idx]         .= Inactivity\n",
    "fails.why[missing_dependency_idx] .= MissingDependency\n",
    "fails.why[untestable_idx]         .= Untestable\n",
    "fails.why[log_limit_idx]          .= LogLimit\n",
    "fails.why[time_limit_idx]         .= TimeLimit\n",
    "\n",
    "nothing"
   ]
  },
  {
   "cell_type": "code",
   "execution_count": 6,
   "metadata": {},
   "outputs": [
    {
     "data": {
      "text/plain": [
       "total_unknown (generic function with 1 method)"
      ]
     },
     "execution_count": 6,
     "metadata": {},
     "output_type": "execute_result"
    }
   ],
   "source": [
    "# Some utility functions\n",
    "\n",
    "query(fails, s) = filter(row -> occursin(s, row[:log]), fails)    \n",
    "\n",
    "function update_reason!(fails, needle, why)\n",
    "    idxs = findall(row -> occursin(needle, row), fails.log)\n",
    "    fails.why[idxs] .= why\n",
    "    return fails\n",
    "end\n",
    "\n",
    "total_unknown(fails) = count(x -> x.why == Unknown, eachrow(fails))"
   ]
  },
  {
   "cell_type": "code",
   "execution_count": 7,
   "metadata": {},
   "outputs": [
    {
     "data": {
      "text/html": [
       "<table class=\"data-frame\"><thead><tr><th></th><th>julia</th><th>compiled</th><th>name</th><th>uuid</th><th>version</th><th>status</th><th>reason</th><th>duration</th><th>log</th><th>julia_1</th></tr><tr><th></th><th>String</th><th>Bool</th><th>String</th><th>String</th><th>String</th><th>String</th><th>String</th><th>Float64</th><th>String</th><th>String?</th></tr></thead><tbody><p>0 rows × 19 columns (omitted printing of 9 columns)</p></tbody></table>"
      ],
      "text/latex": [
       "\\begin{tabular}{r|ccccccccccc}\n",
       "\t& julia & compiled & name & uuid & version & status & reason & duration & log & julia\\_1 & \\\\\n",
       "\t\\hline\n",
       "\t& String & Bool & String & String & String & String & String & Float64 & String & String? & \\\\\n",
       "\t\\hline\n",
       "\\end{tabular}\n"
      ],
      "text/plain": [
       "\u001b[1m0×19 DataFrame\u001b[0m"
      ]
     },
     "execution_count": 7,
     "metadata": {},
     "output_type": "execute_result"
    }
   ],
   "source": [
    "query(fails, \"probe_platform_engines!\")"
   ]
  },
  {
   "cell_type": "code",
   "execution_count": 8,
   "metadata": {},
   "outputs": [],
   "source": [
    "# Here we pattern match certain test errors and categorize them based on that.\n",
    "\n",
    "# Generic ones\n",
    "update_reason!(fails, \"Test.detect_ambiguities\", TestAmbiguities)\n",
    "update_reason!(fails, \"detect_ambiguities(\", TestAmbiguities)\n",
    "\n",
    "update_reason!(fails, \"Expression: all_doctests()\", DocTest)\n",
    "update_reason!(fails, \"Error: doctest failure in \", DocTest)\n",
    "\n",
    "update_reason!(fails, \"does not match inferred return type\", InferredFailure);\n",
    "update_reason!(fails, \"Expression: isapprox\", ApproxError)\n",
    "update_reason!(fails, r\"Expression: (\\S*) ≈ (\\S*)\", ApproxError) \n",
    "update_reason!(fails, \"Expression: ≈(\", ApproxError)\n",
    "    \n",
    "update_reason!(fails, \"is ambiguous. Candidates:\", NewAmbiguity)\n",
    "update_reason!(fails, \" ambiguities found\", NewAmbiguity)\n",
    "\n",
    "update_reason!(fails, \"Unsatisfiable requirements detected for package\", UnsatReq)\n",
    "\n",
    "\n",
    "\n",
    "update_reason!(fails, \"Log Test Failed at\", PrintingChange)\n",
    "update_reason!(fails, \"Expression: occursin(r\\\"\", PrintingChange)\n",
    "update_reason!(fails, \"Expression: startswith(\", PrintingChange)\n",
    "update_reason!(fails, r\"Expression: (\\N.*?) == \", PrintingChange)\n",
    "update_reason!(fails, \"Evaluated: occursin(\", PrintingChange)\n",
    "update_reason!(fails, \"Evaluated: endswith(\", PrintingChange)\n",
    "update_reason!(fails, \"- DIFF ------------------------\", PrintingChange)\n",
    "update_reason!(fails, \"LoadError: syntax\", SyntaxError)\n",
    "\n",
    "update_reason!(fails, \"Image did not match reference image\", VisualRegression)\n",
    "\n",
    "update_reason!(fails, \"      Thrown: \", NewExceptionType)\n",
    "update_reason!(fails, \"The requested URL returned error\", DownloadError)\n",
    "update_reason!(fails, \"gzip: stdin: not in gzip format\", DownloadError)\n",
    "update_reason!(fails, \"Unexpected Pass\", UnexpectedPass)\n",
    "\n",
    "update_reason!(fails, \"Error building \", BuildError)\n",
    "update_reason!(fails, \"isempty(stderr_content)\", StderrCheck)\n",
    "\n",
    "\n",
    "\n",
    "\n",
    "# Specific ones for this release\n",
    "update_reason!(fails, \"Cassette.overdub\", Cassette)\n",
    "update_reason!(fails, \"libLLVM-12jl.so\", LLVMVersion)\n",
    "update_reason!(fails, \"You may have a partially installed environment\", UninstalledDep)\n",
    "update_reason!(fails, \"- REFERENCE -------------------\", ImageReference)\n",
    "update_reason!(fails, \"ArgumentError: ensureroom failed, IOBuffer is not writeable\", IOBufferWritable)\n",
    "update_reason!(fails, \"JSON.Writer ~/.julia/packages/JSON/NeJ9k/src/Writer.jl:285\", JSONUndefinedReference)\n",
    "update_reason!(fails, \"ccall method definition: argument 1 type doesn't correspond to a C type\", CcallType)\n",
    "update_reason!(fails, \"no method matching zero\", NoMethodZero)\n",
    "update_reason!(fails, \"closewrite not defined\", CloseWrite)\n",
    "update_reason!(fails, \"no method matching return_type\", ReturnType)\n",
    "update_reason!(fails, \"type IOStream has no field buffer\", StdinBuffer)\n",
    "update_reason!(fails, \"UndefVarError: _isless not defined\", BlockArraysIsLess)\n",
    "update_reason!(fails, \"setfield!: const field .names of type TypeName cannot be changed\", TypeNameConstField)\n",
    "update_reason!(fails, \"C++ exception while wrapping module\", CxxWrap)\n",
    "update_reason!(fails, \"no method matching Infinities.Infinity(::Float64)\", InfinityArrays)\n",
    "\n",
    "\n",
    "\n",
    "\n",
    "\n",
    "\n",
    "nothing"
   ]
  },
  {
   "cell_type": "code",
   "execution_count": 9,
   "metadata": {},
   "outputs": [
    {
     "data": {
      "text/plain": [
       "Any[]"
      ]
     },
     "execution_count": 9,
     "metadata": {},
     "output_type": "execute_result"
    }
   ],
   "source": [
    "# Packages that have gotten  \n",
    "\n",
    "issues_opened = [\n",
    "    \"StaticKernels\" # https://github.com/stev47/StaticKernels.jl/issues/5\n",
    "    \"Polyhedra\" # https://github.com/JuliaPolyhedra/Polyhedra.jl\n",
    "    \"TexasHoldEm\" # https://github.com/charleskawczynski/TexasHoldem.jl/issues/106\n",
    "    \"RedefStructs\" # https://github.com/FedericoStra/RedefStructs.jl/issues/4\n",
    "    \"Memento\" # https://github.com/invenia/Memento.jl/issues/184\n",
    "]\n",
    "\n",
    "likely_tol = [\n",
    "    \"TaylorModels\"\n",
    "];\n",
    "\n",
    "fixed = [\n",
    "    \"GeoDataFrames\" # https://github.com/evetion/GeoDataFrames.jl/pull/30\n",
    "]\n",
    "\n",
    "\n",
    "\n",
    "\n",
    "ignored_packages = [\n",
    "]"
   ]
  },
  {
   "cell_type": "code",
   "execution_count": 10,
   "metadata": {},
   "outputs": [
    {
     "data": {
      "text/plain": [
       "54"
      ]
     },
     "execution_count": 10,
     "metadata": {},
     "output_type": "execute_result"
    }
   ],
   "source": [
    "# Total package failures that we haven't categorized\n",
    "\n",
    "total_unknown(fails)"
   ]
  },
  {
   "cell_type": "markdown",
   "metadata": {},
   "source": [
    "# Examples\n",
    "\n",
    "Here are some examples of how one might do queries and categorize errors"
   ]
  },
  {
   "cell_type": "code",
   "execution_count": null,
   "metadata": {},
   "outputs": [],
   "source": []
  },
  {
   "cell_type": "code",
   "execution_count": 11,
   "metadata": {
    "scrolled": true
   },
   "outputs": [
    {
     "data": {
      "text/html": [
       "<table class=\"data-frame\"><thead><tr><th></th><th>julia</th><th>compiled</th><th>name</th><th>uuid</th></tr><tr><th></th><th>String</th><th>Bool</th><th>String</th><th>String</th></tr></thead><tbody><p>50 rows × 19 columns (omitted printing of 15 columns)</p><tr><th>1</th><td>v\"1.8.0-DEV-8f13bff82b\"</td><td>0</td><td>CodeInfoTools</td><td>UUID(\"bc773b8a-8374-437a-b9f2-0e9785855863\")</td></tr><tr><th>2</th><td>v\"1.8.0-DEV-8f13bff82b\"</td><td>0</td><td>GPUCompiler</td><td>UUID(\"61eb1bfa-7361-4325-ad38-22787b887f55\")</td></tr><tr><th>3</th><td>v\"1.8.0-DEV-8f13bff82b\"</td><td>0</td><td>Bonsai</td><td>UUID(\"30a8ad1e-2947-4f5c-9f0c-168e614e8e53\")</td></tr><tr><th>4</th><td>v\"1.8.0-DEV-8f13bff82b\"</td><td>0</td><td>GarishPrint</td><td>UUID(\"b0ab02a7-8576-43f7-aa76-eaa7c3897c54\")</td></tr><tr><th>5</th><td>v\"1.8.0-DEV-8f13bff82b\"</td><td>0</td><td>JET</td><td>UUID(\"c3a54625-cd67-489e-a8e7-0a5a0ff4e31b\")</td></tr><tr><th>6</th><td>v\"1.8.0-DEV-8f13bff82b\"</td><td>0</td><td>ArrayLayouts</td><td>UUID(\"4c555306-a7a7-4459-81d9-ec55ddd5c99a\")</td></tr><tr><th>7</th><td>v\"1.8.0-DEV-8f13bff82b\"</td><td>0</td><td>EquationsOfStateOfSolids</td><td>UUID(\"1eaa2786-f833-4167-8397-974edad0881e\")</td></tr><tr><th>8</th><td>v\"1.8.0-DEV-8f13bff82b\"</td><td>0</td><td>LiterateTest</td><td>UUID(\"d77d25b0-90d3-4a16-b10a-412a9d48f625\")</td></tr><tr><th>9</th><td>v\"1.8.0-DEV-8f13bff82b\"</td><td>0</td><td>TensorKitManifolds</td><td>UUID(\"11fa318c-39cb-4a83-b1ed-cdc7ba1e3684\")</td></tr><tr><th>10</th><td>v\"1.8.0-DEV-8f13bff82b\"</td><td>0</td><td>TORA</td><td>UUID(\"a6da6c0f-f153-4ec6-bf42-6dc0ab733f84\")</td></tr><tr><th>11</th><td>v\"1.8.0-DEV-8f13bff82b\"</td><td>0</td><td>MIRTjim</td><td>UUID(\"170b2178-6dee-4cb0-8729-b3e8b57834cc\")</td></tr><tr><th>12</th><td>v\"1.8.0-DEV-8f13bff82b\"</td><td>0</td><td>FlxQTL</td><td>UUID(\"ede81e08-c6d8-4fe3-94c2-f928d9d678ed\")</td></tr><tr><th>13</th><td>v\"1.8.0-DEV-8f13bff82b\"</td><td>0</td><td>Poltergeist</td><td>UUID(\"89210da2-f0be-5ef8-ba65-10393cce509d\")</td></tr><tr><th>14</th><td>v\"1.8.0-DEV-8f13bff82b\"</td><td>0</td><td>LRSLib</td><td>UUID(\"262c1cb6-76e2-5873-868b-19ece3183cc5\")</td></tr><tr><th>15</th><td>v\"1.8.0-DEV-8f13bff82b\"</td><td>0</td><td>SIMD</td><td>UUID(\"fdea26ae-647d-5447-a871-4b548cad5224\")</td></tr><tr><th>16</th><td>v\"1.8.0-DEV-8f13bff82b\"</td><td>0</td><td>SpecialFunctions</td><td>UUID(\"276daf66-3868-5448-9aa4-cd146d93841b\")</td></tr><tr><th>17</th><td>v\"1.8.0-DEV-8f13bff82b\"</td><td>0</td><td>FillArrays</td><td>UUID(\"1a297f60-69ca-5386-bcde-b61e274b549b\")</td></tr><tr><th>18</th><td>v\"1.8.0-DEV-8f13bff82b\"</td><td>0</td><td>WriteVTK</td><td>UUID(\"64499a7a-5c06-52f2-abe2-ccb03c286192\")</td></tr><tr><th>19</th><td>v\"1.8.0-DEV-8f13bff82b\"</td><td>0</td><td>StatProfilerHTML</td><td>UUID(\"a8a75453-ed82-57c9-9e16-4cd1196ecbf5\")</td></tr><tr><th>20</th><td>v\"1.8.0-DEV-8f13bff82b\"</td><td>0</td><td>Mamba</td><td>UUID(\"5424a776-8be3-5c5b-a13f-3551f69ba0e6\")</td></tr><tr><th>21</th><td>v\"1.8.0-DEV-8f13bff82b\"</td><td>0</td><td>Dash</td><td>UUID(\"1b08a953-4be3-4667-9a23-3db579824955\")</td></tr><tr><th>22</th><td>v\"1.8.0-DEV-8f13bff82b\"</td><td>0</td><td>NMRTools</td><td>UUID(\"c2839fe3-f1de-42fc-897f-c1b0e8db4db6\")</td></tr><tr><th>23</th><td>v\"1.8.0-DEV-8f13bff82b\"</td><td>0</td><td>PkgDeps</td><td>UUID(\"839e9fc8-855b-5b3c-a3b7-2833d3dd1f59\")</td></tr><tr><th>24</th><td>v\"1.8.0-DEV-8f13bff82b\"</td><td>0</td><td>RiemannHilbert</td><td>UUID(\"79305c5b-9889-52e9-bdbd-56f883c71fe0\")</td></tr><tr><th>25</th><td>v\"1.8.0-DEV-8f13bff82b\"</td><td>0</td><td>TimeZones</td><td>UUID(\"f269a46b-ccf7-5d73-abea-4c690281aa53\")</td></tr><tr><th>26</th><td>v\"1.8.0-DEV-8f13bff82b\"</td><td>0</td><td>RangeHelpers</td><td>UUID(\"3a07dd3d-1c52-4395-8858-40c6328157db\")</td></tr><tr><th>27</th><td>v\"1.8.0-DEV-8f13bff82b\"</td><td>0</td><td>FastTransforms</td><td>UUID(\"057dd010-8810-581a-b7be-e3fc3b93f78c\")</td></tr><tr><th>28</th><td>v\"1.8.0-DEV-8f13bff82b\"</td><td>0</td><td>OscillatoryIntegrals</td><td>UUID(\"36d79ec0-be04-40c6-b002-a7ecbe3190c2\")</td></tr><tr><th>29</th><td>v\"1.8.0-DEV-8f13bff82b\"</td><td>0</td><td>ProfileSVG</td><td>UUID(\"132c30aa-f267-4189-9183-c8a63c7e05e6\")</td></tr><tr><th>30</th><td>v\"1.8.0-DEV-8f13bff82b\"</td><td>0</td><td>DataKnots</td><td>UUID(\"f3f2b2ad-91c8-5588-b964-d77e2d3bb090\")</td></tr><tr><th>&vellip;</th><td>&vellip;</td><td>&vellip;</td><td>&vellip;</td><td>&vellip;</td></tr></tbody></table>"
      ],
      "text/latex": [
       "\\begin{tabular}{r|ccccc}\n",
       "\t& julia & compiled & name & uuid & \\\\\n",
       "\t\\hline\n",
       "\t& String & Bool & String & String & \\\\\n",
       "\t\\hline\n",
       "\t1 & v\"1.8.0-DEV-8f13bff82b\" & 0 & CodeInfoTools & UUID(\"bc773b8a-8374-437a-b9f2-0e9785855863\") & $\\dots$ \\\\\n",
       "\t2 & v\"1.8.0-DEV-8f13bff82b\" & 0 & GPUCompiler & UUID(\"61eb1bfa-7361-4325-ad38-22787b887f55\") & $\\dots$ \\\\\n",
       "\t3 & v\"1.8.0-DEV-8f13bff82b\" & 0 & Bonsai & UUID(\"30a8ad1e-2947-4f5c-9f0c-168e614e8e53\") & $\\dots$ \\\\\n",
       "\t4 & v\"1.8.0-DEV-8f13bff82b\" & 0 & GarishPrint & UUID(\"b0ab02a7-8576-43f7-aa76-eaa7c3897c54\") & $\\dots$ \\\\\n",
       "\t5 & v\"1.8.0-DEV-8f13bff82b\" & 0 & JET & UUID(\"c3a54625-cd67-489e-a8e7-0a5a0ff4e31b\") & $\\dots$ \\\\\n",
       "\t6 & v\"1.8.0-DEV-8f13bff82b\" & 0 & ArrayLayouts & UUID(\"4c555306-a7a7-4459-81d9-ec55ddd5c99a\") & $\\dots$ \\\\\n",
       "\t7 & v\"1.8.0-DEV-8f13bff82b\" & 0 & EquationsOfStateOfSolids & UUID(\"1eaa2786-f833-4167-8397-974edad0881e\") & $\\dots$ \\\\\n",
       "\t8 & v\"1.8.0-DEV-8f13bff82b\" & 0 & LiterateTest & UUID(\"d77d25b0-90d3-4a16-b10a-412a9d48f625\") & $\\dots$ \\\\\n",
       "\t9 & v\"1.8.0-DEV-8f13bff82b\" & 0 & TensorKitManifolds & UUID(\"11fa318c-39cb-4a83-b1ed-cdc7ba1e3684\") & $\\dots$ \\\\\n",
       "\t10 & v\"1.8.0-DEV-8f13bff82b\" & 0 & TORA & UUID(\"a6da6c0f-f153-4ec6-bf42-6dc0ab733f84\") & $\\dots$ \\\\\n",
       "\t11 & v\"1.8.0-DEV-8f13bff82b\" & 0 & MIRTjim & UUID(\"170b2178-6dee-4cb0-8729-b3e8b57834cc\") & $\\dots$ \\\\\n",
       "\t12 & v\"1.8.0-DEV-8f13bff82b\" & 0 & FlxQTL & UUID(\"ede81e08-c6d8-4fe3-94c2-f928d9d678ed\") & $\\dots$ \\\\\n",
       "\t13 & v\"1.8.0-DEV-8f13bff82b\" & 0 & Poltergeist & UUID(\"89210da2-f0be-5ef8-ba65-10393cce509d\") & $\\dots$ \\\\\n",
       "\t14 & v\"1.8.0-DEV-8f13bff82b\" & 0 & LRSLib & UUID(\"262c1cb6-76e2-5873-868b-19ece3183cc5\") & $\\dots$ \\\\\n",
       "\t15 & v\"1.8.0-DEV-8f13bff82b\" & 0 & SIMD & UUID(\"fdea26ae-647d-5447-a871-4b548cad5224\") & $\\dots$ \\\\\n",
       "\t16 & v\"1.8.0-DEV-8f13bff82b\" & 0 & SpecialFunctions & UUID(\"276daf66-3868-5448-9aa4-cd146d93841b\") & $\\dots$ \\\\\n",
       "\t17 & v\"1.8.0-DEV-8f13bff82b\" & 0 & FillArrays & UUID(\"1a297f60-69ca-5386-bcde-b61e274b549b\") & $\\dots$ \\\\\n",
       "\t18 & v\"1.8.0-DEV-8f13bff82b\" & 0 & WriteVTK & UUID(\"64499a7a-5c06-52f2-abe2-ccb03c286192\") & $\\dots$ \\\\\n",
       "\t19 & v\"1.8.0-DEV-8f13bff82b\" & 0 & StatProfilerHTML & UUID(\"a8a75453-ed82-57c9-9e16-4cd1196ecbf5\") & $\\dots$ \\\\\n",
       "\t20 & v\"1.8.0-DEV-8f13bff82b\" & 0 & Mamba & UUID(\"5424a776-8be3-5c5b-a13f-3551f69ba0e6\") & $\\dots$ \\\\\n",
       "\t21 & v\"1.8.0-DEV-8f13bff82b\" & 0 & Dash & UUID(\"1b08a953-4be3-4667-9a23-3db579824955\") & $\\dots$ \\\\\n",
       "\t22 & v\"1.8.0-DEV-8f13bff82b\" & 0 & NMRTools & UUID(\"c2839fe3-f1de-42fc-897f-c1b0e8db4db6\") & $\\dots$ \\\\\n",
       "\t23 & v\"1.8.0-DEV-8f13bff82b\" & 0 & PkgDeps & UUID(\"839e9fc8-855b-5b3c-a3b7-2833d3dd1f59\") & $\\dots$ \\\\\n",
       "\t24 & v\"1.8.0-DEV-8f13bff82b\" & 0 & RiemannHilbert & UUID(\"79305c5b-9889-52e9-bdbd-56f883c71fe0\") & $\\dots$ \\\\\n",
       "\t25 & v\"1.8.0-DEV-8f13bff82b\" & 0 & TimeZones & UUID(\"f269a46b-ccf7-5d73-abea-4c690281aa53\") & $\\dots$ \\\\\n",
       "\t26 & v\"1.8.0-DEV-8f13bff82b\" & 0 & RangeHelpers & UUID(\"3a07dd3d-1c52-4395-8858-40c6328157db\") & $\\dots$ \\\\\n",
       "\t27 & v\"1.8.0-DEV-8f13bff82b\" & 0 & FastTransforms & UUID(\"057dd010-8810-581a-b7be-e3fc3b93f78c\") & $\\dots$ \\\\\n",
       "\t28 & v\"1.8.0-DEV-8f13bff82b\" & 0 & OscillatoryIntegrals & UUID(\"36d79ec0-be04-40c6-b002-a7ecbe3190c2\") & $\\dots$ \\\\\n",
       "\t29 & v\"1.8.0-DEV-8f13bff82b\" & 0 & ProfileSVG & UUID(\"132c30aa-f267-4189-9183-c8a63c7e05e6\") & $\\dots$ \\\\\n",
       "\t30 & v\"1.8.0-DEV-8f13bff82b\" & 0 & DataKnots & UUID(\"f3f2b2ad-91c8-5588-b964-d77e2d3bb090\") & $\\dots$ \\\\\n",
       "\t$\\dots$ & $\\dots$ & $\\dots$ & $\\dots$ & $\\dots$ &  \\\\\n",
       "\\end{tabular}\n"
      ],
      "text/plain": [
       "\u001b[1m50×19 DataFrame\u001b[0m\n",
       "\u001b[1m Row \u001b[0m│\u001b[1m julia                   \u001b[0m\u001b[1m compiled \u001b[0m\u001b[1m name                           \u001b[0m\u001b[1m uuid\u001b[0m ⋯\n",
       "\u001b[1m     \u001b[0m│\u001b[90m String                  \u001b[0m\u001b[90m Bool     \u001b[0m\u001b[90m String                         \u001b[0m\u001b[90m Stri\u001b[0m ⋯\n",
       "─────┼──────────────────────────────────────────────────────────────────────────\n",
       "   1 │ v\"1.8.0-DEV-8f13bff82b\"     false  CodeInfoTools                   UUID ⋯\n",
       "   2 │ v\"1.8.0-DEV-8f13bff82b\"     false  GPUCompiler                     UUID\n",
       "   3 │ v\"1.8.0-DEV-8f13bff82b\"     false  Bonsai                          UUID\n",
       "   4 │ v\"1.8.0-DEV-8f13bff82b\"     false  GarishPrint                     UUID\n",
       "   5 │ v\"1.8.0-DEV-8f13bff82b\"     false  JET                             UUID ⋯\n",
       "   6 │ v\"1.8.0-DEV-8f13bff82b\"     false  ArrayLayouts                    UUID\n",
       "   7 │ v\"1.8.0-DEV-8f13bff82b\"     false  EquationsOfStateOfSolids        UUID\n",
       "   8 │ v\"1.8.0-DEV-8f13bff82b\"     false  LiterateTest                    UUID\n",
       "   9 │ v\"1.8.0-DEV-8f13bff82b\"     false  TensorKitManifolds              UUID ⋯\n",
       "  10 │ v\"1.8.0-DEV-8f13bff82b\"     false  TORA                            UUID\n",
       "  11 │ v\"1.8.0-DEV-8f13bff82b\"     false  MIRTjim                         UUID\n",
       "  ⋮  │            ⋮                ⋮                    ⋮                      ⋱\n",
       "  41 │ v\"1.8.0-DEV-8f13bff82b\"     false  QML                             UUID\n",
       "  42 │ v\"1.8.0-DEV-8f13bff82b\"     false  SingularIntegralEquations       UUID ⋯\n",
       "  43 │ v\"1.8.0-DEV-8f13bff82b\"     false  ApproxFunSingularities          UUID\n",
       "  44 │ v\"1.8.0-DEV-8f13bff82b\"     false  Juniper                         UUID\n",
       "  45 │ v\"1.8.0-DEV-8f13bff82b\"     false  ApproxFunOrthogonalPolynomials  UUID\n",
       "  46 │ v\"1.8.0-DEV-8f13bff82b\"     false  Causal                          UUID ⋯\n",
       "  47 │ v\"1.8.0-DEV-8f13bff82b\"     false  QuantumOptics                   UUID\n",
       "  48 │ v\"1.8.0-DEV-8f13bff82b\"     false  ApproxFun                       UUID\n",
       "  49 │ v\"1.8.0-DEV-8f13bff82b\"     false  PowerGraphics                   UUID\n",
       "  50 │ v\"1.8.0-DEV-8f13bff82b\"     false  StochasticDiffEq                UUID ⋯\n",
       "\u001b[36m                                                  16 columns and 29 rows omitted\u001b[0m"
      ]
     },
     "execution_count": 11,
     "metadata": {},
     "output_type": "execute_result"
    }
   ],
   "source": [
    "# Unknown failures\n",
    "\n",
    "filter(x -> x.why == Unknown && \n",
    "       !(x.name in issues_opened) && \n",
    "       !(x.name in likely_tol) && \n",
    "       !(x.name in ignored_packages) && \n",
    "       !(x.name in fixed), \n",
    "    fails)"
   ]
  },
  {
   "cell_type": "code",
   "execution_count": 12,
   "metadata": {
    "scrolled": true
   },
   "outputs": [
    {
     "data": {
      "text/plain": [
       "31-element Vector{Any}:\n",
       " (54, Unknown)\n",
       " (34, PrintingChange)\n",
       " (19, NewExceptionType)\n",
       " (17, CcallType)\n",
       " (16, UninstalledDep)\n",
       " (14, LLVMVersion)\n",
       " (7, SyntaxError)\n",
       " (6, CxxWrap)\n",
       " (6, ApproxError)\n",
       " (6, NewAmbiguity)\n",
       " (4, InfinityArrays)\n",
       " (4, ReturnType)\n",
       " (4, DocTest)\n",
       " ⋮\n",
       " (2, UnsatReq)\n",
       " (2, InferredFailure)\n",
       " (1, TypeNameConstField)\n",
       " (1, JSONUndefinedReference)\n",
       " (1, IOBufferWritable)\n",
       " (1, ImageReference)\n",
       " (1, Cassette)\n",
       " (1, Inactivity)\n",
       " (1, StderrCheck)\n",
       " (1, VisualRegression)\n",
       " (1, UnexpectedPass)\n",
       " (1, TestAmbiguities)"
      ]
     },
     "execution_count": 12,
     "metadata": {},
     "output_type": "execute_result"
    }
   ],
   "source": [
    "# Categorize\n",
    "\n",
    "z = []\n",
    "for i in instances(FailureType)\n",
    "    n = count(row -> row.why == i, eachrow(fails))\n",
    "    n > 0 && push!(z, (n, i))\n",
    "end\n",
    "sort!(z; rev=true)"
   ]
  },
  {
   "cell_type": "code",
   "execution_count": 13,
   "metadata": {},
   "outputs": [
    {
     "data": {
      "text/plain": [
       "34-element Vector{String}:\n",
       " \"LoweredCodeUtils\"\n",
       " \"ConjugatePriors\"\n",
       " \"LogRoller\"\n",
       " \"Signals\"\n",
       " \"AxisTables\"\n",
       " \"QuasiArrays\"\n",
       " \"StarAlgebras\"\n",
       " \"BlockArrays\"\n",
       " \"QuantumESPRESSOCommands\"\n",
       " \"DeepDiffs\"\n",
       " \"TimeSeries\"\n",
       " \"CBinding\"\n",
       " \"LegibleLambdas\"\n",
       " ⋮\n",
       " \"SnoopCompile\"\n",
       " \"FeatureEng\"\n",
       " \"ChainRulesCore\"\n",
       " \"SimplePadics\"\n",
       " \"FinRua\"\n",
       " \"StrRegex\"\n",
       " \"TraitSimulation\"\n",
       " \"HomotopyContinuation\"\n",
       " \"MIRT\"\n",
       " \"ControlSystems\"\n",
       " \"CompactBases\"\n",
       " \"PProf\""
      ]
     },
     "execution_count": 13,
     "metadata": {},
     "output_type": "execute_result"
    }
   ],
   "source": [
    "# Package names of some particular failure\n",
    "\n",
    "d = filter(x -> x.why == PrintingChange, fails).name\n",
    "#d = filter(!in(issues_opened), d)\n",
    "#d = filter(!in(likely_tol), d)\n",
    "#join(d, '\\n') |> print"
   ]
  },
  {
   "cell_type": "code",
   "execution_count": null,
   "metadata": {},
   "outputs": [],
   "source": []
  },
  {
   "cell_type": "code",
   "execution_count": null,
   "metadata": {},
   "outputs": [],
   "source": []
  }
 ],
 "metadata": {
  "@webio": {
   "lastCommId": null,
   "lastKernelId": null
  },
  "kernelspec": {
   "display_name": "Julia 1.6.1",
   "language": "julia",
   "name": "julia-1.6"
  },
  "language_info": {
   "file_extension": ".jl",
   "mimetype": "application/julia",
   "name": "julia",
   "version": "1.6.3"
  }
 },
 "nbformat": 4,
 "nbformat_minor": 4
}
