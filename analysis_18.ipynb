{
 "cells": [
  {
   "cell_type": "markdown",
   "metadata": {},
   "source": [
    "# PkgEvalAnalysis\n",
    "\n",
    "Latest pkgeval: https://s3.amazonaws.com/julialang-reports/nanosoldier/pkgeval/by_hash/9b7990d_vs_8611a64/report.html\n"
   ]
  },
  {
   "cell_type": "code",
   "execution_count": 55,
   "metadata": {},
   "outputs": [],
   "source": [
    "using DataFrames, Feather"
   ]
  },
  {
   "cell_type": "code",
   "execution_count": 56,
   "metadata": {},
   "outputs": [],
   "source": [
    "@enum FailureType begin\n",
    "    # General ones\n",
    "    Unknown\n",
    "    InferredFailure\n",
    "    PrintingChange\n",
    "    TestAmbiguities\n",
    "    NewAmbiguity\n",
    "    ApproxError\n",
    "    DocTest\n",
    "    NewExceptionType\n",
    "    DownloadError\n",
    "    UnexpectedPass\n",
    "    BadBoy\n",
    "    SyntaxError\n",
    "    VisualRegression\n",
    "    MissingDep\n",
    "    BuildError\n",
    "    UnsatReq\n",
    "    BSONDataTypeField\n",
    "    Belapsed\n",
    "    StderrCheck\n",
    "    EqChange\n",
    "    \n",
    "    # From PkgEval\n",
    "    MissingDependency\n",
    "    Inactivity\n",
    "    MissingBinary\n",
    "    Untestable\n",
    "    LogLimit\n",
    "    TimeLimit\n",
    "    Syntax\n",
    "    SegmentationFault\n",
    "    \n",
    "    # Specific ones\n",
    "    Cassette\n",
    "    LLVMVersion\n",
    "    UninstalledDep\n",
    "    ImageReference\n",
    "    IOBufferWritable\n",
    "    JSONUndefinedReference\n",
    "    CcallType\n",
    "    NoMethodZero\n",
    "    CloseWrite\n",
    "    ReturnType\n",
    "    StdinBuffer\n",
    "    BlockArraysIsLess\n",
    "    TypeNameConstField\n",
    "    CxxWrap\n",
    "    InfinityArrays\n",
    "    InfinityCardinal\n",
    "    LibEnzyme\n",
    "end\n"
   ]
  },
  {
   "cell_type": "code",
   "execution_count": 57,
   "metadata": {
    "scrolled": true
   },
   "outputs": [
    {
     "name": "stderr",
     "output_type": "stream",
     "text": [
      "x data/\n",
      "x data/primary.feather\n",
      "x data/against.json\n",
      "x data/against.feather\n",
      "x data/primary.json\n"
     ]
    }
   ],
   "source": [
    "# Unpack the data unless it has already been unpacked\n",
    "\n",
    "if !isdir(\"data\")\n",
    "    run(`tar -xvf data.tar.xz`)\n",
    "end\n",
    "primary  = Feather.read(\"data/primary.feather\");\n",
    "against = Feather.read(\"data/against.feather\");"
   ]
  },
  {
   "cell_type": "code",
   "execution_count": 58,
   "metadata": {},
   "outputs": [],
   "source": [
    "# Join the primary and against data\n",
    "\n",
    "package_results = leftjoin(primary, against,\n",
    "     on=:uuid, makeunique=true, indicator=:source);"
   ]
  },
  {
   "cell_type": "code",
   "execution_count": 59,
   "metadata": {},
   "outputs": [],
   "source": [
    "# Filter out packages that started failing but didn't start failing when the RNG stream changed\n",
    "\n",
    "fails = filter(test->test.source == \"both\" &&\n",
    "                 test.status != test.status_1 &&\n",
    "                 test.status in (\":fail\", \":kill\"), package_results)\n",
    "\n",
    "# Initially we do not know why a package failed\n",
    "fails.why = fill(Unknown, size(fails, 1));\n",
    "\n",
    "missing_binary_idx     = fails.reason .== \":binary_dependency\"\n",
    "inactivity_idx         = fails.reason .== \":inactivity\"\n",
    "missing_dependency_idx = fails.reason .== \":missing_dependency\"\n",
    "untestable_idx         = fails.reason .== \":untestable\"\n",
    "log_limit_idx          = fails.reason .== \":log_limit\"\n",
    "time_limit_idx         = fails.reason .== \":time_limit\"\n",
    "segfault_idx           = fails.reason .== \":segfault\"\n",
    "\n",
    "# Initially we do not know why a package failed\n",
    "fails.why = fill(Unknown, size(fails, 1));\n",
    "\n",
    "fails.why[missing_binary_idx]     .= MissingBinary\n",
    "fails.why[inactivity_idx]         .= Inactivity\n",
    "fails.why[missing_dependency_idx] .= MissingDependency\n",
    "fails.why[untestable_idx]         .= Untestable\n",
    "fails.why[log_limit_idx]          .= LogLimit\n",
    "fails.why[time_limit_idx]         .= TimeLimit\n",
    "fails.why[segfault_idx]           .= SegmentationFault\n",
    "\n",
    "\n",
    "nothing"
   ]
  },
  {
   "cell_type": "code",
   "execution_count": 60,
   "metadata": {},
   "outputs": [
    {
     "data": {
      "text/plain": [
       "total_unknown (generic function with 1 method)"
      ]
     },
     "execution_count": 60,
     "metadata": {},
     "output_type": "execute_result"
    }
   ],
   "source": [
    "# Some utility functions\n",
    "\n",
    "query(fails, s) = filter(row -> occursin(s, row[:log]), fails)    \n",
    "\n",
    "function update_reason!(fails, needle, why)\n",
    "    idxs = findall(row -> occursin(needle, row), fails.log)\n",
    "    fails.why[idxs] .= why\n",
    "    return fails\n",
    "end\n",
    "\n",
    "total_unknown(fails) = count(x -> x.why == Unknown, eachrow(fails))"
   ]
  },
  {
   "cell_type": "code",
   "execution_count": 61,
   "metadata": {},
   "outputs": [
    {
     "data": {
      "text/plain": [
       "1-element Vector{String}:\n",
       " \"HierarchicalUtils\""
      ]
     },
     "execution_count": 61,
     "metadata": {},
     "output_type": "execute_result"
    }
   ],
   "source": [
    "query(fails, \" Segmentation fault\").name"
   ]
  },
  {
   "cell_type": "code",
   "execution_count": 62,
   "metadata": {},
   "outputs": [
    {
     "data": {
      "text/html": [
       "<div class=\"data-frame\"><p>65 rows × 9 columns (omitted printing of 5 columns)</p><table class=\"data-frame\"><thead><tr><th></th><th>julia</th><th>compiled</th><th>name</th><th>uuid</th></tr><tr><th></th><th title=\"String\">String</th><th title=\"Bool\">Bool</th><th title=\"String\">String</th><th title=\"String\">String</th></tr></thead><tbody><tr><th>1</th><td>v&quot;1.8.0-beta2-412df00abf&quot;</td><td>0</td><td>NMRTools</td><td>UUID(&quot;c2839fe3-f1de-42fc-897f-c1b0e8db4db6&quot;)</td></tr><tr><th>2</th><td>v&quot;1.8.0-beta2-412df00abf&quot;</td><td>0</td><td>ROCKernels</td><td>UUID(&quot;7eb9e9f0-4bd3-4c4c-8bef-26bd9629d9b9&quot;)</td></tr><tr><th>3</th><td>v&quot;1.8.0-beta2-412df00abf&quot;</td><td>0</td><td>DiscreteEvents</td><td>UUID(&quot;127e53a7-d08a-4bd9-afb0-daf0d2b65a85&quot;)</td></tr><tr><th>4</th><td>v&quot;1.8.0-beta2-412df00abf&quot;</td><td>0</td><td>GeoEfficiency</td><td>UUID(&quot;b1f22607-7830-5ceb-9a8e-05ab1ac77008&quot;)</td></tr><tr><th>5</th><td>v&quot;1.8.0-beta2-412df00abf&quot;</td><td>0</td><td>MEstimation</td><td>UUID(&quot;38feb9b4-a243-49d8-ab24-fe2508a85779&quot;)</td></tr><tr><th>6</th><td>v&quot;1.8.0-beta2-412df00abf&quot;</td><td>0</td><td>StrRegex</td><td>UUID(&quot;2267b70d-4c4a-5da2-8395-98751c0d506a&quot;)</td></tr><tr><th>7</th><td>v&quot;1.8.0-beta2-412df00abf&quot;</td><td>0</td><td>ImageCore</td><td>UUID(&quot;a09fc81d-aa75-5fe9-8630-4744c3626534&quot;)</td></tr><tr><th>8</th><td>v&quot;1.8.0-beta2-412df00abf&quot;</td><td>0</td><td>SOM</td><td>UUID(&quot;172a5912-0be3-5bce-b68a-ea4f60b69b05&quot;)</td></tr><tr><th>9</th><td>v&quot;1.8.0-beta2-412df00abf&quot;</td><td>0</td><td>SpatialBoundaries</td><td>UUID(&quot;8d2ba62a-3d23-4a2b-b692-6b63e9267be2&quot;)</td></tr><tr><th>10</th><td>v&quot;1.8.0-beta2-412df00abf&quot;</td><td>0</td><td>AxisSets</td><td>UUID(&quot;a1a1544e-ba16-4f6d-8861-e833517b754e&quot;)</td></tr><tr><th>11</th><td>v&quot;1.8.0-beta2-412df00abf&quot;</td><td>0</td><td>FeatureEng</td><td>UUID(&quot;1da23141-447d-474e-a064-8dd6bac2aab2&quot;)</td></tr><tr><th>12</th><td>v&quot;1.8.0-beta2-412df00abf&quot;</td><td>0</td><td>MambaModels</td><td>UUID(&quot;3348d572-c7ce-5100-8a2c-7d2bb2d34f8f&quot;)</td></tr><tr><th>13</th><td>v&quot;1.8.0-beta2-412df00abf&quot;</td><td>0</td><td>MultivariateOrthogonalPolynomials</td><td>UUID(&quot;4f6956fd-4f93-5457-9149-7bfc4b2ce06d&quot;)</td></tr><tr><th>14</th><td>v&quot;1.8.0-beta2-412df00abf&quot;</td><td>0</td><td>MIRTjim</td><td>UUID(&quot;170b2178-6dee-4cb0-8729-b3e8b57834cc&quot;)</td></tr><tr><th>15</th><td>v&quot;1.8.0-beta2-412df00abf&quot;</td><td>0</td><td>AxisKeys</td><td>UUID(&quot;94b1ba4f-4ee9-5380-92f1-94cde586c3c5&quot;)</td></tr><tr><th>16</th><td>v&quot;1.8.0-beta2-412df00abf&quot;</td><td>0</td><td>RiemannHilbert</td><td>UUID(&quot;79305c5b-9889-52e9-bdbd-56f883c71fe0&quot;)</td></tr><tr><th>17</th><td>v&quot;1.8.0-beta2-412df00abf&quot;</td><td>0</td><td>ApproxFunOrthogonalPolynomials</td><td>UUID(&quot;b70543e2-c0d9-56b8-a290-0d4d6d4de211&quot;)</td></tr><tr><th>18</th><td>v&quot;1.8.0-beta2-412df00abf&quot;</td><td>0</td><td>KernelGradients</td><td>UUID(&quot;e5faadeb-7f6c-408e-9747-a7a26e81c66a&quot;)</td></tr><tr><th>19</th><td>v&quot;1.8.0-beta2-412df00abf&quot;</td><td>0</td><td>ImageSegmentation</td><td>UUID(&quot;80713f31-8817-5129-9cf8-209ff8fb23e1&quot;)</td></tr><tr><th>20</th><td>v&quot;1.8.0-beta2-412df00abf&quot;</td><td>0</td><td>ApproxFunFourier</td><td>UUID(&quot;59844689-9c9d-51bf-9583-5b794ec66d30&quot;)</td></tr><tr><th>21</th><td>v&quot;1.8.0-beta2-412df00abf&quot;</td><td>0</td><td>MappedArrays</td><td>UUID(&quot;dbb5928d-eab1-5f90-85c2-b9b0edb7c900&quot;)</td></tr><tr><th>22</th><td>v&quot;1.8.0-beta2-412df00abf&quot;</td><td>0</td><td>CUDAKernels</td><td>UUID(&quot;72cfdca4-0801-4ab0-bf6a-d52aa10adc57&quot;)</td></tr><tr><th>23</th><td>v&quot;1.8.0-beta2-412df00abf&quot;</td><td>0</td><td>MIRT</td><td>UUID(&quot;7035ae7a-3787-11e9-139a-5545ed3dc201&quot;)</td></tr><tr><th>24</th><td>v&quot;1.8.0-beta2-412df00abf&quot;</td><td>0</td><td>ClimatePlots</td><td>UUID(&quot;b71d359b-899c-4fb1-b3ad-2de2d2cb8353&quot;)</td></tr><tr><th>25</th><td>v&quot;1.8.0-beta2-412df00abf&quot;</td><td>0</td><td>Cloudy</td><td>UUID(&quot;9e3b23bb-e7cc-4b94-886c-65de2234ba87&quot;)</td></tr><tr><th>26</th><td>v&quot;1.8.0-beta2-412df00abf&quot;</td><td>0</td><td>ClimaCoreVTK</td><td>UUID(&quot;c8b6d40d-e815-466f-95ae-c48aefa668fa&quot;)</td></tr><tr><th>27</th><td>v&quot;1.8.0-beta2-412df00abf&quot;</td><td>0</td><td>ApproxFun</td><td>UUID(&quot;28f2ccd6-bb30-5033-b560-165f7b14dc2f&quot;)</td></tr><tr><th>28</th><td>v&quot;1.8.0-beta2-412df00abf&quot;</td><td>0</td><td>OscillatoryIntegrals</td><td>UUID(&quot;36d79ec0-be04-40c6-b002-a7ecbe3190c2&quot;)</td></tr><tr><th>29</th><td>v&quot;1.8.0-beta2-412df00abf&quot;</td><td>0</td><td>Soss</td><td>UUID(&quot;8ce77f84-9b61-11e8-39ff-d17a774bf41c&quot;)</td></tr><tr><th>30</th><td>v&quot;1.8.0-beta2-412df00abf&quot;</td><td>0</td><td>DailyTreasuryYieldCurve</td><td>UUID(&quot;9f24bdcd-220e-43b5-8e6d-85812fd68fcf&quot;)</td></tr><tr><th>&vellip;</th><td>&vellip;</td><td>&vellip;</td><td>&vellip;</td><td>&vellip;</td></tr></tbody></table></div>"
      ],
      "text/latex": [
       "\\begin{tabular}{r|ccccc}\n",
       "\t& julia & compiled & name & uuid & \\\\\n",
       "\t\\hline\n",
       "\t& String & Bool & String & String & \\\\\n",
       "\t\\hline\n",
       "\t1 & v\"1.8.0-beta2-412df00abf\" & 0 & NMRTools & UUID(\"c2839fe3-f1de-42fc-897f-c1b0e8db4db6\") & $\\dots$ \\\\\n",
       "\t2 & v\"1.8.0-beta2-412df00abf\" & 0 & ROCKernels & UUID(\"7eb9e9f0-4bd3-4c4c-8bef-26bd9629d9b9\") & $\\dots$ \\\\\n",
       "\t3 & v\"1.8.0-beta2-412df00abf\" & 0 & DiscreteEvents & UUID(\"127e53a7-d08a-4bd9-afb0-daf0d2b65a85\") & $\\dots$ \\\\\n",
       "\t4 & v\"1.8.0-beta2-412df00abf\" & 0 & GeoEfficiency & UUID(\"b1f22607-7830-5ceb-9a8e-05ab1ac77008\") & $\\dots$ \\\\\n",
       "\t5 & v\"1.8.0-beta2-412df00abf\" & 0 & MEstimation & UUID(\"38feb9b4-a243-49d8-ab24-fe2508a85779\") & $\\dots$ \\\\\n",
       "\t6 & v\"1.8.0-beta2-412df00abf\" & 0 & StrRegex & UUID(\"2267b70d-4c4a-5da2-8395-98751c0d506a\") & $\\dots$ \\\\\n",
       "\t7 & v\"1.8.0-beta2-412df00abf\" & 0 & ImageCore & UUID(\"a09fc81d-aa75-5fe9-8630-4744c3626534\") & $\\dots$ \\\\\n",
       "\t8 & v\"1.8.0-beta2-412df00abf\" & 0 & SOM & UUID(\"172a5912-0be3-5bce-b68a-ea4f60b69b05\") & $\\dots$ \\\\\n",
       "\t9 & v\"1.8.0-beta2-412df00abf\" & 0 & SpatialBoundaries & UUID(\"8d2ba62a-3d23-4a2b-b692-6b63e9267be2\") & $\\dots$ \\\\\n",
       "\t10 & v\"1.8.0-beta2-412df00abf\" & 0 & AxisSets & UUID(\"a1a1544e-ba16-4f6d-8861-e833517b754e\") & $\\dots$ \\\\\n",
       "\t11 & v\"1.8.0-beta2-412df00abf\" & 0 & FeatureEng & UUID(\"1da23141-447d-474e-a064-8dd6bac2aab2\") & $\\dots$ \\\\\n",
       "\t12 & v\"1.8.0-beta2-412df00abf\" & 0 & MambaModels & UUID(\"3348d572-c7ce-5100-8a2c-7d2bb2d34f8f\") & $\\dots$ \\\\\n",
       "\t13 & v\"1.8.0-beta2-412df00abf\" & 0 & MultivariateOrthogonalPolynomials & UUID(\"4f6956fd-4f93-5457-9149-7bfc4b2ce06d\") & $\\dots$ \\\\\n",
       "\t14 & v\"1.8.0-beta2-412df00abf\" & 0 & MIRTjim & UUID(\"170b2178-6dee-4cb0-8729-b3e8b57834cc\") & $\\dots$ \\\\\n",
       "\t15 & v\"1.8.0-beta2-412df00abf\" & 0 & AxisKeys & UUID(\"94b1ba4f-4ee9-5380-92f1-94cde586c3c5\") & $\\dots$ \\\\\n",
       "\t16 & v\"1.8.0-beta2-412df00abf\" & 0 & RiemannHilbert & UUID(\"79305c5b-9889-52e9-bdbd-56f883c71fe0\") & $\\dots$ \\\\\n",
       "\t17 & v\"1.8.0-beta2-412df00abf\" & 0 & ApproxFunOrthogonalPolynomials & UUID(\"b70543e2-c0d9-56b8-a290-0d4d6d4de211\") & $\\dots$ \\\\\n",
       "\t18 & v\"1.8.0-beta2-412df00abf\" & 0 & KernelGradients & UUID(\"e5faadeb-7f6c-408e-9747-a7a26e81c66a\") & $\\dots$ \\\\\n",
       "\t19 & v\"1.8.0-beta2-412df00abf\" & 0 & ImageSegmentation & UUID(\"80713f31-8817-5129-9cf8-209ff8fb23e1\") & $\\dots$ \\\\\n",
       "\t20 & v\"1.8.0-beta2-412df00abf\" & 0 & ApproxFunFourier & UUID(\"59844689-9c9d-51bf-9583-5b794ec66d30\") & $\\dots$ \\\\\n",
       "\t21 & v\"1.8.0-beta2-412df00abf\" & 0 & MappedArrays & UUID(\"dbb5928d-eab1-5f90-85c2-b9b0edb7c900\") & $\\dots$ \\\\\n",
       "\t22 & v\"1.8.0-beta2-412df00abf\" & 0 & CUDAKernels & UUID(\"72cfdca4-0801-4ab0-bf6a-d52aa10adc57\") & $\\dots$ \\\\\n",
       "\t23 & v\"1.8.0-beta2-412df00abf\" & 0 & MIRT & UUID(\"7035ae7a-3787-11e9-139a-5545ed3dc201\") & $\\dots$ \\\\\n",
       "\t24 & v\"1.8.0-beta2-412df00abf\" & 0 & ClimatePlots & UUID(\"b71d359b-899c-4fb1-b3ad-2de2d2cb8353\") & $\\dots$ \\\\\n",
       "\t25 & v\"1.8.0-beta2-412df00abf\" & 0 & Cloudy & UUID(\"9e3b23bb-e7cc-4b94-886c-65de2234ba87\") & $\\dots$ \\\\\n",
       "\t26 & v\"1.8.0-beta2-412df00abf\" & 0 & ClimaCoreVTK & UUID(\"c8b6d40d-e815-466f-95ae-c48aefa668fa\") & $\\dots$ \\\\\n",
       "\t27 & v\"1.8.0-beta2-412df00abf\" & 0 & ApproxFun & UUID(\"28f2ccd6-bb30-5033-b560-165f7b14dc2f\") & $\\dots$ \\\\\n",
       "\t28 & v\"1.8.0-beta2-412df00abf\" & 0 & OscillatoryIntegrals & UUID(\"36d79ec0-be04-40c6-b002-a7ecbe3190c2\") & $\\dots$ \\\\\n",
       "\t29 & v\"1.8.0-beta2-412df00abf\" & 0 & Soss & UUID(\"8ce77f84-9b61-11e8-39ff-d17a774bf41c\") & $\\dots$ \\\\\n",
       "\t30 & v\"1.8.0-beta2-412df00abf\" & 0 & DailyTreasuryYieldCurve & UUID(\"9f24bdcd-220e-43b5-8e6d-85812fd68fcf\") & $\\dots$ \\\\\n",
       "\t$\\dots$ & $\\dots$ & $\\dots$ & $\\dots$ & $\\dots$ &  \\\\\n",
       "\\end{tabular}\n"
      ],
      "text/plain": [
       "\u001b[1m65×9 DataFrame\u001b[0m\n",
       "\u001b[1m Row \u001b[0m│\u001b[1m julia                     \u001b[0m\u001b[1m compiled \u001b[0m\u001b[1m name                              \u001b[0m\u001b[1m\u001b[0m ⋯\n",
       "\u001b[1m     \u001b[0m│\u001b[90m String                    \u001b[0m\u001b[90m Bool     \u001b[0m\u001b[90m String                            \u001b[0m\u001b[90m\u001b[0m ⋯\n",
       "─────┼──────────────────────────────────────────────────────────────────────────\n",
       "   1 │ v\"1.8.0-beta2-412df00abf\"     false  NMRTools                           ⋯\n",
       "   2 │ v\"1.8.0-beta2-412df00abf\"     false  ROCKernels\n",
       "   3 │ v\"1.8.0-beta2-412df00abf\"     false  DiscreteEvents\n",
       "   4 │ v\"1.8.0-beta2-412df00abf\"     false  GeoEfficiency\n",
       "   5 │ v\"1.8.0-beta2-412df00abf\"     false  MEstimation                        ⋯\n",
       "   6 │ v\"1.8.0-beta2-412df00abf\"     false  StrRegex\n",
       "   7 │ v\"1.8.0-beta2-412df00abf\"     false  ImageCore\n",
       "   8 │ v\"1.8.0-beta2-412df00abf\"     false  SOM\n",
       "   9 │ v\"1.8.0-beta2-412df00abf\"     false  SpatialBoundaries                  ⋯\n",
       "  10 │ v\"1.8.0-beta2-412df00abf\"     false  AxisSets\n",
       "  11 │ v\"1.8.0-beta2-412df00abf\"     false  FeatureEng\n",
       "  ⋮  │             ⋮                 ⋮                      ⋮                  ⋱\n",
       "  56 │ v\"1.8.0-beta2-412df00abf\"     false  DiffEqParamEstim\n",
       "  57 │ v\"1.8.0-beta2-412df00abf\"     false  FMIFlux                            ⋯\n",
       "  58 │ v\"1.8.0-beta2-412df00abf\"     false  DiffEqCallbacks\n",
       "  59 │ v\"1.8.0-beta2-412df00abf\"     false  Causal\n",
       "  60 │ v\"1.8.0-beta2-412df00abf\"     false  OrbitalTrajectories\n",
       "  61 │ v\"1.8.0-beta2-412df00abf\"     false  QuantumOptics                      ⋯\n",
       "  62 │ v\"1.8.0-beta2-412df00abf\"     false  StochasticDiffEq\n",
       "  63 │ v\"1.8.0-beta2-412df00abf\"     false  Hypatia\n",
       "  64 │ v\"1.8.0-beta2-412df00abf\"     false  Conductor\n",
       "  65 │ v\"1.8.0-beta2-412df00abf\"     false  ClassicalOrthogonalPolynomials     ⋯\n",
       "\u001b[36m                                                   6 columns and 44 rows omitted\u001b[0m"
      ]
     },
     "execution_count": 62,
     "metadata": {},
     "output_type": "execute_result"
    }
   ],
   "source": [
    "deps = query(primary, \"deprecated\")\n",
    "deps = query(deps, \"Vararg\")"
   ]
  },
  {
   "cell_type": "code",
   "execution_count": 63,
   "metadata": {},
   "outputs": [],
   "source": [
    "# Here we pattern match certain test errors and categorize them based on that.\n",
    "\n",
    "# Generic ones\n",
    "update_reason!(fails, \"Test.detect_ambiguities\", TestAmbiguities)\n",
    "update_reason!(fails, \"detect_ambiguities(\", TestAmbiguities)\n",
    "\n",
    "update_reason!(fails, \"Expression: all_doctests()\", DocTest)\n",
    "update_reason!(fails, \"Error: doctest failure in \", DocTest)\n",
    "\n",
    "update_reason!(fails, \"does not match inferred return type\", InferredFailure);\n",
    "update_reason!(fails, \"Expression: isapprox\", ApproxError)\n",
    "update_reason!(fails, r\"Expression: (\\S*) ≈ (\\S*)\", ApproxError) \n",
    "update_reason!(fails, \"Expression: ≈(\", ApproxError)\n",
    "    \n",
    "update_reason!(fails, \"is ambiguous. Candidates:\", NewAmbiguity)\n",
    "update_reason!(fails, \" ambiguities found\", NewAmbiguity)\n",
    "\n",
    "update_reason!(fails, \"Unsatisfiable requirements detected for package\", UnsatReq)\n",
    "\n",
    "\n",
    "\n",
    "\n",
    "\n",
    "update_reason!(fails, \"Log Test Failed at\", PrintingChange)\n",
    "update_reason!(fails, \"Expression: occursin(r\\\"\", PrintingChange)\n",
    "update_reason!(fails, \"Expression: startswith(\", PrintingChange)\n",
    "update_reason!(fails, \"Evaluated: occursin(\", PrintingChange)\n",
    "update_reason!(fails, \"Evaluated: endswith(\", PrintingChange)\n",
    "update_reason!(fails, \"- DIFF ------------------------\", PrintingChange)\n",
    "update_reason!(fails, \"LoadError: syntax\", SyntaxError)\n",
    "\n",
    "update_reason!(fails, \"Image did not match reference image\", VisualRegression)\n",
    "\n",
    "update_reason!(fails, \"      Thrown: \", NewExceptionType)\n",
    "update_reason!(fails, \"The requested URL returned error\", DownloadError)\n",
    "update_reason!(fails, \"gzip: stdin: not in gzip format\", DownloadError)\n",
    "update_reason!(fails, \"Unexpected Pass\", UnexpectedPass)\n",
    "\n",
    "update_reason!(fails, \"Error building \", BuildError)\n",
    "update_reason!(fails, \"isempty(stderr_content)\", StderrCheck)\n",
    "\n",
    "update_reason!(fails, r\"Expression: (\\N.*?) == \", EqChange)\n",
    "update_reason!(fails, \"signal (11): Segmentation fault\", SegmentationFault)\n",
    "\n",
    "\n",
    "\n",
    "\n",
    "\n",
    "# Specific ones for this release\n",
    "update_reason!(fails, \"Cassette.overdub\", Cassette)\n",
    "update_reason!(fails, \"libLLVM-12jl.so\", LLVMVersion)\n",
    "update_reason!(fails, \"You may have a partially installed environment\", UninstalledDep)\n",
    "update_reason!(fails, \"- REFERENCE -------------------\", ImageReference)\n",
    "update_reason!(fails, \"ArgumentError: ensureroom failed, IOBuffer is not writeable\", IOBufferWritable)\n",
    "update_reason!(fails, \"JSON.Writer ~/.julia/packages/JSON/NeJ9k/src/Writer.jl:285\", JSONUndefinedReference)\n",
    "update_reason!(fails, \"ccall method definition: argument 1 type doesn't correspond to a C type\", CcallType)\n",
    "update_reason!(fails, \"no method matching zero\", NoMethodZero)\n",
    "update_reason!(fails, \"closewrite not defined\", CloseWrite)\n",
    "update_reason!(fails, \"no method matching return_type\", ReturnType)\n",
    "update_reason!(fails, \"type IOStream has no field buffer\", StdinBuffer)\n",
    "update_reason!(fails, \"UndefVarError: _isless not defined\", BlockArraysIsLess)\n",
    "update_reason!(fails, \"setfield!: const field .names of type TypeName cannot be changed\", TypeNameConstField)\n",
    "update_reason!(fails, \"C++ exception while wrapping module\", CxxWrap)\n",
    "update_reason!(fails, \"no method matching Infinities.Infinity(::Float64)\", InfinityArrays)\n",
    "update_reason!(fails, \"InfiniteArrays.Infinity(::Int64)\", InfinityArrays)\n",
    "update_reason!(fails, \"no method matching Infinities.InfiniteCardinal\", InfinityCardinal)\n",
    "update_reason!(fails, \"libEnzyme-12.so\", LibEnzyme)\n",
    "update_reason!(fails, \" is non-positive\", InfinityArrays)\n",
    "\n",
    "\n",
    "\n",
    "\n",
    "\n",
    "\n",
    "\n",
    "nothing"
   ]
  },
  {
   "cell_type": "code",
   "execution_count": 74,
   "metadata": {},
   "outputs": [
    {
     "data": {
      "text/plain": [
       "Any[]"
      ]
     },
     "execution_count": 74,
     "metadata": {},
     "output_type": "execute_result"
    }
   ],
   "source": [
    "# Packages that have gotten  \n",
    "\n",
    "issues_opened = [\n",
    "    \"StaticKernels\" # https://github.com/stev47/StaticKernels.jl/issues/5\n",
    "    \"Polyhedra\" # https://github.com/JuliaPolyhedra/Polyhedra.jl\n",
    "    \"TexasHoldEm\" # https://github.com/charleskawczynski/TexasHoldem.jl/issues/106\n",
    "    \"RedefStructs\" # https://github.com/FedericoStra/RedefStructs.jl/issues/4\n",
    "    \"Memento\" # https://github.com/invenia/Memento.jl/issues/184\n",
    "    \"GarishPrint\" # https://github.com/JuliaLang/Pkg.jl/issues/3015\n",
    "    \"SpecialFunctions\" # https://github.com/JuliaLang/julia/issues/44452\n",
    "    \"RangeHelpers\" # https://github.com/jw3126/RangeHelpers.jl/issues/2\n",
    "    \"SIMD\" # https://github.com/eschnett/SIMD.jl/pull/96\n",
    "    \"HierarchicalUtils\" # https://github.com/JuliaLang/julia/issues/44501\n",
    "    \"HarmonicOrthogonalPolynomials\" # https://github.com/JuliaArrays/InfiniteArrays.jl/issues/91\n",
    "    \"InfiniteArrays\" # https://github.com/JuliaArrays/InfiniteArrays.jl/issues/89\n",
    "    \"TensorKitManifolds\" # https://github.com/JuliaLang/julia/issues/44712\n",
    "    \"Enzyme\" # https://github.com/EnzymeAD/Enzyme.jl/issues/250\n",
    "    \"BEASTXMLConstructor\" # https://github.com/Julia-BEAST-utils/BEASTXMLConstructor.jl/issues/5\n",
    "    \"Dash\" # https://github.com/JuliaLang/julia/issues/44732\n",
    "    \"EquationsOfStateOfSolids\" # https://github.com/MineralsCloud/EquationsOfStateOfSolids.jl/issues/146\n",
    " ]\n",
    "\n",
    "likely_tol = [\n",
    "    \"TaylorModels\"\n",
    "];\n",
    "\n",
    "fixed = [\n",
    "    \"GeoDataFrames\" # https://github.com/evetion/GeoDataFrames.jl/pull/30\n",
    "    \"Cassette\" # https://github.com/JuliaLabs/Cassette.jl/commit/8219e43264543da43e4d71bd860d09fc6a016630\n",
    "    \"LiterateTest\" # https://github.com/tkf/LiterateTest.jl/commit/1ca4e69abedfcfb609586d438835479f03ad831f\n",
    "    \"ProfileSVG\" # https://github.com/kimikage/ProfileSVG.jl/pull/64\n",
    "    \"TORA\" # https://github.com/JuliaRobotics/TORA.jl/commit/c33f3ef5f0d5fb8cec3cf1ee7ffb2f931d761af2\n",
    "]\n",
    "\n",
    "\n",
    "\n",
    "\n",
    "ignored_packages = [\n",
    "]"
   ]
  },
  {
   "cell_type": "code",
   "execution_count": 75,
   "metadata": {},
   "outputs": [
    {
     "data": {
      "text/plain": [
       "23"
      ]
     },
     "execution_count": 75,
     "metadata": {},
     "output_type": "execute_result"
    }
   ],
   "source": [
    "# Total package failures that we haven't categorized\n",
    "\n",
    "total_unknown(fails)"
   ]
  },
  {
   "cell_type": "markdown",
   "metadata": {},
   "source": [
    "# Examples\n",
    "\n",
    "Here are some examples of how one might do queries and categorize errors"
   ]
  },
  {
   "cell_type": "code",
   "execution_count": null,
   "metadata": {},
   "outputs": [],
   "source": []
  },
  {
   "cell_type": "code",
   "execution_count": 76,
   "metadata": {
    "scrolled": true
   },
   "outputs": [
    {
     "data": {
      "text/html": [
       "<div class=\"data-frame\"><p>13 rows × 19 columns (omitted printing of 15 columns)</p><table class=\"data-frame\"><thead><tr><th></th><th>julia</th><th>compiled</th><th>name</th><th>uuid</th></tr><tr><th></th><th title=\"String\">String</th><th title=\"Bool\">Bool</th><th title=\"String\">String</th><th title=\"String\">String</th></tr></thead><tbody><tr><th>1</th><td>v&quot;1.8.0-beta2-412df00abf&quot;</td><td>0</td><td>PkgDeps</td><td>UUID(&quot;839e9fc8-855b-5b3c-a3b7-2833d3dd1f59&quot;)</td></tr><tr><th>2</th><td>v&quot;1.8.0-beta2-412df00abf&quot;</td><td>0</td><td>NMRTools</td><td>UUID(&quot;c2839fe3-f1de-42fc-897f-c1b0e8db4db6&quot;)</td></tr><tr><th>3</th><td>v&quot;1.8.0-beta2-412df00abf&quot;</td><td>0</td><td>CxxWrap</td><td>UUID(&quot;1f15a43c-97ca-5a2a-ae31-89f07a497df4&quot;)</td></tr><tr><th>4</th><td>v&quot;1.8.0-beta2-412df00abf&quot;</td><td>0</td><td>SnoopCompile</td><td>UUID(&quot;aa65fe97-06da-5843-b5b1-d5d13cad87d2&quot;)</td></tr><tr><th>5</th><td>v&quot;1.8.0-beta2-412df00abf&quot;</td><td>0</td><td>LRSLib</td><td>UUID(&quot;262c1cb6-76e2-5873-868b-19ece3183cc5&quot;)</td></tr><tr><th>6</th><td>v&quot;1.8.0-beta2-412df00abf&quot;</td><td>0</td><td>StatProfilerHTML</td><td>UUID(&quot;a8a75453-ed82-57c9-9e16-4cd1196ecbf5&quot;)</td></tr><tr><th>7</th><td>v&quot;1.8.0-beta2-412df00abf&quot;</td><td>0</td><td>FlxQTL</td><td>UUID(&quot;ede81e08-c6d8-4fe3-94c2-f928d9d678ed&quot;)</td></tr><tr><th>8</th><td>v&quot;1.8.0-beta2-412df00abf&quot;</td><td>0</td><td>TraitSimulation</td><td>UUID(&quot;dec3038e-29bc-11e9-2207-9f3d5855a202&quot;)</td></tr><tr><th>9</th><td>v&quot;1.8.0-beta2-412df00abf&quot;</td><td>0</td><td>MIRTjim</td><td>UUID(&quot;170b2178-6dee-4cb0-8729-b3e8b57834cc&quot;)</td></tr><tr><th>10</th><td>v&quot;1.8.0-beta2-412df00abf&quot;</td><td>0</td><td>CombinedParsers</td><td>UUID(&quot;5ae71ed2-6f8a-4ed1-b94f-e14e8158f19e&quot;)</td></tr><tr><th>11</th><td>v&quot;1.8.0-beta2-412df00abf&quot;</td><td>0</td><td>Hypatia</td><td>UUID(&quot;b99e6be6-89ff-11e8-14f8-45c827f4f8f2&quot;)</td></tr><tr><th>12</th><td>v&quot;1.8.0-beta2-412df00abf&quot;</td><td>0</td><td>QuantumOptics</td><td>UUID(&quot;6e0679c1-51ea-5a7c-ac74-d61b76210b0c&quot;)</td></tr><tr><th>13</th><td>v&quot;1.8.0-beta2-412df00abf&quot;</td><td>0</td><td>StochasticDiffEq</td><td>UUID(&quot;789caeaf-c7a9-5a7d-9973-96adeb23e2a0&quot;)</td></tr></tbody></table></div>"
      ],
      "text/latex": [
       "\\begin{tabular}{r|ccccc}\n",
       "\t& julia & compiled & name & uuid & \\\\\n",
       "\t\\hline\n",
       "\t& String & Bool & String & String & \\\\\n",
       "\t\\hline\n",
       "\t1 & v\"1.8.0-beta2-412df00abf\" & 0 & PkgDeps & UUID(\"839e9fc8-855b-5b3c-a3b7-2833d3dd1f59\") & $\\dots$ \\\\\n",
       "\t2 & v\"1.8.0-beta2-412df00abf\" & 0 & NMRTools & UUID(\"c2839fe3-f1de-42fc-897f-c1b0e8db4db6\") & $\\dots$ \\\\\n",
       "\t3 & v\"1.8.0-beta2-412df00abf\" & 0 & CxxWrap & UUID(\"1f15a43c-97ca-5a2a-ae31-89f07a497df4\") & $\\dots$ \\\\\n",
       "\t4 & v\"1.8.0-beta2-412df00abf\" & 0 & SnoopCompile & UUID(\"aa65fe97-06da-5843-b5b1-d5d13cad87d2\") & $\\dots$ \\\\\n",
       "\t5 & v\"1.8.0-beta2-412df00abf\" & 0 & LRSLib & UUID(\"262c1cb6-76e2-5873-868b-19ece3183cc5\") & $\\dots$ \\\\\n",
       "\t6 & v\"1.8.0-beta2-412df00abf\" & 0 & StatProfilerHTML & UUID(\"a8a75453-ed82-57c9-9e16-4cd1196ecbf5\") & $\\dots$ \\\\\n",
       "\t7 & v\"1.8.0-beta2-412df00abf\" & 0 & FlxQTL & UUID(\"ede81e08-c6d8-4fe3-94c2-f928d9d678ed\") & $\\dots$ \\\\\n",
       "\t8 & v\"1.8.0-beta2-412df00abf\" & 0 & TraitSimulation & UUID(\"dec3038e-29bc-11e9-2207-9f3d5855a202\") & $\\dots$ \\\\\n",
       "\t9 & v\"1.8.0-beta2-412df00abf\" & 0 & MIRTjim & UUID(\"170b2178-6dee-4cb0-8729-b3e8b57834cc\") & $\\dots$ \\\\\n",
       "\t10 & v\"1.8.0-beta2-412df00abf\" & 0 & CombinedParsers & UUID(\"5ae71ed2-6f8a-4ed1-b94f-e14e8158f19e\") & $\\dots$ \\\\\n",
       "\t11 & v\"1.8.0-beta2-412df00abf\" & 0 & Hypatia & UUID(\"b99e6be6-89ff-11e8-14f8-45c827f4f8f2\") & $\\dots$ \\\\\n",
       "\t12 & v\"1.8.0-beta2-412df00abf\" & 0 & QuantumOptics & UUID(\"6e0679c1-51ea-5a7c-ac74-d61b76210b0c\") & $\\dots$ \\\\\n",
       "\t13 & v\"1.8.0-beta2-412df00abf\" & 0 & StochasticDiffEq & UUID(\"789caeaf-c7a9-5a7d-9973-96adeb23e2a0\") & $\\dots$ \\\\\n",
       "\\end{tabular}\n"
      ],
      "text/plain": [
       "\u001b[1m13×19 DataFrame\u001b[0m\n",
       "\u001b[1m Row \u001b[0m│\u001b[1m julia                     \u001b[0m\u001b[1m compiled \u001b[0m\u001b[1m name             \u001b[0m\u001b[1m uuid            \u001b[0m ⋯\n",
       "\u001b[1m     \u001b[0m│\u001b[90m String                    \u001b[0m\u001b[90m Bool     \u001b[0m\u001b[90m String           \u001b[0m\u001b[90m String          \u001b[0m ⋯\n",
       "─────┼──────────────────────────────────────────────────────────────────────────\n",
       "   1 │ v\"1.8.0-beta2-412df00abf\"     false  PkgDeps           UUID(\"839e9fc8-8 ⋯\n",
       "   2 │ v\"1.8.0-beta2-412df00abf\"     false  NMRTools          UUID(\"c2839fe3-f\n",
       "   3 │ v\"1.8.0-beta2-412df00abf\"     false  CxxWrap           UUID(\"1f15a43c-9\n",
       "   4 │ v\"1.8.0-beta2-412df00abf\"     false  SnoopCompile      UUID(\"aa65fe97-0\n",
       "   5 │ v\"1.8.0-beta2-412df00abf\"     false  LRSLib            UUID(\"262c1cb6-7 ⋯\n",
       "   6 │ v\"1.8.0-beta2-412df00abf\"     false  StatProfilerHTML  UUID(\"a8a75453-e\n",
       "   7 │ v\"1.8.0-beta2-412df00abf\"     false  FlxQTL            UUID(\"ede81e08-c\n",
       "   8 │ v\"1.8.0-beta2-412df00abf\"     false  TraitSimulation   UUID(\"dec3038e-2\n",
       "   9 │ v\"1.8.0-beta2-412df00abf\"     false  MIRTjim           UUID(\"170b2178-6 ⋯\n",
       "  10 │ v\"1.8.0-beta2-412df00abf\"     false  CombinedParsers   UUID(\"5ae71ed2-6\n",
       "  11 │ v\"1.8.0-beta2-412df00abf\"     false  Hypatia           UUID(\"b99e6be6-8\n",
       "  12 │ v\"1.8.0-beta2-412df00abf\"     false  QuantumOptics     UUID(\"6e0679c1-5\n",
       "  13 │ v\"1.8.0-beta2-412df00abf\"     false  StochasticDiffEq  UUID(\"789caeaf-c ⋯\n",
       "\u001b[36m                                                              16 columns omitted\u001b[0m"
      ]
     },
     "execution_count": 76,
     "metadata": {},
     "output_type": "execute_result"
    }
   ],
   "source": [
    "# Unknown failures\n",
    "\n",
    "filter(x -> x.why == Unknown && \n",
    "       !(x.name in issues_opened) && \n",
    "       !(x.name in likely_tol) && \n",
    "       !(x.name in ignored_packages) && \n",
    "       !(x.name in fixed), \n",
    "    fails)"
   ]
  },
  {
   "cell_type": "code",
   "execution_count": 67,
   "metadata": {
    "scrolled": true
   },
   "outputs": [
    {
     "data": {
      "text/plain": [
       "27-element Vector{Any}:\n",
       " (24, EqChange)\n",
       " (23, Unknown)\n",
       " (17, NewExceptionType)\n",
       " (16, CcallType)\n",
       " (13, UninstalledDep)\n",
       " (9, NewAmbiguity)\n",
       " (7, LibEnzyme)\n",
       " (6, CxxWrap)\n",
       " (6, ApproxError)\n",
       " (5, InfinityCardinal)\n",
       " (4, ReturnType)\n",
       " (3, InfinityArrays)\n",
       " (3, DocTest)\n",
       " ⋮\n",
       " (2, NoMethodZero)\n",
       " (2, TimeLimit)\n",
       " (2, MissingBinary)\n",
       " (2, UnsatReq)\n",
       " (1, TypeNameConstField)\n",
       " (1, JSONUndefinedReference)\n",
       " (1, IOBufferWritable)\n",
       " (1, ImageReference)\n",
       " (1, SegmentationFault)\n",
       " (1, Inactivity)\n",
       " (1, TestAmbiguities)\n",
       " (1, InferredFailure)"
      ]
     },
     "execution_count": 67,
     "metadata": {},
     "output_type": "execute_result"
    }
   ],
   "source": [
    "# Categorize\n",
    "\n",
    "z = []\n",
    "for i in instances(FailureType)\n",
    "    n = count(row -> row.why == i, eachrow(fails))\n",
    "    n > 0 && push!(z, (n, i))\n",
    "end\n",
    "sort!(z; rev=true)"
   ]
  },
  {
   "cell_type": "code",
   "execution_count": 70,
   "metadata": {},
   "outputs": [
    {
     "data": {
      "text/html": [
       "<div class=\"data-frame\"><p>2 rows × 19 columns (omitted printing of 15 columns)</p><table class=\"data-frame\"><thead><tr><th></th><th>julia</th><th>compiled</th><th>name</th><th>uuid</th></tr><tr><th></th><th title=\"String\">String</th><th title=\"Bool\">Bool</th><th title=\"String\">String</th><th title=\"String\">String</th></tr></thead><tbody><tr><th>1</th><td>v&quot;1.8.0-beta2-412df00abf&quot;</td><td>0</td><td>ClimateTools</td><td>UUID(&quot;4f4ee721-4970-5af2-8560-6c1d960e3231&quot;)</td></tr><tr><th>2</th><td>v&quot;1.8.0-beta2-412df00abf&quot;</td><td>0</td><td>TurbulenceConvection</td><td>UUID(&quot;8e072fc4-01f8-44fb-b9dc-f9336c367e6b&quot;)</td></tr></tbody></table></div>"
      ],
      "text/latex": [
       "\\begin{tabular}{r|ccccc}\n",
       "\t& julia & compiled & name & uuid & \\\\\n",
       "\t\\hline\n",
       "\t& String & Bool & String & String & \\\\\n",
       "\t\\hline\n",
       "\t1 & v\"1.8.0-beta2-412df00abf\" & 0 & ClimateTools & UUID(\"4f4ee721-4970-5af2-8560-6c1d960e3231\") & $\\dots$ \\\\\n",
       "\t2 & v\"1.8.0-beta2-412df00abf\" & 0 & TurbulenceConvection & UUID(\"8e072fc4-01f8-44fb-b9dc-f9336c367e6b\") & $\\dots$ \\\\\n",
       "\\end{tabular}\n"
      ],
      "text/plain": [
       "\u001b[1m2×19 DataFrame\u001b[0m\n",
       "\u001b[1m Row \u001b[0m│\u001b[1m julia                     \u001b[0m\u001b[1m compiled \u001b[0m\u001b[1m name                 \u001b[0m\u001b[1m uuid        \u001b[0m ⋯\n",
       "\u001b[1m     \u001b[0m│\u001b[90m String                    \u001b[0m\u001b[90m Bool     \u001b[0m\u001b[90m String               \u001b[0m\u001b[90m String      \u001b[0m ⋯\n",
       "─────┼──────────────────────────────────────────────────────────────────────────\n",
       "   1 │ v\"1.8.0-beta2-412df00abf\"     false  ClimateTools          UUID(\"4f4ee7 ⋯\n",
       "   2 │ v\"1.8.0-beta2-412df00abf\"     false  TurbulenceConvection  UUID(\"8e072f\n",
       "\u001b[36m                                                              16 columns omitted\u001b[0m"
      ]
     },
     "execution_count": 70,
     "metadata": {},
     "output_type": "execute_result"
    }
   ],
   "source": [
    "filter(row -> row.why == MissingBinary, fails)"
   ]
  },
  {
   "cell_type": "code",
   "execution_count": 69,
   "metadata": {},
   "outputs": [
    {
     "ename": "LoadError",
     "evalue": "UndefVarError: OrbitalTrajectories not defined",
     "output_type": "error",
     "traceback": [
      "UndefVarError: OrbitalTrajectories not defined",
      "",
      "Stacktrace:",
      " [1] top-level scope",
      "   @ :0",
      " [2] eval",
      "   @ ./boot.jl:373 [inlined]",
      " [3] include_string(mapexpr::typeof(REPL.softscope), mod::Module, code::String, filename::String)",
      "   @ Base ./loading.jl:1196"
     ]
    }
   ],
   "source": [
    "OrbitalTrajectories"
   ]
  },
  {
   "cell_type": "code",
   "execution_count": null,
   "metadata": {},
   "outputs": [],
   "source": []
  }
 ],
 "metadata": {
  "@webio": {
   "lastCommId": null,
   "lastKernelId": null
  },
  "kernelspec": {
   "display_name": "Julia 1.7.2",
   "language": "julia",
   "name": "julia-1.7"
  },
  "language_info": {
   "file_extension": ".jl",
   "mimetype": "application/julia",
   "name": "julia",
   "version": "1.7.2"
  }
 },
 "nbformat": 4,
 "nbformat_minor": 4
}
