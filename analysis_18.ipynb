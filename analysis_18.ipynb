{
 "cells": [
  {
   "cell_type": "markdown",
   "metadata": {},
   "source": [
    "# PkgEvalAnalysis\n",
    "\n",
    "Latest pkgeval: https://s3.amazonaws.com/julialang-reports/nanosoldier/pkgeval/by_hash/f51f24c_vs_2ca8b0c/report.html"
   ]
  },
  {
   "cell_type": "code",
   "execution_count": 1,
   "metadata": {},
   "outputs": [],
   "source": [
    "using DataFrames, Feather"
   ]
  },
  {
   "cell_type": "code",
   "execution_count": 2,
   "metadata": {},
   "outputs": [],
   "source": [
    "@enum FailureType begin\n",
    "    # General ones\n",
    "    Unknown\n",
    "    InferredFailure\n",
    "    PrintingChange\n",
    "    TestAmbiguities\n",
    "    NewAmbiguity\n",
    "    ApproxError\n",
    "    DocTest\n",
    "    NewExceptionType\n",
    "    DownloadError\n",
    "    UnexpectedPass\n",
    "    BadBoy\n",
    "    SyntaxError\n",
    "    VisualRegression\n",
    "    MissingDep\n",
    "    BuildError\n",
    "    UnsatReq\n",
    "    BSONDataTypeField\n",
    "    Belapsed\n",
    "    StderrCheck\n",
    "    \n",
    "    # From PkgEval\n",
    "    MissingDependency\n",
    "    Inactivity\n",
    "    MissingBinary\n",
    "    Untestable\n",
    "    LogLimit\n",
    "    TimeLimit\n",
    "    Syntax\n",
    "    \n",
    "    # Specific ones\n",
    "    Cassette\n",
    "    LLVMVersion\n",
    "    UninstalledDep\n",
    "    ImageReference\n",
    "    IOBufferWritable\n",
    "    JSONUndefinedReference\n",
    "    CcallType\n",
    "    NoMethodZero\n",
    "    CloseWrite\n",
    "    ReturnType\n",
    "    StdinBuffer\n",
    "    BlockArraysIsLess\n",
    "    TypeNameConstField\n",
    "    CxxWrap\n",
    "    InfinityArrays\n",
    "    \n",
    "end\n"
   ]
  },
  {
   "cell_type": "code",
   "execution_count": 3,
   "metadata": {
    "scrolled": true
   },
   "outputs": [],
   "source": [
    "# Unpack the data unless it has already been unpacked\n",
    "\n",
    "if !isdir(\"data\")\n",
    "    run(`tar -xvf data.tar.xz`)\n",
    "end\n",
    "primary  = Feather.read(\"data/primary.feather\");\n",
    "against = Feather.read(\"data/against.feather\");"
   ]
  },
  {
   "cell_type": "code",
   "execution_count": 4,
   "metadata": {},
   "outputs": [],
   "source": [
    "# Join the primary and against data\n",
    "\n",
    "package_results = leftjoin(primary, against,\n",
    "     on=:uuid, makeunique=true, indicator=:source);"
   ]
  },
  {
   "cell_type": "code",
   "execution_count": 5,
   "metadata": {},
   "outputs": [],
   "source": [
    "# Filter out packages that started failing but didn't start failing when the RNG stream changed\n",
    "\n",
    "fails = filter(test->test.source == \"both\" &&\n",
    "                 test.status != test.status_1 &&\n",
    "                 test.status in (\":fail\", \":kill\"), package_results)\n",
    "\n",
    "# Initially we do not know why a package failed\n",
    "fails.why = fill(Unknown, size(fails, 1));\n",
    "\n",
    "missing_binary_idx     = fails.reason .== \":binary_dependency\"\n",
    "inactivity_idx         = fails.reason .== \":inactivity\"\n",
    "missing_dependency_idx = fails.reason .== \":missing_dependency\"\n",
    "untestable_idx         = fails.reason .== \":untestable\"\n",
    "log_limit_idx          = fails.reason .== \":log_limit\"\n",
    "time_limit_idx         = fails.reason .== \":time_limit\"\n",
    "\n",
    "# Initially we do not know why a package failed\n",
    "fails.why = fill(Unknown, size(fails, 1));\n",
    "\n",
    "fails.why[missing_binary_idx]     .= MissingBinary\n",
    "fails.why[inactivity_idx]         .= Inactivity\n",
    "fails.why[missing_dependency_idx] .= MissingDependency\n",
    "fails.why[untestable_idx]         .= Untestable\n",
    "fails.why[log_limit_idx]          .= LogLimit\n",
    "fails.why[time_limit_idx]         .= TimeLimit\n",
    "\n",
    "nothing"
   ]
  },
  {
   "cell_type": "code",
   "execution_count": 6,
   "metadata": {},
   "outputs": [
    {
     "data": {
      "text/plain": [
       "total_unknown (generic function with 1 method)"
      ]
     },
     "execution_count": 6,
     "metadata": {},
     "output_type": "execute_result"
    }
   ],
   "source": [
    "# Some utility functions\n",
    "\n",
    "query(fails, s) = filter(row -> occursin(s, row[:log]), fails)    \n",
    "\n",
    "function update_reason!(fails, needle, why)\n",
    "    idxs = findall(row -> occursin(needle, row), fails.log)\n",
    "    fails.why[idxs] .= why\n",
    "    return fails\n",
    "end\n",
    "\n",
    "total_unknown(fails) = count(x -> x.why == Unknown, eachrow(fails))"
   ]
  },
  {
   "cell_type": "code",
   "execution_count": 7,
   "metadata": {},
   "outputs": [
    {
     "data": {
      "text/html": [
       "<table class=\"data-frame\"><thead><tr><th></th><th>julia</th><th>compiled</th><th>name</th><th>uuid</th></tr><tr><th></th><th>String</th><th>Bool</th><th>String</th><th>String</th></tr></thead><tbody><p>1 rows × 19 columns (omitted printing of 15 columns)</p><tr><th>1</th><td>v\"1.8.0-DEV-1c20d9d31d\"</td><td>0</td><td>GeoDataFrames</td><td>UUID(\"62cb38b5-d8d2-4862-a48e-6a340996859f\")</td></tr></tbody></table>"
      ],
      "text/latex": [
       "\\begin{tabular}{r|ccccc}\n",
       "\t& julia & compiled & name & uuid & \\\\\n",
       "\t\\hline\n",
       "\t& String & Bool & String & String & \\\\\n",
       "\t\\hline\n",
       "\t1 & v\"1.8.0-DEV-1c20d9d31d\" & 0 & GeoDataFrames & UUID(\"62cb38b5-d8d2-4862-a48e-6a340996859f\") & $\\dots$ \\\\\n",
       "\\end{tabular}\n"
      ],
      "text/plain": [
       "\u001b[1m1×19 DataFrame\u001b[0m\n",
       "\u001b[1m Row \u001b[0m│\u001b[1m julia                   \u001b[0m\u001b[1m compiled \u001b[0m\u001b[1m name          \u001b[0m\u001b[1m uuid                 \u001b[0m ⋯\n",
       "\u001b[1m     \u001b[0m│\u001b[90m String                  \u001b[0m\u001b[90m Bool     \u001b[0m\u001b[90m String        \u001b[0m\u001b[90m String               \u001b[0m ⋯\n",
       "─────┼──────────────────────────────────────────────────────────────────────────\n",
       "   1 │ v\"1.8.0-DEV-1c20d9d31d\"     false  GeoDataFrames  UUID(\"62cb38b5-d8d2-4 ⋯\n",
       "\u001b[36m                                                              16 columns omitted\u001b[0m"
      ]
     },
     "execution_count": 7,
     "metadata": {},
     "output_type": "execute_result"
    }
   ],
   "source": [
    "query(fails, \"probe_platform_engines!\")"
   ]
  },
  {
   "cell_type": "code",
   "execution_count": 8,
   "metadata": {},
   "outputs": [],
   "source": [
    "# Here we pattern match certain test errors and categorize them based on that.\n",
    "\n",
    "# Generic ones\n",
    "update_reason!(fails, \"Test.detect_ambiguities\", TestAmbiguities)\n",
    "update_reason!(fails, \"detect_ambiguities(\", TestAmbiguities)\n",
    "\n",
    "update_reason!(fails, \"Expression: all_doctests()\", DocTest)\n",
    "update_reason!(fails, \"Error: doctest failure in \", DocTest)\n",
    "\n",
    "update_reason!(fails, \"does not match inferred return type\", InferredFailure);\n",
    "update_reason!(fails, \"Expression: isapprox\", ApproxError)\n",
    "update_reason!(fails, r\"Expression: (\\S*) ≈ (\\S*)\", ApproxError) \n",
    "update_reason!(fails, \"Expression: ≈(\", ApproxError)\n",
    "    \n",
    "update_reason!(fails, \"is ambiguous. Candidates:\", NewAmbiguity)\n",
    "update_reason!(fails, \" ambiguities found\", NewAmbiguity)\n",
    "\n",
    "update_reason!(fails, \"Unsatisfiable requirements detected for package\", UnsatReq)\n",
    "\n",
    "\n",
    "\n",
    "update_reason!(fails, \"Log Test Failed at\", PrintingChange)\n",
    "update_reason!(fails, \"Expression: occursin(r\\\"\", PrintingChange)\n",
    "update_reason!(fails, \"Expression: startswith(\", PrintingChange)\n",
    "update_reason!(fails, r\"Expression: (\\N.*?) == \", PrintingChange)\n",
    "update_reason!(fails, \"Evaluated: occursin(\", PrintingChange)\n",
    "update_reason!(fails, \"Evaluated: endswith(\", PrintingChange)\n",
    "update_reason!(fails, \"- DIFF ------------------------\", PrintingChange)\n",
    "update_reason!(fails, \"LoadError: syntax\", SyntaxError)\n",
    "\n",
    "update_reason!(fails, \"Image did not match reference image\", VisualRegression)\n",
    "\n",
    "update_reason!(fails, \"      Thrown: \", NewExceptionType)\n",
    "update_reason!(fails, \"The requested URL returned error\", DownloadError)\n",
    "update_reason!(fails, \"gzip: stdin: not in gzip format\", DownloadError)\n",
    "update_reason!(fails, \"Unexpected Pass\", UnexpectedPass)\n",
    "\n",
    "update_reason!(fails, \"Error building \", BuildError)\n",
    "update_reason!(fails, \"isempty(stderr_content)\", StderrCheck)\n",
    "\n",
    "\n",
    "\n",
    "\n",
    "# Specific ones for this release\n",
    "update_reason!(fails, \"Cassette.overdub\", Cassette)\n",
    "update_reason!(fails, \"libLLVM-12jl.so\", LLVMVersion)\n",
    "update_reason!(fails, \"You may have a partially installed environment\", UninstalledDep)\n",
    "update_reason!(fails, \"- REFERENCE -------------------\", ImageReference)\n",
    "update_reason!(fails, \"ArgumentError: ensureroom failed, IOBuffer is not writeable\", IOBufferWritable)\n",
    "update_reason!(fails, \"JSON.Writer ~/.julia/packages/JSON/NeJ9k/src/Writer.jl:285\", JSONUndefinedReference)\n",
    "update_reason!(fails, \"ccall method definition: argument 1 type doesn't correspond to a C type\", CcallType)\n",
    "update_reason!(fails, \"no method matching zero\", NoMethodZero)\n",
    "update_reason!(fails, \"closewrite not defined\", CloseWrite)\n",
    "update_reason!(fails, \"no method matching return_type\", ReturnType)\n",
    "update_reason!(fails, \"type IOStream has no field buffer\", StdinBuffer)\n",
    "update_reason!(fails, \"UndefVarError: _isless not defined\", BlockArraysIsLess)\n",
    "update_reason!(fails, \"setfield!: const field .names of type TypeName cannot be changed\", TypeNameConstField)\n",
    "update_reason!(fails, \"C++ exception while wrapping module\", CxxWrap)\n",
    "update_reason!(fails, \"no method matching Infinities.Infinity(::Float64)\", InfinityArrays)\n",
    "\n",
    "\n",
    "\n",
    "\n",
    "\n",
    "\n",
    "  \n",
    "\n",
    "\n",
    "\n",
    "\n",
    "\n",
    "nothing"
   ]
  },
  {
   "cell_type": "code",
   "execution_count": 9,
   "metadata": {},
   "outputs": [
    {
     "data": {
      "text/plain": [
       "Any[]"
      ]
     },
     "execution_count": 9,
     "metadata": {},
     "output_type": "execute_result"
    }
   ],
   "source": [
    "# Packages that have gotten  \n",
    "\n",
    "issues_opened = [\n",
    "    \"StaticKernels\" # https://github.com/stev47/StaticKernels.jl/issues/5\n",
    "    \"Polyhedra\" # https://github.com/JuliaPolyhedra/Polyhedra.jl\n",
    "    \"TexasHoldEm\" # https://github.com/charleskawczynski/TexasHoldem.jl/issues/106\n",
    "    \"RedefStructs\" # https://github.com/FedericoStra/RedefStructs.jl/issues/4\n",
    "    \"Memento\" # https://github.com/invenia/Memento.jl/issues/184\n",
    "]\n",
    "\n",
    "likely_tol = [\n",
    "    \"TaylorModels\"\n",
    "];\n",
    "\n",
    "fixed = [\n",
    "    \"GeoDataFrames\" # https://github.com/evetion/GeoDataFrames.jl/pull/30\n",
    "]\n",
    "\n",
    "\n",
    "\n",
    "\n",
    "ignored_packages = [\n",
    "]"
   ]
  },
  {
   "cell_type": "code",
   "execution_count": 10,
   "metadata": {},
   "outputs": [
    {
     "data": {
      "text/plain": [
       "72"
      ]
     },
     "execution_count": 10,
     "metadata": {},
     "output_type": "execute_result"
    }
   ],
   "source": [
    "# Total package failures that we haven't categorized\n",
    "\n",
    "total_unknown(fails)"
   ]
  },
  {
   "cell_type": "markdown",
   "metadata": {},
   "source": [
    "# Examples\n",
    "\n",
    "Here are some examples of how one might do queries and categorize errors"
   ]
  },
  {
   "cell_type": "code",
   "execution_count": null,
   "metadata": {},
   "outputs": [],
   "source": []
  },
  {
   "cell_type": "code",
   "execution_count": 11,
   "metadata": {
    "scrolled": true
   },
   "outputs": [
    {
     "data": {
      "text/html": [
       "<table class=\"data-frame\"><thead><tr><th></th><th>julia</th><th>compiled</th><th>name</th><th>uuid</th></tr><tr><th></th><th>String</th><th>Bool</th><th>String</th><th>String</th></tr></thead><tbody><p>66 rows × 19 columns (omitted printing of 15 columns)</p><tr><th>1</th><td>v\"1.8.0-DEV-1c20d9d31d\"</td><td>0</td><td>Revise</td><td>UUID(\"295af30f-e4ad-537b-8983-00126c2a3abe\")</td></tr><tr><th>2</th><td>v\"1.8.0-DEV-1c20d9d31d\"</td><td>0</td><td>TensorKitManifolds</td><td>UUID(\"11fa318c-39cb-4a83-b1ed-cdc7ba1e3684\")</td></tr><tr><th>3</th><td>v\"1.8.0-DEV-1c20d9d31d\"</td><td>0</td><td>SIMD</td><td>UUID(\"fdea26ae-647d-5447-a871-4b548cad5224\")</td></tr><tr><th>4</th><td>v\"1.8.0-DEV-1c20d9d31d\"</td><td>0</td><td>Mads</td><td>UUID(\"d6bdc55b-bd94-5012-933c-1f73fc2ee992\")</td></tr><tr><th>5</th><td>v\"1.8.0-DEV-1c20d9d31d\"</td><td>0</td><td>StochasticDiffEq</td><td>UUID(\"789caeaf-c7a9-5a7d-9973-96adeb23e2a0\")</td></tr><tr><th>6</th><td>v\"1.8.0-DEV-1c20d9d31d\"</td><td>0</td><td>Poltergeist</td><td>UUID(\"89210da2-f0be-5ef8-ba65-10393cce509d\")</td></tr><tr><th>7</th><td>v\"1.8.0-DEV-1c20d9d31d\"</td><td>0</td><td>TraitSimulation</td><td>UUID(\"dec3038e-29bc-11e9-2207-9f3d5855a202\")</td></tr><tr><th>8</th><td>v\"1.8.0-DEV-1c20d9d31d\"</td><td>0</td><td>KernelFunctions</td><td>UUID(\"ec8451be-7e33-11e9-00cf-bbf324bd1392\")</td></tr><tr><th>9</th><td>v\"1.8.0-DEV-1c20d9d31d\"</td><td>0</td><td>QuantumOptics</td><td>UUID(\"6e0679c1-51ea-5a7c-ac74-d61b76210b0c\")</td></tr><tr><th>10</th><td>v\"1.8.0-DEV-1c20d9d31d\"</td><td>0</td><td>FHIRClient</td><td>UUID(\"b44d2ca2-8176-4fa9-8684-826e17b2a2da\")</td></tr><tr><th>11</th><td>v\"1.8.0-DEV-1c20d9d31d\"</td><td>0</td><td>Dash</td><td>UUID(\"1b08a953-4be3-4667-9a23-3db579824955\")</td></tr><tr><th>12</th><td>v\"1.8.0-DEV-1c20d9d31d\"</td><td>0</td><td>FEMMaterials</td><td>UUID(\"0c6c1f6c-65b6-54d6-9cff-6b64003af638\")</td></tr><tr><th>13</th><td>v\"1.8.0-DEV-1c20d9d31d\"</td><td>0</td><td>InteractiveChaos</td><td>UUID(\"81850811-659e-51ab-a7c2-5dd848ff4aa4\")</td></tr><tr><th>14</th><td>v\"1.8.0-DEV-1c20d9d31d\"</td><td>0</td><td>ClassicalOrthogonalPolynomials</td><td>UUID(\"b30e2e7b-c4ee-47da-9d5f-2c5c27239acd\")</td></tr><tr><th>15</th><td>v\"1.8.0-DEV-1c20d9d31d\"</td><td>0</td><td>CovarianceFunctions</td><td>UUID(\"b3329135-7958-41d4-bb02-e084c5a526bf\")</td></tr><tr><th>16</th><td>v\"1.8.0-DEV-1c20d9d31d\"</td><td>0</td><td>GridapPETSc</td><td>UUID(\"bcdc36c2-0c3e-11ea-095a-c9dadae499f1\")</td></tr><tr><th>17</th><td>v\"1.8.0-DEV-1c20d9d31d\"</td><td>0</td><td>MIRTjim</td><td>UUID(\"170b2178-6dee-4cb0-8729-b3e8b57834cc\")</td></tr><tr><th>18</th><td>v\"1.8.0-DEV-1c20d9d31d\"</td><td>0</td><td>JET</td><td>UUID(\"c3a54625-cd67-489e-a8e7-0a5a0ff4e31b\")</td></tr><tr><th>19</th><td>v\"1.8.0-DEV-1c20d9d31d\"</td><td>0</td><td>ApproxFunFourier</td><td>UUID(\"59844689-9c9d-51bf-9583-5b794ec66d30\")</td></tr><tr><th>20</th><td>v\"1.8.0-DEV-1c20d9d31d\"</td><td>0</td><td>EquationsOfStateOfSolids</td><td>UUID(\"1eaa2786-f833-4167-8397-974edad0881e\")</td></tr><tr><th>21</th><td>v\"1.8.0-DEV-1c20d9d31d\"</td><td>0</td><td>ProgressMeter</td><td>UUID(\"92933f4c-e287-5a05-a399-4b506db050ca\")</td></tr><tr><th>22</th><td>v\"1.8.0-DEV-1c20d9d31d\"</td><td>0</td><td>LocalRegistry</td><td>UUID(\"89398ba2-070a-4b16-a995-9893c55d93cf\")</td></tr><tr><th>23</th><td>v\"1.8.0-DEV-1c20d9d31d\"</td><td>0</td><td>StatProfilerHTML</td><td>UUID(\"a8a75453-ed82-57c9-9e16-4cd1196ecbf5\")</td></tr><tr><th>24</th><td>v\"1.8.0-DEV-1c20d9d31d\"</td><td>0</td><td>Mamba</td><td>UUID(\"5424a776-8be3-5c5b-a13f-3551f69ba0e6\")</td></tr><tr><th>25</th><td>v\"1.8.0-DEV-1c20d9d31d\"</td><td>0</td><td>GeometryPrimitives</td><td>UUID(\"17051e67-205e-509e-8301-03b320b998e6\")</td></tr><tr><th>26</th><td>v\"1.8.0-DEV-1c20d9d31d\"</td><td>0</td><td>NeXLSpectrum</td><td>UUID(\"6c578565-ca7f-4012-afc4-b8412d85af92\")</td></tr><tr><th>27</th><td>v\"1.8.0-DEV-1c20d9d31d\"</td><td>0</td><td>LoweredCodeUtils</td><td>UUID(\"6f1432cf-f94c-5a45-995e-cdbf5db27b0b\")</td></tr><tr><th>28</th><td>v\"1.8.0-DEV-1c20d9d31d\"</td><td>0</td><td>ClimaCore</td><td>UUID(\"d414da3d-4745-48bb-8d80-42e94e092884\")</td></tr><tr><th>29</th><td>v\"1.8.0-DEV-1c20d9d31d\"</td><td>0</td><td>Juniper</td><td>UUID(\"2ddba703-00a4-53a7-87a5-e8b9971dde84\")</td></tr><tr><th>30</th><td>v\"1.8.0-DEV-1c20d9d31d\"</td><td>0</td><td>ArviZ</td><td>UUID(\"131c737c-5715-5e2e-ad31-c244f01c1dc7\")</td></tr><tr><th>&vellip;</th><td>&vellip;</td><td>&vellip;</td><td>&vellip;</td><td>&vellip;</td></tr></tbody></table>"
      ],
      "text/latex": [
       "\\begin{tabular}{r|ccccc}\n",
       "\t& julia & compiled & name & uuid & \\\\\n",
       "\t\\hline\n",
       "\t& String & Bool & String & String & \\\\\n",
       "\t\\hline\n",
       "\t1 & v\"1.8.0-DEV-1c20d9d31d\" & 0 & Revise & UUID(\"295af30f-e4ad-537b-8983-00126c2a3abe\") & $\\dots$ \\\\\n",
       "\t2 & v\"1.8.0-DEV-1c20d9d31d\" & 0 & TensorKitManifolds & UUID(\"11fa318c-39cb-4a83-b1ed-cdc7ba1e3684\") & $\\dots$ \\\\\n",
       "\t3 & v\"1.8.0-DEV-1c20d9d31d\" & 0 & SIMD & UUID(\"fdea26ae-647d-5447-a871-4b548cad5224\") & $\\dots$ \\\\\n",
       "\t4 & v\"1.8.0-DEV-1c20d9d31d\" & 0 & Mads & UUID(\"d6bdc55b-bd94-5012-933c-1f73fc2ee992\") & $\\dots$ \\\\\n",
       "\t5 & v\"1.8.0-DEV-1c20d9d31d\" & 0 & StochasticDiffEq & UUID(\"789caeaf-c7a9-5a7d-9973-96adeb23e2a0\") & $\\dots$ \\\\\n",
       "\t6 & v\"1.8.0-DEV-1c20d9d31d\" & 0 & Poltergeist & UUID(\"89210da2-f0be-5ef8-ba65-10393cce509d\") & $\\dots$ \\\\\n",
       "\t7 & v\"1.8.0-DEV-1c20d9d31d\" & 0 & TraitSimulation & UUID(\"dec3038e-29bc-11e9-2207-9f3d5855a202\") & $\\dots$ \\\\\n",
       "\t8 & v\"1.8.0-DEV-1c20d9d31d\" & 0 & KernelFunctions & UUID(\"ec8451be-7e33-11e9-00cf-bbf324bd1392\") & $\\dots$ \\\\\n",
       "\t9 & v\"1.8.0-DEV-1c20d9d31d\" & 0 & QuantumOptics & UUID(\"6e0679c1-51ea-5a7c-ac74-d61b76210b0c\") & $\\dots$ \\\\\n",
       "\t10 & v\"1.8.0-DEV-1c20d9d31d\" & 0 & FHIRClient & UUID(\"b44d2ca2-8176-4fa9-8684-826e17b2a2da\") & $\\dots$ \\\\\n",
       "\t11 & v\"1.8.0-DEV-1c20d9d31d\" & 0 & Dash & UUID(\"1b08a953-4be3-4667-9a23-3db579824955\") & $\\dots$ \\\\\n",
       "\t12 & v\"1.8.0-DEV-1c20d9d31d\" & 0 & FEMMaterials & UUID(\"0c6c1f6c-65b6-54d6-9cff-6b64003af638\") & $\\dots$ \\\\\n",
       "\t13 & v\"1.8.0-DEV-1c20d9d31d\" & 0 & InteractiveChaos & UUID(\"81850811-659e-51ab-a7c2-5dd848ff4aa4\") & $\\dots$ \\\\\n",
       "\t14 & v\"1.8.0-DEV-1c20d9d31d\" & 0 & ClassicalOrthogonalPolynomials & UUID(\"b30e2e7b-c4ee-47da-9d5f-2c5c27239acd\") & $\\dots$ \\\\\n",
       "\t15 & v\"1.8.0-DEV-1c20d9d31d\" & 0 & CovarianceFunctions & UUID(\"b3329135-7958-41d4-bb02-e084c5a526bf\") & $\\dots$ \\\\\n",
       "\t16 & v\"1.8.0-DEV-1c20d9d31d\" & 0 & GridapPETSc & UUID(\"bcdc36c2-0c3e-11ea-095a-c9dadae499f1\") & $\\dots$ \\\\\n",
       "\t17 & v\"1.8.0-DEV-1c20d9d31d\" & 0 & MIRTjim & UUID(\"170b2178-6dee-4cb0-8729-b3e8b57834cc\") & $\\dots$ \\\\\n",
       "\t18 & v\"1.8.0-DEV-1c20d9d31d\" & 0 & JET & UUID(\"c3a54625-cd67-489e-a8e7-0a5a0ff4e31b\") & $\\dots$ \\\\\n",
       "\t19 & v\"1.8.0-DEV-1c20d9d31d\" & 0 & ApproxFunFourier & UUID(\"59844689-9c9d-51bf-9583-5b794ec66d30\") & $\\dots$ \\\\\n",
       "\t20 & v\"1.8.0-DEV-1c20d9d31d\" & 0 & EquationsOfStateOfSolids & UUID(\"1eaa2786-f833-4167-8397-974edad0881e\") & $\\dots$ \\\\\n",
       "\t21 & v\"1.8.0-DEV-1c20d9d31d\" & 0 & ProgressMeter & UUID(\"92933f4c-e287-5a05-a399-4b506db050ca\") & $\\dots$ \\\\\n",
       "\t22 & v\"1.8.0-DEV-1c20d9d31d\" & 0 & LocalRegistry & UUID(\"89398ba2-070a-4b16-a995-9893c55d93cf\") & $\\dots$ \\\\\n",
       "\t23 & v\"1.8.0-DEV-1c20d9d31d\" & 0 & StatProfilerHTML & UUID(\"a8a75453-ed82-57c9-9e16-4cd1196ecbf5\") & $\\dots$ \\\\\n",
       "\t24 & v\"1.8.0-DEV-1c20d9d31d\" & 0 & Mamba & UUID(\"5424a776-8be3-5c5b-a13f-3551f69ba0e6\") & $\\dots$ \\\\\n",
       "\t25 & v\"1.8.0-DEV-1c20d9d31d\" & 0 & GeometryPrimitives & UUID(\"17051e67-205e-509e-8301-03b320b998e6\") & $\\dots$ \\\\\n",
       "\t26 & v\"1.8.0-DEV-1c20d9d31d\" & 0 & NeXLSpectrum & UUID(\"6c578565-ca7f-4012-afc4-b8412d85af92\") & $\\dots$ \\\\\n",
       "\t27 & v\"1.8.0-DEV-1c20d9d31d\" & 0 & LoweredCodeUtils & UUID(\"6f1432cf-f94c-5a45-995e-cdbf5db27b0b\") & $\\dots$ \\\\\n",
       "\t28 & v\"1.8.0-DEV-1c20d9d31d\" & 0 & ClimaCore & UUID(\"d414da3d-4745-48bb-8d80-42e94e092884\") & $\\dots$ \\\\\n",
       "\t29 & v\"1.8.0-DEV-1c20d9d31d\" & 0 & Juniper & UUID(\"2ddba703-00a4-53a7-87a5-e8b9971dde84\") & $\\dots$ \\\\\n",
       "\t30 & v\"1.8.0-DEV-1c20d9d31d\" & 0 & ArviZ & UUID(\"131c737c-5715-5e2e-ad31-c244f01c1dc7\") & $\\dots$ \\\\\n",
       "\t$\\dots$ & $\\dots$ & $\\dots$ & $\\dots$ & $\\dots$ &  \\\\\n",
       "\\end{tabular}\n"
      ],
      "text/plain": [
       "\u001b[1m66×19 DataFrame\u001b[0m\n",
       "\u001b[1m Row \u001b[0m│\u001b[1m julia                   \u001b[0m\u001b[1m compiled \u001b[0m\u001b[1m name                           \u001b[0m\u001b[1m uuid\u001b[0m ⋯\n",
       "\u001b[1m     \u001b[0m│\u001b[90m String                  \u001b[0m\u001b[90m Bool     \u001b[0m\u001b[90m String                         \u001b[0m\u001b[90m Stri\u001b[0m ⋯\n",
       "─────┼──────────────────────────────────────────────────────────────────────────\n",
       "   1 │ v\"1.8.0-DEV-1c20d9d31d\"     false  Revise                          UUID ⋯\n",
       "   2 │ v\"1.8.0-DEV-1c20d9d31d\"     false  TensorKitManifolds              UUID\n",
       "   3 │ v\"1.8.0-DEV-1c20d9d31d\"     false  SIMD                            UUID\n",
       "   4 │ v\"1.8.0-DEV-1c20d9d31d\"     false  Mads                            UUID\n",
       "   5 │ v\"1.8.0-DEV-1c20d9d31d\"     false  StochasticDiffEq                UUID ⋯\n",
       "   6 │ v\"1.8.0-DEV-1c20d9d31d\"     false  Poltergeist                     UUID\n",
       "   7 │ v\"1.8.0-DEV-1c20d9d31d\"     false  TraitSimulation                 UUID\n",
       "   8 │ v\"1.8.0-DEV-1c20d9d31d\"     false  KernelFunctions                 UUID\n",
       "   9 │ v\"1.8.0-DEV-1c20d9d31d\"     false  QuantumOptics                   UUID ⋯\n",
       "  10 │ v\"1.8.0-DEV-1c20d9d31d\"     false  FHIRClient                      UUID\n",
       "  11 │ v\"1.8.0-DEV-1c20d9d31d\"     false  Dash                            UUID\n",
       "  ⋮  │            ⋮                ⋮                    ⋮                      ⋱\n",
       "  57 │ v\"1.8.0-DEV-1c20d9d31d\"     false  Cassette                        UUID\n",
       "  58 │ v\"1.8.0-DEV-1c20d9d31d\"     false  SpecialFunctions                UUID ⋯\n",
       "  59 │ v\"1.8.0-DEV-1c20d9d31d\"     false  Causal                          UUID\n",
       "  60 │ v\"1.8.0-DEV-1c20d9d31d\"     false  SlackThreads                    UUID\n",
       "  61 │ v\"1.8.0-DEV-1c20d9d31d\"     false  RangeHelpers                    UUID\n",
       "  62 │ v\"1.8.0-DEV-1c20d9d31d\"     false  ApproxFunOrthogonalPolynomials  UUID ⋯\n",
       "  63 │ v\"1.8.0-DEV-1c20d9d31d\"     false  DataKnots                       UUID\n",
       "  64 │ v\"1.8.0-DEV-1c20d9d31d\"     false  FastTransforms                  UUID\n",
       "  65 │ v\"1.8.0-DEV-1c20d9d31d\"     false  QML                             UUID\n",
       "  66 │ v\"1.8.0-DEV-1c20d9d31d\"     false  IncrementalInference            UUID ⋯\n",
       "\u001b[36m                                                  16 columns and 45 rows omitted\u001b[0m"
      ]
     },
     "execution_count": 11,
     "metadata": {},
     "output_type": "execute_result"
    }
   ],
   "source": [
    "# Unknown failures\n",
    "\n",
    "filter(x -> x.why == Unknown && \n",
    "       !(x.name in issues_opened) && \n",
    "       !(x.name in likely_tol) && \n",
    "       !(x.name in ignored_packages) && \n",
    "       !(x.name in fixed), \n",
    "    fails)"
   ]
  },
  {
   "cell_type": "code",
   "execution_count": 12,
   "metadata": {
    "scrolled": true
   },
   "outputs": [
    {
     "data": {
      "text/plain": [
       "33-element Vector{Any}:\n",
       " (72, Unknown)\n",
       " (44, Inactivity)\n",
       " (38, PrintingChange)\n",
       " (19, NewExceptionType)\n",
       " (18, CcallType)\n",
       " (18, UninstalledDep)\n",
       " (18, LLVMVersion)\n",
       " (11, TimeLimit)\n",
       " (9, SyntaxError)\n",
       " (8, NewAmbiguity)\n",
       " (7, ReturnType)\n",
       " (7, ApproxError)\n",
       " (6, CxxWrap)\n",
       " ⋮\n",
       " (3, InferredFailure)\n",
       " (2, Untestable)\n",
       " (1, TypeNameConstField)\n",
       " (1, JSONUndefinedReference)\n",
       " (1, IOBufferWritable)\n",
       " (1, ImageReference)\n",
       " (1, Cassette)\n",
       " (1, StderrCheck)\n",
       " (1, BuildError)\n",
       " (1, VisualRegression)\n",
       " (1, UnexpectedPass)\n",
       " (1, TestAmbiguities)"
      ]
     },
     "execution_count": 12,
     "metadata": {},
     "output_type": "execute_result"
    }
   ],
   "source": [
    "# Categorize\n",
    "\n",
    "z = []\n",
    "for i in instances(FailureType)\n",
    "    n = count(row -> row.why == i, eachrow(fails))\n",
    "    n > 0 && push!(z, (n, i))\n",
    "end\n",
    "sort!(z; rev=true)"
   ]
  },
  {
   "cell_type": "code",
   "execution_count": 13,
   "metadata": {},
   "outputs": [
    {
     "data": {
      "text/plain": [
       "38-element Vector{String}:\n",
       " \"EquivalentCircuits\"\n",
       " \"LogRoller\"\n",
       " \"CBinding\"\n",
       " \"YAActL\"\n",
       " \"PkgCite\"\n",
       " \"AxisTables\"\n",
       " \"ControlSystems\"\n",
       " \"ConjugatePriors\"\n",
       " \"FindClosest\"\n",
       " \"SimplePadics\"\n",
       " \"FinEtoolsVoxelMesher\"\n",
       " \"POMDPPolicies\"\n",
       " \"DeepDiffs\"\n",
       " ⋮\n",
       " \"HDF5Utils\"\n",
       " \"JuliaInterpreter\"\n",
       " \"PProf\"\n",
       " \"ChainRulesCore\"\n",
       " \"FinRua\"\n",
       " \"QuasiArrays\"\n",
       " \"TimeSeries\"\n",
       " \"Qwind\"\n",
       " \"ElasticArrays\"\n",
       " \"TheFix\"\n",
       " \"MIRT\"\n",
       " \"HomotopyContinuation\""
      ]
     },
     "execution_count": 13,
     "metadata": {},
     "output_type": "execute_result"
    }
   ],
   "source": [
    "# Package names of some particular failure\n",
    "\n",
    "d = filter(x -> x.why == PrintingChange, fails).name\n",
    "#d = filter(!in(issues_opened), d)\n",
    "#d = filter(!in(likely_tol), d)\n",
    "#join(d, '\\n') |> print"
   ]
  },
  {
   "cell_type": "code",
   "execution_count": null,
   "metadata": {},
   "outputs": [],
   "source": []
  },
  {
   "cell_type": "code",
   "execution_count": null,
   "metadata": {},
   "outputs": [],
   "source": []
  }
 ],
 "metadata": {
  "@webio": {
   "lastCommId": null,
   "lastKernelId": null
  },
  "kernelspec": {
   "display_name": "Julia 1.6.1",
   "language": "julia",
   "name": "julia-1.6"
  },
  "language_info": {
   "file_extension": ".jl",
   "mimetype": "application/julia",
   "name": "julia",
   "version": "1.6.3"
  }
 },
 "nbformat": 4,
 "nbformat_minor": 4
}
