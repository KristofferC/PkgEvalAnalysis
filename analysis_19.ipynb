{
 "cells": [
  {
   "cell_type": "markdown",
   "metadata": {},
   "source": [
    "# PkgEvalAnalysis\n",
    "\n",
    "Latest pkgeval: https://s3.amazonaws.com/julialang-reports/nanosoldier/pkgeval/by_hash/9a67956_vs_17cfb8e/report.html"
   ]
  },
  {
   "cell_type": "code",
   "execution_count": 1,
   "metadata": {},
   "outputs": [
    {
     "data": {
      "text/plain": [
       "download_logs (generic function with 1 method)"
      ]
     },
     "execution_count": 1,
     "metadata": {},
     "output_type": "execute_result"
    }
   ],
   "source": [
    "using DataFrames, Feather\n",
    "using JuliaRegistryAnalysis\n",
    "using Graphs, MetaGraphs\n",
    "using Downloads\n",
    "\n",
    "include(\"add_back_logs.jl\")"
   ]
  },
  {
   "cell_type": "code",
   "execution_count": 2,
   "metadata": {},
   "outputs": [
    {
     "name": "stderr",
     "output_type": "stream",
     "text": [
      "\u001b[32mProgress: 100%|█████████████████████████████████████████| Time: 0:01:27\u001b[39m\n",
      "\u001b[32mProgress: 100%|█████████████████████████████████████████| Time: 0:01:25\u001b[39m\n"
     ]
    }
   ],
   "source": [
    "baseline = \"c9a32f4\"\n",
    "vs = \"e4ee485\"\n",
    "\n",
    "\n",
    "data_dir = joinpath(\"data_$(baseline)_vs_$(vs)\")\n",
    "if !isdir(data_dir)\n",
    "    url = \"https://github.com/JuliaCI/NanosoldierReports/blob/master/pkgeval/by_hash/$(baseline)_vs_$(vs)/data.tar.zst?raw=true\"\n",
    "    file = Downloads.download(url)\n",
    "    mkdir(data_dir)\n",
    "    mv(file, joinpath(data_dir, \"$(baseline)_vs_$(vs).tar.zst\"))\n",
    "    cd(data_dir) do\n",
    "        run(`tar -xf $(baseline)_vs_$(vs).tar.zst`)\n",
    "    end\n",
    "end\n",
    "\n",
    "# The data in the data.tar.zst do not contain the actual logs so we have to download these\n",
    "if !isfile(joinpath(data_dir, \"primary_log.feather\"))\n",
    "    add_back_logs(data_dir)\n",
    "end\n",
    "primary  = Feather.read(joinpath(@__DIR__, data_dir, \"primary_log.feather\"));\n",
    "against  = Feather.read(joinpath(@__DIR__, data_dir, \"against_log.feather\"));"
   ]
  },
  {
   "cell_type": "code",
   "execution_count": 3,
   "metadata": {},
   "outputs": [],
   "source": [
    "# We sort packages according to how many transitive dependencies they have\n",
    "graph = JuliaRegistryAnalysis.dependency_graph(; include=(name, uuid) -> true)\n",
    "name_to_vertex = Dict{String, Int}(get_prop(graph, i, :label) => i for i in 1:nv(graph));\n",
    "\n",
    "const trans = transitiveclosure(graph.graph)\n",
    "\n",
    "sortby = x -> begin\n",
    "    v = get(name_to_vertex, x, 0)\n",
    "    v == 0 && return 0\n",
    "    return Graphs.indegree(trans, v)\n",
    "end\n",
    "    \n",
    "primary = sort(primary, order(:package, by=sortby, rev=true))\n",
    "against = sort(against, order(:package, by=sortby, rev=true))\n",
    "nothing"
   ]
  },
  {
   "cell_type": "code",
   "execution_count": 106,
   "metadata": {},
   "outputs": [],
   "source": [
    "# This is a list of different categories of failures.\n",
    "# Some are common between different Julia version upgrades\n",
    "# and some are \"special\" for this specific upgrade.\n",
    "\n",
    "@enum FailureType begin\n",
    "    # General ones\n",
    "    Unknown\n",
    "    InferredFailure\n",
    "    PrintingChange\n",
    "    TestAmbiguities\n",
    "    NewAmbiguity\n",
    "    ApproxError\n",
    "    DocTest\n",
    "    NewExceptionType\n",
    "    DownloadError\n",
    "    UnexpectedPass\n",
    "    BadBoy\n",
    "    SyntaxError\n",
    "    VisualRegression\n",
    "    MissingDep\n",
    "    BuildError\n",
    "    UnsatReq\n",
    "    BSONDataTypeField\n",
    "    Belapsed\n",
    "    StderrCheck\n",
    "    \n",
    "    # From PkgEval\n",
    "    MissingDependency\n",
    "    Inactivity\n",
    "    MissingBinary\n",
    "    Untestable\n",
    "    LogLimit\n",
    "    TimeLimit\n",
    "    Syntax\n",
    "    \n",
    "    # Assertions\n",
    "    PHINodesGrouped\n",
    "    CTXSSAValueAssigned\n",
    "    MethodAddedWhenDeleted\n",
    "    CycleDepth\n",
    "    IfElseInvalidIR\n",
    "    MalformedIsdefined\n",
    "    BadSignatureEnzyme\n",
    "    GCPreserveEnd\n",
    "    NewObjMethInst\n",
    "    IJLTypesEqual\n",
    "    InfStackOverflow\n",
    "end\n"
   ]
  },
  {
   "cell_type": "code",
   "execution_count": 26,
   "metadata": {},
   "outputs": [],
   "source": [
    "# Join the primary and against data\n",
    "package_results = leftjoin(primary, against, on=:package, makeunique=true, indicator=:source);\n",
    "\n",
    "# Only keep packages that started to fail in the new version\n",
    "fails = filter(test->test.source == \"both\" &&\n",
    "                 test.status != test.status_1 &&\n",
    "                 test.status in (\":fail\", \":kill\", \":crash\"), package_results)\n",
    "\n",
    "\n",
    "missing_binary_idx     = fails.reason .== \":binary_dependency\"\n",
    "inactivity_idx         = fails.reason .== \":inactivity\"\n",
    "missing_dependency_idx = fails.reason .== \":missing_dependency\"\n",
    "untestable_idx         = fails.reason .== \":untestable\"\n",
    "log_limit_idx          = fails.reason .== \":log_limit\"\n",
    "time_limit_idx         = fails.reason .== \":time_limit\"\n",
    "\n",
    "# Initially we do not know why a package failed\n",
    "fails.why = fill(Unknown, size(fails, 1));\n",
    "\n",
    "fails.why[missing_binary_idx]     .= MissingBinary\n",
    "fails.why[inactivity_idx]         .= Inactivity\n",
    "fails.why[missing_dependency_idx] .= MissingDependency\n",
    "fails.why[untestable_idx]         .= Untestable\n",
    "fails.why[log_limit_idx]          .= LogLimit\n",
    "fails.why[time_limit_idx]         .= TimeLimit\n",
    "\n",
    "nothing"
   ]
  },
  {
   "cell_type": "code",
   "execution_count": 38,
   "metadata": {},
   "outputs": [
    {
     "data": {
      "text/plain": [
       "total_unknown (generic function with 1 method)"
      ]
     },
     "execution_count": 38,
     "metadata": {},
     "output_type": "execute_result"
    }
   ],
   "source": [
    "# Some utility functions\n",
    "\n",
    "query(fails, s) = sort(filter(row -> occursin(s, row[:log]), fails))\n",
    "\n",
    "function update_reason!(fails, needle, why)\n",
    "    idxs = findall(row -> occursin(needle, row), fails.log)\n",
    "    fails.why[idxs] .= why\n",
    "    return fails\n",
    "end\n",
    "\n",
    "total_unknown(fails) = count(x -> x.why == Unknown, eachrow(fails))"
   ]
  },
  {
   "cell_type": "code",
   "execution_count": 96,
   "metadata": {},
   "outputs": [
    {
     "data": {
      "text/plain": [
       "1-element Vector{String}:\n",
       " \"FourierFlows\""
      ]
     },
     "execution_count": 96,
     "metadata": {},
     "output_type": "execute_result"
    }
   ],
   "source": [
    "query(fails, \"!ijl_types_equal(mi->specTypes\").package"
   ]
  },
  {
   "cell_type": "code",
   "execution_count": 107,
   "metadata": {},
   "outputs": [],
   "source": [
    "# Here we pattern match certain test errors and categorize them based on that.\n",
    "\n",
    "# Generic ones\n",
    "update_reason!(fails, \"Test.detect_ambiguities\", TestAmbiguities)\n",
    "update_reason!(fails, \"detect_ambiguities(\", TestAmbiguities)\n",
    "\n",
    "update_reason!(fails, \"Expression: all_doctests()\", DocTest)\n",
    "update_reason!(fails, \"Error: doctest failure in \", DocTest)\n",
    "\n",
    "update_reason!(fails, \"does not match inferred return type\", InferredFailure);\n",
    "update_reason!(fails, \"Expression: isapprox\", ApproxError)\n",
    "update_reason!(fails, r\"Expression: (\\S*) ≈ (\\S*)\", ApproxError) \n",
    "update_reason!(fails, \"Expression: ≈(\", ApproxError)\n",
    "    \n",
    "update_reason!(fails, \"is ambiguous. Candidates:\", NewAmbiguity)\n",
    "update_reason!(fails, \" ambiguities found\", NewAmbiguity)\n",
    "\n",
    "update_reason!(fails, \"Unsatisfiable requirements detected for package\", UnsatReq)\n",
    "\n",
    "\n",
    "\n",
    "update_reason!(fails, \"Log Test Failed at\", PrintingChange)\n",
    "update_reason!(fails, \"Expression: occursin(r\\\"\", PrintingChange)\n",
    "update_reason!(fails, \"Expression: startswith(\", PrintingChange)\n",
    "# update_reason!(fails, r\"Expression: (\\N.*?) == \", PrintingChange)\n",
    "update_reason!(fails, \"Evaluated: occursin(\", PrintingChange)\n",
    "update_reason!(fails, \"Evaluated: endswith(\", PrintingChange)\n",
    "update_reason!(fails, \"- DIFF ------------------------\", PrintingChange)\n",
    "update_reason!(fails, \"LoadError: syntax\", SyntaxError)\n",
    "\n",
    "update_reason!(fails, \"Image did not match reference image\", VisualRegression)\n",
    "\n",
    "update_reason!(fails, \"      Thrown: \", NewExceptionType)\n",
    "update_reason!(fails, \"The requested URL returned error\", DownloadError)\n",
    "update_reason!(fails, \"gzip: stdin: not in gzip format\", DownloadError)\n",
    "update_reason!(fails, \"Unexpected Pass\", UnexpectedPass)\n",
    "\n",
    "update_reason!(fails, \"Error building \", BuildError)\n",
    "update_reason!(fails, \"isempty(stderr_content)\", StderrCheck)\n",
    "\n",
    "# Assertions\n",
    "\n",
    "\n",
    "update_reason!(fails, \"isempty(stderr_content)\", StderrCheck)\n",
    "\n",
    "# Specific ones for this release\n",
    "update_reason!(fails, \"!ctx.ssavalue_assigned.at\", CTXSSAValueAssigned)\n",
    "update_reason!(fails, \"PHI nodes not grouped at top of basic block\", PHINodesGrouped)\n",
    "update_reason!(fails, \"method cannot be added at the same time as method deleted\", MethodAddedWhenDeleted)\n",
    "update_reason!(fails, \"cycle == depth\", CycleDepth)\n",
    "update_reason!(fails, \"select i1 %ifelse\", IfElseInvalidIR)\n",
    "update_reason!(fails, \"malformed isdefined expression\", MalformedIsdefined)\n",
    "update_reason!(fails, \"Calling a function with bad signature\", BadSignatureEnzyme)\n",
    "update_reason!(fails, \"llvm.julia.gc_preserve_end\", GCPreserveEnd)\n",
    "update_reason!(fails, \"newobj == (jl_method_instance_t\", NewObjMethInst)\n",
    "update_reason!(fails, \"!ijl_types_equal(mi->specType\", IJLTypesEqual)\n",
    "update_reason!(fails, \"stack overflow in type inference\", InfStackOverflow)\n",
    "\n",
    "\n",
    "nothing"
   ]
  },
  {
   "cell_type": "code",
   "execution_count": 108,
   "metadata": {
    "jupyter": {
     "source_hidden": true
    },
    "tags": []
   },
   "outputs": [
    {
     "data": {
      "text/plain": [
       "Any[]"
      ]
     },
     "execution_count": 108,
     "metadata": {},
     "output_type": "execute_result"
    }
   ],
   "source": [
    "# Packages that have gotten some attention but haven't made a new version that would\n",
    "# remove the package from the PkgEval list\n",
    "\n",
    "issues_opened = [\n",
    "    \"Checkpointing\" # https://github.com/JuliaGPU/GPUCompiler.jl/issues/361\n",
    "    \"CodeInfoTools.jl\" # https://github.com/JuliaCompilerPlugins/CodeInfoTools.jl\n",
    "    \"CompatHelperLocal\" # https://gitlab.com/aplavin/compathelperlocal.jl/-/issues/1\n",
    "    \"DocumentFunction\" # https://github.com/madsjulia/DocumentFunction.jl/issues/6\n",
    "    \"DataStructures \"# https://github.com/JuliaCollections/DataStructures.jl/pull/832\n",
    "    \"TightBindingApproximation\" # https://github.com/JuliaLang/julia/issues/47476\n",
    "    \"CameraModels\" # https://github.com/JuliaLang/julia/issues/48076\n",
    "    \"NewsLookout\" # nonsense\n",
    "    \"Libtask\" # internals\n",
    "    \"MaxwellSALT\" # old version <zzz\n",
    "    \"Agents\" # https://github.com/JuliaDynamics/Agents.jl/issues/733\n",
    "    \"GFlops\" # https://github.com/triscale-innov/GFlops.jl/issues/42\n",
    "    \"Symbolics\" # https://github.com/JuliaSymbolics/Symbolics.jl/issues/827\n",
    "    \"CrystalNets\" # \n",
    "    \"PDMats\" # https://github.com/JuliaStats/PDMats.jl/pull/153/files#r1090770057\n",
    "    \"MethodAnalysis\" # https://github.com/timholy/MethodAnalysis.jl/issues/36\n",
    "]\n",
    "\n",
    "likely_tol = [\n",
    "];\n",
    "\n",
    "fixed = [\n",
    "    \"DocStringExtensions\" # https://github.com/JuliaDocs/DocStringExtensions.jl/pull/137\n",
    "    \"EndpointRanges\" # \n",
    "    \"AstroImages\" # https://github.com/JuliaAstro/AstroImages.jl/pull/35\n",
    "    \"Deductive\" # https://github.com/ctrekker/Deductive.jl/pull/28\n",
    "    \"UsingMerge\" # master\n",
    "    \"JWAS\" # https://github.com/reworkhow/JWAS.jl/pull/133\n",
    "    \"InMemoryDatasets\" # https://github.com/sl-solution/InMemoryDatasets.jl/commit/528be734543a87786c53bba7c7dffd287e7b8f74\n",
    "    \"GenericArpack\" # https://github.com/dgleich/GenericArpack.jl/pull/4\n",
    "    \"DataStructures\" # https://github.com/JuliaCollections/DataStructures.jl/pull/832\n",
    "    \"Compat\" # https://github.com/JuliaLang/Compat.jl/pull/786\n",
    "    \"Profile\" # https://github.com/JuliaLang/julia/pull/48458\n",
    "    \"ExprTools\" # https://github.com/invenia/ExprTools.jl/pull/36\n",
    "    \"NamedDims\" # https://github.com/invenia/NamedDims.jl/pull/214\n",
    "    \"Distributions\" # https://github.com/JuliaStats/Distributions.jl/pull/1671\n",
    "]\n",
    "\n",
    "\n",
    "ignored_packages = [\n",
    "]"
   ]
  },
  {
   "cell_type": "code",
   "execution_count": 109,
   "metadata": {},
   "outputs": [
    {
     "data": {
      "text/plain": [
       "251"
      ]
     },
     "execution_count": 109,
     "metadata": {},
     "output_type": "execute_result"
    }
   ],
   "source": [
    "# Total package failures that we haven't categorized\n",
    "\n",
    "total_unknown(fails)"
   ]
  },
  {
   "cell_type": "code",
   "execution_count": 110,
   "metadata": {
    "scrolled": true
   },
   "outputs": [
    {
     "data": {
      "text/plain": [
       "String[]"
      ]
     },
     "execution_count": 110,
     "metadata": {},
     "output_type": "execute_result"
    }
   ],
   "source": [
    "# Unknown failures, these are packages where we haven't yet managed to categorize their failure\n",
    "\n",
    "filter(x -> x.why == Unknown && \n",
    "      # !(x.package in issues_opened) && \n",
    "      # !(x.package in likely_tol) && \n",
    "      # !(x.package in ignored_packages) && \n",
    "     #  !(x.package in fixed) &&\n",
    "       x.status == \":crash\", \n",
    "    fails).package"
   ]
  },
  {
   "cell_type": "code",
   "execution_count": 113,
   "metadata": {},
   "outputs": [
    {
     "data": {
      "text/plain": [
       "251-element Vector{String}:\n",
       " \"MacroTools\"\n",
       " \"SnoopPrecompile\"\n",
       " \"FillArrays\"\n",
       " \"ColorTypes\"\n",
       " \"ExprTools\"\n",
       " \"InlineStrings\"\n",
       " \"StringManipulation\"\n",
       " \"SimpleTraits\"\n",
       " \"JLD2\"\n",
       " \"Transducers\"\n",
       " \"MuladdMacro\"\n",
       " \"AxisArrays\"\n",
       " \"ImageBase\"\n",
       " ⋮\n",
       " \"IRViz\"\n",
       " \"TORA\"\n",
       " \"IsDef\"\n",
       " \"PSSFSS\"\n",
       " \"TuringCallbacks\"\n",
       " \"ConstrainedDynamicsVis\"\n",
       " \"Stencils\"\n",
       " \"CharacteristicInvFourier\"\n",
       " \"NaiveGAflux\"\n",
       " \"vSmartMOM\"\n",
       " \"Scruff\"\n",
       " \"MuseInference\""
      ]
     },
     "execution_count": 113,
     "metadata": {},
     "output_type": "execute_result"
    }
   ],
   "source": [
    "filter(x -> x.why == Unknown,  \n",
    "      # !(x.package in issues_opened) && \n",
    "      # !(x.package in likely_tol) && \n",
    "      # !(x.package in ignored_packages) && \n",
    "     #  !(x.package in fixed), \n",
    "    fails).package"
   ]
  },
  {
   "cell_type": "code",
   "execution_count": 111,
   "metadata": {
    "scrolled": true
   },
   "outputs": [
    {
     "data": {
      "text/plain": [
       "28-element Vector{Any}:\n",
       " (251, Unknown)\n",
       " (60, MissingBinary)\n",
       " (51, TimeLimit)\n",
       " (36, MethodAddedWhenDeleted)\n",
       " (14, ApproxError)\n",
       " (14, InferredFailure)\n",
       " (13, IfElseInvalidIR)\n",
       " (10, NewExceptionType)\n",
       " (10, DocTest)\n",
       " (7, UnsatReq)\n",
       " (6, BadSignatureEnzyme)\n",
       " (6, LogLimit)\n",
       " (5, CTXSSAValueAssigned)\n",
       " ⋮\n",
       " (3, PHINodesGrouped)\n",
       " (3, MissingDependency)\n",
       " (2, StderrCheck)\n",
       " (1, IJLTypesEqual)\n",
       " (1, NewObjMethInst)\n",
       " (1, MalformedIsdefined)\n",
       " (1, CycleDepth)\n",
       " (1, Inactivity)\n",
       " (1, BuildError)\n",
       " (1, SyntaxError)\n",
       " (1, UnexpectedPass)\n",
       " (1, NewAmbiguity)"
      ]
     },
     "execution_count": 111,
     "metadata": {},
     "output_type": "execute_result"
    }
   ],
   "source": [
    "# Categorize\n",
    "\n",
    "z = []\n",
    "for i in instances(FailureType)\n",
    "    n = count(row -> row.why == i, eachrow(fails))\n",
    "    n > 0 && push!(z, (n, i))\n",
    "end\n",
    "sort!(z; rev=true)"
   ]
  },
  {
   "cell_type": "code",
   "execution_count": 13,
   "metadata": {},
   "outputs": [
    {
     "data": {
      "text/plain": [
       "16-element Vector{String}:\n",
       " \"Dagger\"\n",
       " \"QuantEcon\"\n",
       " \"Try\"\n",
       " \"ParallelStencil\"\n",
       " \"AutomationLabsModelPredictiveControl\"\n",
       " \"ConcurrentUtils\"\n",
       " \"HarmonicBalance\"\n",
       " \"SyncBarriers\"\n",
       " \"LessUnitful\"\n",
       " \"ReportMetrics\"\n",
       " \"EQDSKReader\"\n",
       " \"Pigeons\"\n",
       " \"PreludeDicts\"\n",
       " \"TestFunctionRunner\"\n",
       " \"MPIMapReduce\"\n",
       " \"ConcurrentCollections\""
      ]
     },
     "execution_count": 13,
     "metadata": {},
     "output_type": "execute_result"
    }
   ],
   "source": []
  }
 ],
 "metadata": {
  "@webio": {
   "lastCommId": null,
   "lastKernelId": null
  },
  "kernelspec": {
   "display_name": "Julia 1.9.2",
   "language": "julia",
   "name": "julia-1.9"
  },
  "language_info": {
   "file_extension": ".jl",
   "mimetype": "application/julia",
   "name": "julia",
   "version": "1.9.2"
  },
  "toc-autonumbering": false,
  "toc-showmarkdowntxt": false
 },
 "nbformat": 4,
 "nbformat_minor": 4
}
