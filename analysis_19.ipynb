{
 "cells": [
  {
   "cell_type": "markdown",
   "metadata": {},
   "source": [
    "# PkgEvalAnalysis\n",
    "\n",
    "Latest pkgeval: https://s3.amazonaws.com/julialang-reports/nanosoldier/pkgeval/by_hash/fb69baf_vs_40279f9/report.html\n",
    "\n",
    "Looking at RangeHelpers."
   ]
  },
  {
   "cell_type": "code",
   "execution_count": 1,
   "metadata": {},
   "outputs": [
    {
     "name": "stderr",
     "output_type": "stream",
     "text": [
      "┌ Info: Precompiling DataFrames [a93c6f00-e57d-5684-b7b6-d8193f3e46c0]\n",
      "└ @ Base loading.jl:1664\n",
      "WARNING: method definition for #DataFrame#195 at /home/kc/.julia/packages/DataFrames/MA4YO/src/dataframe/dataframe.jl:398 declares type variable T but does not use it.\n",
      "WARNING: method definition for col_ordering at /home/kc/.julia/packages/DataFrames/MA4YO/src/abstractdataframe/sort.jl:145 declares type variable O but does not use it.\n",
      "┌ Info: Precompiling Feather [becb17da-46f6-5d3c-ad1b-1c5fe96bc73c]\n",
      "└ @ Base loading.jl:1664\n"
     ]
    }
   ],
   "source": [
    "using DataFrames, Feather"
   ]
  },
  {
   "cell_type": "code",
   "execution_count": 60,
   "metadata": {},
   "outputs": [],
   "source": [
    "@enum FailureType begin\n",
    "    # General ones\n",
    "    Unknown\n",
    "    InferredFailure\n",
    "    PrintingChange\n",
    "    TestAmbiguities\n",
    "    NewAmbiguity\n",
    "    ApproxError\n",
    "    DocTest\n",
    "    NewExceptionType\n",
    "    DownloadError\n",
    "    UnexpectedPass\n",
    "    BadBoy\n",
    "    SyntaxError\n",
    "    VisualRegression\n",
    "    MissingDep\n",
    "    BuildError\n",
    "    UnsatReq\n",
    "    BSONDataTypeField\n",
    "    Belapsed\n",
    "    StderrCheck\n",
    "    \n",
    "    # From PkgEval\n",
    "    MissingDependency\n",
    "    Inactivity\n",
    "    MissingBinary\n",
    "    Untestable\n",
    "    LogLimit\n",
    "    TimeLimit\n",
    "    Syntax\n",
    "    \n",
    "    # Special\n",
    "    AssertionObvious\n",
    "    StackExport\n",
    "    BLASVectorLike\n",
    "    SortAmbig\n",
    "    Uncolon\n",
    "    JlTypeInf\n",
    "    QuickSortAlg\n",
    "end\n"
   ]
  },
  {
   "cell_type": "code",
   "execution_count": 8,
   "metadata": {
    "scrolled": true
   },
   "outputs": [],
   "source": [
    "# Unpack the data unless it has already been unpacked\n",
    "\n",
    "if !isdir(\"data\")\n",
    "    run(`tar -xvf data.tar.xz`)\n",
    "end\n",
    "primary  = Feather.read(\"data/primary.feather\");\n",
    "against = Feather.read(\"data/against.feather\");"
   ]
  },
  {
   "cell_type": "code",
   "execution_count": 10,
   "metadata": {},
   "outputs": [],
   "source": [
    "# Join the primary and against data\n",
    "\n",
    "package_results = leftjoin(primary, against,\n",
    "     on=:package, makeunique=true, indicator=:source);"
   ]
  },
  {
   "cell_type": "code",
   "execution_count": 11,
   "metadata": {},
   "outputs": [],
   "source": [
    "# Filter out packages that started failing but didn't start failing when the RNG stream changed\n",
    "\n",
    "fails = filter(test->test.source == \"both\" &&\n",
    "                 test.status != test.status_1 &&\n",
    "                 test.status in (\":fail\", \":kill\"), package_results)\n",
    "\n",
    "# Initially we do not know why a package failed\n",
    "fails.why = fill(Unknown, size(fails, 1));\n",
    "\n",
    "missing_binary_idx     = fails.reason .== \":binary_dependency\"\n",
    "inactivity_idx         = fails.reason .== \":inactivity\"\n",
    "missing_dependency_idx = fails.reason .== \":missing_dependency\"\n",
    "untestable_idx         = fails.reason .== \":untestable\"\n",
    "log_limit_idx          = fails.reason .== \":log_limit\"\n",
    "time_limit_idx         = fails.reason .== \":time_limit\"\n",
    "\n",
    "# Initially we do not know why a package failed\n",
    "fails.why = fill(Unknown, size(fails, 1));\n",
    "\n",
    "fails.why[missing_binary_idx]     .= MissingBinary\n",
    "fails.why[inactivity_idx]         .= Inactivity\n",
    "fails.why[missing_dependency_idx] .= MissingDependency\n",
    "fails.why[untestable_idx]         .= Untestable\n",
    "fails.why[log_limit_idx]          .= LogLimit\n",
    "fails.why[time_limit_idx]         .= TimeLimit\n",
    "\n",
    "nothing"
   ]
  },
  {
   "cell_type": "code",
   "execution_count": 12,
   "metadata": {},
   "outputs": [
    {
     "data": {
      "text/plain": [
       "total_unknown (generic function with 1 method)"
      ]
     },
     "execution_count": 12,
     "metadata": {},
     "output_type": "execute_result"
    }
   ],
   "source": [
    "# Some utility functions\n",
    "\n",
    "query(fails, s) = filter(row -> occursin(s, row[:log]), fails)    \n",
    "\n",
    "function update_reason!(fails, needle, why)\n",
    "    idxs = findall(row -> occursin(needle, row), fails.log)\n",
    "    fails.why[idxs] .= why\n",
    "    return fails\n",
    "end\n",
    "\n",
    "total_unknown(fails) = count(x -> x.why == Unknown, eachrow(fails))"
   ]
  },
  {
   "cell_type": "code",
   "execution_count": 68,
   "metadata": {},
   "outputs": [
    {
     "data": {
      "text/plain": [
       "6-element Vector{String}:\n",
       " \"CartesianJoin\"\n",
       " \"ExtendableSparse\"\n",
       " \"DLMReader\"\n",
       " \"StatisticalGraphics\"\n",
       " \"IncompleteLU\"\n",
       " \"InMemoryDatasets\""
      ]
     },
     "execution_count": 68,
     "metadata": {},
     "output_type": "execute_result"
    }
   ],
   "source": [
    "query(fails, \"`QuickSortAlg` not defined\").package"
   ]
  },
  {
   "cell_type": "code",
   "execution_count": 65,
   "metadata": {},
   "outputs": [],
   "source": [
    "# Here we pattern match certain test errors and categorize them based on that.\n",
    "\n",
    "# Generic ones\n",
    "update_reason!(fails, \"Test.detect_ambiguities\", TestAmbiguities)\n",
    "update_reason!(fails, \"detect_ambiguities(\", TestAmbiguities)\n",
    "\n",
    "update_reason!(fails, \"Expression: all_doctests()\", DocTest)\n",
    "update_reason!(fails, \"Error: doctest failure in \", DocTest)\n",
    "\n",
    "update_reason!(fails, \"does not match inferred return type\", InferredFailure);\n",
    "update_reason!(fails, \"Expression: isapprox\", ApproxError)\n",
    "update_reason!(fails, r\"Expression: (\\S*) ≈ (\\S*)\", ApproxError) \n",
    "update_reason!(fails, \"Expression: ≈(\", ApproxError)\n",
    "    \n",
    "update_reason!(fails, \"is ambiguous. Candidates:\", NewAmbiguity)\n",
    "update_reason!(fails, \" ambiguities found\", NewAmbiguity)\n",
    "\n",
    "update_reason!(fails, \"Unsatisfiable requirements detected for package\", UnsatReq)\n",
    "\n",
    "\n",
    "\n",
    "update_reason!(fails, \"Log Test Failed at\", PrintingChange)\n",
    "update_reason!(fails, \"Expression: occursin(r\\\"\", PrintingChange)\n",
    "update_reason!(fails, \"Expression: startswith(\", PrintingChange)\n",
    "update_reason!(fails, r\"Expression: (\\N.*?) == \", PrintingChange)\n",
    "update_reason!(fails, \"Evaluated: occursin(\", PrintingChange)\n",
    "update_reason!(fails, \"Evaluated: endswith(\", PrintingChange)\n",
    "update_reason!(fails, \"- DIFF ------------------------\", PrintingChange)\n",
    "update_reason!(fails, \"LoadError: syntax\", SyntaxError)\n",
    "\n",
    "update_reason!(fails, \"Image did not match reference image\", VisualRegression)\n",
    "\n",
    "update_reason!(fails, \"      Thrown: \", NewExceptionType)\n",
    "update_reason!(fails, \"The requested URL returned error\", DownloadError)\n",
    "update_reason!(fails, \"gzip: stdin: not in gzip format\", DownloadError)\n",
    "update_reason!(fails, \"Unexpected Pass\", UnexpectedPass)\n",
    "\n",
    "update_reason!(fails, \"Error building \", BuildError)\n",
    "update_reason!(fails, \"isempty(stderr_content)\", StderrCheck)\n",
    "\n",
    "\n",
    "# Specific ones for this release\n",
    "update_reason!(fails, \"Assertion `obvious_subtype == 3\", AssertionObvious)\n",
    "update_reason!(fails, \"Base export \\\"stack\\\"; uses of it in module\", StackExport)\n",
    "update_reason!(fails, \"ArgumentError: only support vector like inputs\", BLASVectorLike)\n",
    "update_reason!(fails, \"MethodError: sort!(::\", SortAmbig)\n",
    "update_reason!(fails, \"no method matching uncolon\", Uncolon)\n",
    "update_reason!(fails, \"undefined symbol: jl_typeinf_begin\", JlTypeInf)\n",
    "update_reason!(fails, \"`QuickSortAlg` not defined\", QuickSortAlg)\n",
    "\n",
    "\n",
    "\n",
    "nothing"
   ]
  },
  {
   "cell_type": "code",
   "execution_count": 66,
   "metadata": {},
   "outputs": [
    {
     "data": {
      "text/plain": [
       "Any[]"
      ]
     },
     "execution_count": 66,
     "metadata": {},
     "output_type": "execute_result"
    }
   ],
   "source": [
    "# Packages that have gotten  \n",
    "\n",
    "issues_opened = [\n",
    "    \"Checkpointing\" # https://github.com/JuliaGPU/GPUCompiler.jl/issues/361\n",
    "    \"CodeInfoTools.jl\" # https://github.com/JuliaCompilerPlugins/CodeInfoTools.jl\n",
    "    \"CompatHelperLocal\" # https://gitlab.com/aplavin/compathelperlocal.jl/-/issues/1\n",
    "    \"DataStructures \"# https://github.com/JuliaCollections/DataStructures.jl/pull/832\n",
    "]\n",
    "\n",
    "likely_tol = [\n",
    "];\n",
    "\n",
    "fixed = [\n",
    "    \"DocStringExtensions\" # https://github.com/JuliaDocs/DocStringExtensions.jl/pull/137\n",
    "    \"EndpointRanges.jl\" # \n",
    "]\n",
    "\n",
    "\n",
    "ignored_packages = [\n",
    "]"
   ]
  },
  {
   "cell_type": "code",
   "execution_count": 67,
   "metadata": {},
   "outputs": [
    {
     "data": {
      "text/plain": [
       "188"
      ]
     },
     "execution_count": 67,
     "metadata": {},
     "output_type": "execute_result"
    }
   ],
   "source": [
    "# Total package failures that we haven't categorized\n",
    "\n",
    "total_unknown(fails)"
   ]
  },
  {
   "cell_type": "markdown",
   "metadata": {},
   "source": [
    "# Examples\n",
    "\n",
    "Here are some examples of how one might do queries and categorize errors"
   ]
  },
  {
   "cell_type": "code",
   "execution_count": null,
   "metadata": {},
   "outputs": [],
   "source": []
  },
  {
   "cell_type": "code",
   "execution_count": 70,
   "metadata": {
    "scrolled": true
   },
   "outputs": [
    {
     "data": {
      "text/html": [
       "<div class=\"data-frame\"><p>188 rows × 15 columns (omitted printing of 9 columns)</p><table class=\"data-frame\"><thead><tr><th></th><th>configuration</th><th>package</th><th>version</th><th>status</th><th>reason</th><th>duration</th></tr><tr><th></th><th title=\"String\">String</th><th title=\"String\">String</th><th title=\"String\">String</th><th title=\"String\">String</th><th title=\"String\">String</th><th title=\"Float64\">Float64</th></tr></thead><tbody><tr><th>1</th><td>primary</td><td>UsingMerge</td><td>v&quot;0.0.5&quot;</td><td>:fail</td><td>:unknown</td><td>22.058</td></tr><tr><th>2</th><td>primary</td><td>DocumentFunction</td><td>v&quot;1.1.0&quot;</td><td>:fail</td><td>:unknown</td><td>20.154</td></tr><tr><th>3</th><td>primary</td><td>PrettyPrinting</td><td>v&quot;0.4.0&quot;</td><td>:fail</td><td>:unknown</td><td>40.305</td></tr><tr><th>4</th><td>primary</td><td>GeneralizedSylvesterSolver</td><td>v&quot;0.1.2&quot;</td><td>:fail</td><td>:unknown</td><td>48.291</td></tr><tr><th>5</th><td>primary</td><td>StructTypes</td><td>v&quot;1.10.0&quot;</td><td>:fail</td><td>:abort</td><td>23.59</td></tr><tr><th>6</th><td>primary</td><td>DiscreteMarkovChains</td><td>v&quot;0.2.1&quot;</td><td>:fail</td><td>:test_failures</td><td>142.094</td></tr><tr><th>7</th><td>primary</td><td>SyncBarriers</td><td>v&quot;0.1.1&quot;</td><td>:fail</td><td>:unknown</td><td>22.571</td></tr><tr><th>8</th><td>primary</td><td>AeroMDAO</td><td>v&quot;0.3.10&quot;</td><td>:fail</td><td>:unknown</td><td>48.501</td></tr><tr><th>9</th><td>primary</td><td>GeoDataFrames</td><td>v&quot;0.3.0&quot;</td><td>:fail</td><td>:test_failures</td><td>57.987</td></tr><tr><th>10</th><td>primary</td><td>GraphMatFun</td><td>v&quot;0.3.1&quot;</td><td>:fail</td><td>:test_failures</td><td>327.333</td></tr><tr><th>11</th><td>primary</td><td>Mitosis</td><td>v&quot;0.2.1&quot;</td><td>:fail</td><td>:unknown</td><td>215.317</td></tr><tr><th>12</th><td>primary</td><td>PuiseuxPolynomials</td><td>v&quot;0.1.0&quot;</td><td>:fail</td><td>:test_failures</td><td>74.963</td></tr><tr><th>13</th><td>primary</td><td>Revise</td><td>v&quot;3.4.0&quot;</td><td>:fail</td><td>:test_failures</td><td>326.574</td></tr><tr><th>14</th><td>primary</td><td>SnoopCompile</td><td>v&quot;2.9.5&quot;</td><td>:fail</td><td>:test_failures</td><td>233.354</td></tr><tr><th>15</th><td>primary</td><td>AKNS</td><td>v&quot;0.1.0&quot;</td><td>:fail</td><td>:unknown</td><td>133.378</td></tr><tr><th>16</th><td>primary</td><td>RangeEnclosures</td><td>v&quot;0.1.2&quot;</td><td>:fail</td><td>:unknown</td><td>60.741</td></tr><tr><th>17</th><td>primary</td><td>ArrayInterfaceCore</td><td>v&quot;0.1.22&quot;</td><td>:fail</td><td>:test_failures</td><td>44.462</td></tr><tr><th>18</th><td>primary</td><td>MethodAnalysis</td><td>v&quot;0.4.11&quot;</td><td>:fail</td><td>:test_failures</td><td>27.749</td></tr><tr><th>19</th><td>primary</td><td>Photometry</td><td>v&quot;0.8.1&quot;</td><td>:fail</td><td>:test_failures</td><td>116.423</td></tr><tr><th>20</th><td>primary</td><td>PDELib</td><td>v&quot;0.2.1&quot;</td><td>:fail</td><td>:unknown</td><td>143.504</td></tr><tr><th>21</th><td>primary</td><td>PDSampler</td><td>v&quot;0.1.1&quot;</td><td>:fail</td><td>:unknown</td><td>45.405</td></tr><tr><th>22</th><td>primary</td><td>Glimmer</td><td>v&quot;0.2.2&quot;</td><td>:fail</td><td>:unknown</td><td>41.417</td></tr><tr><th>23</th><td>primary</td><td>MarkdownAST</td><td>v&quot;0.1.0&quot;</td><td>:fail</td><td>:abort</td><td>25.287</td></tr><tr><th>24</th><td>primary</td><td>GFlops</td><td>v&quot;0.1.6&quot;</td><td>:fail</td><td>:unknown</td><td>27.386</td></tr><tr><th>25</th><td>primary</td><td>PowerSpectra</td><td>v&quot;0.1.1&quot;</td><td>:fail</td><td>:unknown</td><td>261.671</td></tr><tr><th>26</th><td>primary</td><td>DiscreteChoiceModels</td><td>v&quot;0.0.1&quot;</td><td>:fail</td><td>:test_failures</td><td>165.431</td></tr><tr><th>27</th><td>primary</td><td>ExtremeLearning</td><td>v&quot;0.1.2&quot;</td><td>:fail</td><td>:test_failures</td><td>26.545</td></tr><tr><th>28</th><td>primary</td><td>PDMats</td><td>v&quot;0.11.16&quot;</td><td>:fail</td><td>:test_failures</td><td>176.537</td></tr><tr><th>29</th><td>primary</td><td>KnetLayers</td><td>v&quot;0.4.0&quot;</td><td>:fail</td><td>:unknown</td><td>46.657</td></tr><tr><th>30</th><td>primary</td><td>MadNLPPardiso</td><td>v&quot;0.3.0&quot;</td><td>:fail</td><td>:unknown</td><td>42.572</td></tr><tr><th>&vellip;</th><td>&vellip;</td><td>&vellip;</td><td>&vellip;</td><td>&vellip;</td><td>&vellip;</td><td>&vellip;</td></tr></tbody></table></div>"
      ],
      "text/latex": [
       "\\begin{tabular}{r|ccccccc}\n",
       "\t& configuration & package & version & status & reason & duration & \\\\\n",
       "\t\\hline\n",
       "\t& String & String & String & String & String & Float64 & \\\\\n",
       "\t\\hline\n",
       "\t1 & primary & UsingMerge & v\"0.0.5\" & :fail & :unknown & 22.058 & $\\dots$ \\\\\n",
       "\t2 & primary & DocumentFunction & v\"1.1.0\" & :fail & :unknown & 20.154 & $\\dots$ \\\\\n",
       "\t3 & primary & PrettyPrinting & v\"0.4.0\" & :fail & :unknown & 40.305 & $\\dots$ \\\\\n",
       "\t4 & primary & GeneralizedSylvesterSolver & v\"0.1.2\" & :fail & :unknown & 48.291 & $\\dots$ \\\\\n",
       "\t5 & primary & StructTypes & v\"1.10.0\" & :fail & :abort & 23.59 & $\\dots$ \\\\\n",
       "\t6 & primary & DiscreteMarkovChains & v\"0.2.1\" & :fail & :test\\_failures & 142.094 & $\\dots$ \\\\\n",
       "\t7 & primary & SyncBarriers & v\"0.1.1\" & :fail & :unknown & 22.571 & $\\dots$ \\\\\n",
       "\t8 & primary & AeroMDAO & v\"0.3.10\" & :fail & :unknown & 48.501 & $\\dots$ \\\\\n",
       "\t9 & primary & GeoDataFrames & v\"0.3.0\" & :fail & :test\\_failures & 57.987 & $\\dots$ \\\\\n",
       "\t10 & primary & GraphMatFun & v\"0.3.1\" & :fail & :test\\_failures & 327.333 & $\\dots$ \\\\\n",
       "\t11 & primary & Mitosis & v\"0.2.1\" & :fail & :unknown & 215.317 & $\\dots$ \\\\\n",
       "\t12 & primary & PuiseuxPolynomials & v\"0.1.0\" & :fail & :test\\_failures & 74.963 & $\\dots$ \\\\\n",
       "\t13 & primary & Revise & v\"3.4.0\" & :fail & :test\\_failures & 326.574 & $\\dots$ \\\\\n",
       "\t14 & primary & SnoopCompile & v\"2.9.5\" & :fail & :test\\_failures & 233.354 & $\\dots$ \\\\\n",
       "\t15 & primary & AKNS & v\"0.1.0\" & :fail & :unknown & 133.378 & $\\dots$ \\\\\n",
       "\t16 & primary & RangeEnclosures & v\"0.1.2\" & :fail & :unknown & 60.741 & $\\dots$ \\\\\n",
       "\t17 & primary & ArrayInterfaceCore & v\"0.1.22\" & :fail & :test\\_failures & 44.462 & $\\dots$ \\\\\n",
       "\t18 & primary & MethodAnalysis & v\"0.4.11\" & :fail & :test\\_failures & 27.749 & $\\dots$ \\\\\n",
       "\t19 & primary & Photometry & v\"0.8.1\" & :fail & :test\\_failures & 116.423 & $\\dots$ \\\\\n",
       "\t20 & primary & PDELib & v\"0.2.1\" & :fail & :unknown & 143.504 & $\\dots$ \\\\\n",
       "\t21 & primary & PDSampler & v\"0.1.1\" & :fail & :unknown & 45.405 & $\\dots$ \\\\\n",
       "\t22 & primary & Glimmer & v\"0.2.2\" & :fail & :unknown & 41.417 & $\\dots$ \\\\\n",
       "\t23 & primary & MarkdownAST & v\"0.1.0\" & :fail & :abort & 25.287 & $\\dots$ \\\\\n",
       "\t24 & primary & GFlops & v\"0.1.6\" & :fail & :unknown & 27.386 & $\\dots$ \\\\\n",
       "\t25 & primary & PowerSpectra & v\"0.1.1\" & :fail & :unknown & 261.671 & $\\dots$ \\\\\n",
       "\t26 & primary & DiscreteChoiceModels & v\"0.0.1\" & :fail & :test\\_failures & 165.431 & $\\dots$ \\\\\n",
       "\t27 & primary & ExtremeLearning & v\"0.1.2\" & :fail & :test\\_failures & 26.545 & $\\dots$ \\\\\n",
       "\t28 & primary & PDMats & v\"0.11.16\" & :fail & :test\\_failures & 176.537 & $\\dots$ \\\\\n",
       "\t29 & primary & KnetLayers & v\"0.4.0\" & :fail & :unknown & 46.657 & $\\dots$ \\\\\n",
       "\t30 & primary & MadNLPPardiso & v\"0.3.0\" & :fail & :unknown & 42.572 & $\\dots$ \\\\\n",
       "\t$\\dots$ & $\\dots$ & $\\dots$ & $\\dots$ & $\\dots$ & $\\dots$ & $\\dots$ &  \\\\\n",
       "\\end{tabular}\n"
      ],
      "text/plain": [
       "\u001b[1m188×15 DataFrame\u001b[0m\n",
       "\u001b[1m Row \u001b[0m│\u001b[1m configuration \u001b[0m\u001b[1m package                    \u001b[0m\u001b[1m version   \u001b[0m\u001b[1m status \u001b[0m\u001b[1m reason   \u001b[0m ⋯\n",
       "\u001b[1m     \u001b[0m│\u001b[90m String        \u001b[0m\u001b[90m String                     \u001b[0m\u001b[90m String    \u001b[0m\u001b[90m String \u001b[0m\u001b[90m String   \u001b[0m ⋯\n",
       "─────┼──────────────────────────────────────────────────────────────────────────\n",
       "   1 │ primary        UsingMerge                  v\"0.0.5\"   :fail   :unknown  ⋯\n",
       "   2 │ primary        DocumentFunction            v\"1.1.0\"   :fail   :unknown\n",
       "   3 │ primary        PrettyPrinting              v\"0.4.0\"   :fail   :unknown\n",
       "   4 │ primary        GeneralizedSylvesterSolver  v\"0.1.2\"   :fail   :unknown\n",
       "   5 │ primary        StructTypes                 v\"1.10.0\"  :fail   :abort    ⋯\n",
       "   6 │ primary        DiscreteMarkovChains        v\"0.2.1\"   :fail   :test_fai\n",
       "   7 │ primary        SyncBarriers                v\"0.1.1\"   :fail   :unknown\n",
       "   8 │ primary        AeroMDAO                    v\"0.3.10\"  :fail   :unknown\n",
       "   9 │ primary        GeoDataFrames               v\"0.3.0\"   :fail   :test_fai ⋯\n",
       "  10 │ primary        GraphMatFun                 v\"0.3.1\"   :fail   :test_fai\n",
       "  11 │ primary        Mitosis                     v\"0.2.1\"   :fail   :unknown\n",
       "  ⋮  │       ⋮                    ⋮                   ⋮        ⋮           ⋮   ⋱\n",
       " 179 │ primary        Oceanostics                 v\"0.9.0\"   :fail   :unknown\n",
       " 180 │ primary        NNHelferlein                v\"1.1.2\"   :fail   :unknown  ⋯\n",
       " 181 │ primary        RoboDojo                    v\"0.1.6\"   :fail   :unknown\n",
       " 182 │ primary        LazyAlgebra                 v\"0.2.4\"   :fail   :test_fai\n",
       " 183 │ primary        NonlinearEigenproblems      v\"1.1.0\"   :fail   :test_fai\n",
       " 184 │ primary        NeuralArithmetic            v\"1.0.7\"   :fail   :unknown  ⋯\n",
       " 185 │ primary        Cassette                    v\"0.3.10\"  :fail   :unknown\n",
       " 186 │ primary        LazySets                    v\"2.3.0\"   :fail   :test_fai\n",
       " 187 │ primary        SingularIntegralEquations   v\"0.7.0\"   :fail   :test_fai\n",
       " 188 │ primary        ODINN                       v\"0.1.0\"   :fail   :unknown  ⋯\n",
       "\u001b[36m                                                 11 columns and 167 rows omitted\u001b[0m"
      ]
     },
     "execution_count": 70,
     "metadata": {},
     "output_type": "execute_result"
    }
   ],
   "source": [
    "# Unknown failures\n",
    "\n",
    "filter(x -> x.why == Unknown && \n",
    "       !(x.package in issues_opened) && \n",
    "       !(x.package in likely_tol) && \n",
    "       !(x.package in ignored_packages) && \n",
    "       !(x.package in fixed), \n",
    "    fails)"
   ]
  },
  {
   "cell_type": "code",
   "execution_count": 26,
   "metadata": {
    "scrolled": true
   },
   "outputs": [
    {
     "data": {
      "text/plain": [
       "12-element Vector{Any}:\n",
       " (215, Unknown)\n",
       " (48, PrintingChange)\n",
       " (10, AssertionObvious)\n",
       " (9, UnsatReq)\n",
       " (6, TimeLimit)\n",
       " (6, NewExceptionType)\n",
       " (5, ApproxError)\n",
       " (3, DocTest)\n",
       " (2, NewAmbiguity)\n",
       " (1, LogLimit)\n",
       " (1, MissingBinary)\n",
       " (1, Inactivity)"
      ]
     },
     "execution_count": 26,
     "metadata": {},
     "output_type": "execute_result"
    }
   ],
   "source": [
    "# Categorize\n",
    "\n",
    "z = []\n",
    "for i in instances(FailureType)\n",
    "    n = count(row -> row.why == i, eachrow(fails))\n",
    "    n > 0 && push!(z, (n, i))\n",
    "end\n",
    "sort!(z; rev=true)"
   ]
  },
  {
   "cell_type": "code",
   "execution_count": 29,
   "metadata": {},
   "outputs": [
    {
     "data": {
      "text/plain": [
       "1-element Vector{String}:\n",
       " \"ApproxFunFourier\""
      ]
     },
     "execution_count": 29,
     "metadata": {},
     "output_type": "execute_result"
    }
   ],
   "source": [
    "filter(x -> x.why == LogLimit,  fails).package"
   ]
  },
  {
   "cell_type": "code",
   "execution_count": null,
   "metadata": {},
   "outputs": [],
   "source": []
  },
  {
   "cell_type": "code",
   "execution_count": null,
   "metadata": {},
   "outputs": [],
   "source": []
  }
 ],
 "metadata": {
  "@webio": {
   "lastCommId": null,
   "lastKernelId": null
  },
  "kernelspec": {
   "display_name": "Julia 1.8.2",
   "language": "julia",
   "name": "julia-1.8"
  },
  "language_info": {
   "file_extension": ".jl",
   "mimetype": "application/julia",
   "name": "julia",
   "version": "1.8.2"
  }
 },
 "nbformat": 4,
 "nbformat_minor": 4
}
