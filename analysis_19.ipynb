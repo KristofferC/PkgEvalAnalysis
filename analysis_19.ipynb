{
 "cells": [
  {
   "cell_type": "markdown",
   "metadata": {},
   "source": [
    "# PkgEvalAnalysis\n",
    "\n",
    "Latest pkgeval: https://s3.amazonaws.com/julialang-reports/nanosoldier/pkgeval/by_hash/9a67956_vs_17cfb8e/report.html\n",
    "\n",
    "Looking at RangeHelpers."
   ]
  },
  {
   "cell_type": "code",
   "execution_count": 1,
   "metadata": {},
   "outputs": [],
   "source": [
    "using DataFrames, Feather\n",
    "using JuliaRegistryAnalysis\n",
    "using Graphs, MetaGraphs"
   ]
  },
  {
   "cell_type": "code",
   "execution_count": 3,
   "metadata": {},
   "outputs": [],
   "source": [
    "# Unpack the data unless it has already been unpacked\n",
    "\n",
    "data_dir = joinpath(\"data_9a67956_vs_17cfb8e/\")\n",
    "if !isfile(joinpath(data_dir, \"primary_log.feather\"))\n",
    "    include(\"add_back_logs.jl\")\n",
    "    add_back_logs(data_dir)\n",
    "end\n",
    "primary  = Feather.read(joinpath(@__DIR__, data_dir, \"primary_log.feather\"));\n",
    "against  = Feather.read(joinpath(@__DIR__, data_dir, \"against_log.feather\"));"
   ]
  },
  {
   "cell_type": "code",
   "execution_count": 4,
   "metadata": {},
   "outputs": [],
   "source": [
    "\n",
    "# Hint: Look at docstring for JuliaRegistryAnalysis.dependency_graph\n",
    "graph = JuliaRegistryAnalysis.dependency_graph(; include=(name, uuid) -> true)\n",
    "name_to_vertex = Dict{String, Int}(get_prop(graph, i, :label) => i for i in 1:nv(graph));"
   ]
  },
  {
   "cell_type": "code",
   "execution_count": 17,
   "metadata": {},
   "outputs": [
    {
     "name": "stderr",
     "output_type": "stream",
     "text": [
      "WARNING: redefinition of constant trans. This may fail, cause incorrect answers, or produce other errors.\n"
     ]
    },
    {
     "ename": "LoadError",
     "evalue": "invalid redefinition of constant sortby",
     "output_type": "error",
     "traceback": [
      "invalid redefinition of constant sortby",
      "",
      "Stacktrace:",
      " [1] top-level scope",
      "   @ In[17]:3"
     ]
    }
   ],
   "source": [
    "const trans = transitiveclosure(graph.graph)\n",
    "\n",
    "sortby = x -> begin\n",
    "    v = get(name_to_vertex, x, 0)\n",
    "    v == 0 && return 0\n",
    "    return Graphs.indegree(trans, v)\n",
    "end\n",
    "    \n",
    "primary = sort(primary, order(:package, by=sortby, rev=true))\n",
    "against = sort(against, order(:package, by=sortby, rev=true))\n",
    "nothing"
   ]
  },
  {
   "cell_type": "code",
   "execution_count": 18,
   "metadata": {},
   "outputs": [
    {
     "data": {
      "text/plain": [
       "7625-element Vector{String}:\n",
       " \"SHA\"\n",
       " \"Serialization\"\n",
       " \"Random\"\n",
       " \"Base64\"\n",
       " \"Unicode\"\n",
       " \"Markdown\"\n",
       " \"Printf\"\n",
       " \"Libdl\"\n",
       " \"Artifacts\"\n",
       " \"InteractiveUtils\"\n",
       " \"Dates\"\n",
       " \"Logging\"\n",
       " \"UUIDs\"\n",
       " ⋮\n",
       " \"NeuralNetDiffEq\"\n",
       " \"FEniCS\"\n",
       " \"BloqadeCUDA\"\n",
       " \"Elemental\"\n",
       " \"ConnectFourSolver\"\n",
       " \"julia\"\n",
       " \"ClimateMachine\"\n",
       " \"BugReporting\"\n",
       " \"ArrayInterfaceCUDA\"\n",
       " \"MATLABDiffEq\"\n",
       " \"ROCArrays\"\n",
       " \"DiffEqMonteCarlo\""
      ]
     },
     "execution_count": 18,
     "metadata": {},
     "output_type": "execute_result"
    }
   ],
   "source": [
    "primary.package"
   ]
  },
  {
   "cell_type": "code",
   "execution_count": 6,
   "metadata": {},
   "outputs": [],
   "source": [
    "@enum FailureType begin\n",
    "    # General ones\n",
    "    Unknown\n",
    "    InferredFailure\n",
    "    PrintingChange\n",
    "    TestAmbiguities\n",
    "    NewAmbiguity\n",
    "    ApproxError\n",
    "    DocTest\n",
    "    NewExceptionType\n",
    "    DownloadError\n",
    "    UnexpectedPass\n",
    "    BadBoy\n",
    "    SyntaxError\n",
    "    VisualRegression\n",
    "    MissingDep\n",
    "    BuildError\n",
    "    UnsatReq\n",
    "    BSONDataTypeField\n",
    "    Belapsed\n",
    "    StderrCheck\n",
    "    \n",
    "    # From PkgEval\n",
    "    MissingDependency\n",
    "    Inactivity\n",
    "    MissingBinary\n",
    "    Untestable\n",
    "    LogLimit\n",
    "    TimeLimit\n",
    "    Syntax\n",
    "    \n",
    "    # Special\n",
    "    AssertionObvious\n",
    "    StackExport\n",
    "    SlicesExport\n",
    "    BLASVectorLike\n",
    "    SortAmbig\n",
    "    Uncolon\n",
    "    JlTypeInf\n",
    "    QuickSortAlg\n",
    "    IsFinite\n",
    "    CassetteLineInfo\n",
    "    LibBLASNotDefined\n",
    "    LoadChange\n",
    "    NormalizeAmbig\n",
    "    CxxWrap\n",
    "    STDLIB_BS\n",
    "    NoMethodAxpy\n",
    "    UMF_Symbol\n",
    "    BaseJoin\n",
    "    SizeDataType\n",
    "    StatefulTaken\n",
    "    DocumentFunction\n",
    "    MaybeTail\n",
    "    LdivAmbig\n",
    "end\n"
   ]
  },
  {
   "cell_type": "code",
   "execution_count": 7,
   "metadata": {},
   "outputs": [],
   "source": [
    "# Join the primary and against data\n",
    "\n",
    "package_results = leftjoin(primary, against,\n",
    "     on=:package, makeunique=true, indicator=:source);"
   ]
  },
  {
   "cell_type": "code",
   "execution_count": 8,
   "metadata": {},
   "outputs": [],
   "source": [
    "# Filter out packages that started failing but didn't start failing when the RNG stream changed\n",
    "\n",
    "fails = filter(test->test.source == \"both\" &&\n",
    "                 test.status != test.status_1 &&\n",
    "                 test.status in (\":fail\", \":kill\"), package_results)\n",
    "\n",
    "# Initially we do not know why a package failed\n",
    "fails.why = fill(Unknown, size(fails, 1));\n",
    "\n",
    "missing_binary_idx     = fails.reason .== \":binary_dependency\"\n",
    "inactivity_idx         = fails.reason .== \":inactivity\"\n",
    "missing_dependency_idx = fails.reason .== \":missing_dependency\"\n",
    "untestable_idx         = fails.reason .== \":untestable\"\n",
    "log_limit_idx          = fails.reason .== \":log_limit\"\n",
    "time_limit_idx         = fails.reason .== \":time_limit\"\n",
    "\n",
    "# Initially we do not know why a package failed\n",
    "fails.why = fill(Unknown, size(fails, 1));\n",
    "\n",
    "fails.why[missing_binary_idx]     .= MissingBinary\n",
    "fails.why[inactivity_idx]         .= Inactivity\n",
    "fails.why[missing_dependency_idx] .= MissingDependency\n",
    "fails.why[untestable_idx]         .= Untestable\n",
    "fails.why[log_limit_idx]          .= LogLimit\n",
    "fails.why[time_limit_idx]         .= TimeLimit\n",
    "\n",
    "nothing"
   ]
  },
  {
   "cell_type": "code",
   "execution_count": 9,
   "metadata": {},
   "outputs": [
    {
     "data": {
      "text/plain": [
       "total_unknown (generic function with 1 method)"
      ]
     },
     "execution_count": 9,
     "metadata": {},
     "output_type": "execute_result"
    }
   ],
   "source": [
    "# Some utility functions\n",
    "\n",
    "query(fails, s) = filter(row -> occursin(s, row[:log]), fails)    \n",
    "\n",
    "function update_reason!(fails, needle, why)\n",
    "    idxs = findall(row -> occursin(needle, row), fails.log)\n",
    "    fails.why[idxs] .= why\n",
    "    return fails\n",
    "end\n",
    "\n",
    "total_unknown(fails) = count(x -> x.why == Unknown, eachrow(fails))"
   ]
  },
  {
   "cell_type": "code",
   "execution_count": 10,
   "metadata": {},
   "outputs": [
    {
     "data": {
      "text/plain": [
       "19-element Vector{String}:\n",
       " \"QuasiArrays\"\n",
       " \"ContinuumArrays\"\n",
       " \"ClassicalOrthogonalPolynomials\"\n",
       " \"QuantumStateBase\"\n",
       " \"GridapDistributed\"\n",
       " \"CompactBases\"\n",
       " \"CoulombIntegrals\"\n",
       " \"HarmonicOrthogonalPolynomials\"\n",
       " \"AKNS\"\n",
       " \"EquilibriumMeasures\"\n",
       " \"OscillatoryIntegrals\"\n",
       " \"GridapPETSc\"\n",
       " \"NPCFs\"\n",
       " \"QuantumStateDistributions\"\n",
       " \"MultivariateOrthogonalPolynomials\"\n",
       " \"WaspNet\"\n",
       " \"AtomicStructure\"\n",
       " \"PDSampler\"\n",
       " \"SemiclassicalOrthogonalPolynomials\""
      ]
     },
     "execution_count": 10,
     "metadata": {},
     "output_type": "execute_result"
    }
   ],
   "source": [
    "query(fails, \"_maybetail\").package"
   ]
  },
  {
   "cell_type": "code",
   "execution_count": 11,
   "metadata": {},
   "outputs": [],
   "source": [
    "# Here we pattern match certain test errors and categorize them based on that.\n",
    "\n",
    "# Generic ones\n",
    "update_reason!(fails, \"Test.detect_ambiguities\", TestAmbiguities)\n",
    "update_reason!(fails, \"detect_ambiguities(\", TestAmbiguities)\n",
    "\n",
    "update_reason!(fails, \"Expression: all_doctests()\", DocTest)\n",
    "update_reason!(fails, \"Error: doctest failure in \", DocTest)\n",
    "\n",
    "update_reason!(fails, \"does not match inferred return type\", InferredFailure);\n",
    "update_reason!(fails, \"Expression: isapprox\", ApproxError)\n",
    "update_reason!(fails, r\"Expression: (\\S*) ≈ (\\S*)\", ApproxError) \n",
    "update_reason!(fails, \"Expression: ≈(\", ApproxError)\n",
    "    \n",
    "update_reason!(fails, \"is ambiguous. Candidates:\", NewAmbiguity)\n",
    "update_reason!(fails, \" ambiguities found\", NewAmbiguity)\n",
    "\n",
    "update_reason!(fails, \"Unsatisfiable requirements detected for package\", UnsatReq)\n",
    "\n",
    "\n",
    "\n",
    "update_reason!(fails, \"Log Test Failed at\", PrintingChange)\n",
    "update_reason!(fails, \"Expression: occursin(r\\\"\", PrintingChange)\n",
    "update_reason!(fails, \"Expression: startswith(\", PrintingChange)\n",
    "# update_reason!(fails, r\"Expression: (\\N.*?) == \", PrintingChange)\n",
    "update_reason!(fails, \"Evaluated: occursin(\", PrintingChange)\n",
    "update_reason!(fails, \"Evaluated: endswith(\", PrintingChange)\n",
    "update_reason!(fails, \"- DIFF ------------------------\", PrintingChange)\n",
    "update_reason!(fails, \"LoadError: syntax\", SyntaxError)\n",
    "\n",
    "update_reason!(fails, \"Image did not match reference image\", VisualRegression)\n",
    "\n",
    "update_reason!(fails, \"      Thrown: \", NewExceptionType)\n",
    "update_reason!(fails, \"The requested URL returned error\", DownloadError)\n",
    "update_reason!(fails, \"gzip: stdin: not in gzip format\", DownloadError)\n",
    "update_reason!(fails, \"Unexpected Pass\", UnexpectedPass)\n",
    "\n",
    "update_reason!(fails, \"Error building \", BuildError)\n",
    "update_reason!(fails, \"isempty(stderr_content)\", StderrCheck)\n",
    "\n",
    "\n",
    "# Specific ones for this release\n",
    "update_reason!(fails, \"Assertion `obvious_subtype == 3\", AssertionObvious)\n",
    "update_reason!(fails, \"Base export \\\"stack\\\"; uses of it in module\", StackExport)\n",
    "update_reason!(fails, \"ArgumentError: only support vector like inputs\", BLASVectorLike)\n",
    "update_reason!(fails, \"MethodError: sort!(::\", SortAmbig)\n",
    "update_reason!(fails, \"no method matching uncolon\", Uncolon)\n",
    "update_reason!(fails, \"undefined symbol: jl_typeinf_begin\", JlTypeInf)\n",
    "update_reason!(fails, \"`QuickSortAlg` not defined\", QuickSortAlg)\n",
    "update_reason!(fails, \"no method matching isfinite\", IsFinite)\n",
    "update_reason!(fails, \"MethodError: no method matching Core.LineInfoNode\", CassetteLineInfo)\n",
    "update_reason!(fails, \"`libblas` not defined\", LibBLASNotDefined)\n",
    "update_reason!(fails, \"`liblapack` not defined\", LibBLASNotDefined)\n",
    "\n",
    "\n",
    "  \n",
    "\n",
    "update_reason!(fails, \"ERROR: LoadError: ArgumentError: Package \", LoadChange)\n",
    "update_reason!(fails, \"MethodError: normalize(\", NormalizeAmbig)\n",
    "update_reason!(fails, \"Failed to precompile CxxWrap\", CxxWrap)\n",
    "\n",
    "update_reason!(fails, \"If you want to set `julia_version`\", STDLIB_BS)\n",
    "update_reason!(fails, \"no method matching axpby\", NoMethodAxpy)\n",
    "\n",
    "update_reason!(fails, \"UndefVarError: `umf\", UMF_Symbol)\n",
    "update_reason!(fails, \"function Base.join must be \", BaseJoin)\n",
    "\n",
    "\n",
    "\n",
    "update_reason!(fails, \"Base export \\\"Slices\\\"; uses of\", SlicesExport)\n",
    "\n",
    "\n",
    "update_reason!(fails, \"type DataType has no field size\", SizeDataType)\n",
    "update_reason!(fails, \"type Stateful has no field taken\", StatefulTaken)\n",
    "\n",
    "update_reason!(fails, \"DocumentFunction ~/.julia/packages/DocumentFunction\", DocumentFunction)\n",
    "\n",
    "\n",
    "  \n",
    "update_reason!(fails, \"_maybetail\", MaybeTail)\n",
    "update_reason!(fails, \"MethodError: ldiv!\", LdivAmbig)\n",
    "\n",
    "\n",
    "\n",
    "\n",
    "nothing"
   ]
  },
  {
   "cell_type": "code",
   "execution_count": 28,
   "metadata": {},
   "outputs": [
    {
     "data": {
      "text/plain": [
       "Any[]"
      ]
     },
     "execution_count": 28,
     "metadata": {},
     "output_type": "execute_result"
    }
   ],
   "source": [
    "# Packages that have gotten  \n",
    "\n",
    "issues_opened = [\n",
    "    \"Checkpointing\" # https://github.com/JuliaGPU/GPUCompiler.jl/issues/361\n",
    "    \"CodeInfoTools.jl\" # https://github.com/JuliaCompilerPlugins/CodeInfoTools.jl\n",
    "    \"CompatHelperLocal\" # https://gitlab.com/aplavin/compathelperlocal.jl/-/issues/1\n",
    "    \"DocumentFunction\" # https://github.com/madsjulia/DocumentFunction.jl/issues/6\n",
    "    \"DataStructures \"# https://github.com/JuliaCollections/DataStructures.jl/pull/832\n",
    "    \"TightBindingApproximation\" # https://github.com/JuliaLang/julia/issues/47476\n",
    "    \"CameraModels\" # https://github.com/JuliaLang/julia/issues/48076\n",
    "    \"NewsLookout\" # nonsense\n",
    "    \"Libtask\" # internals\n",
    "    \"MaxwellSALT\" # old version <zzz\n",
    "    \"Agents\" # https://github.com/JuliaDynamics/Agents.jl/issues/733\n",
    "    \"GFlops\" # https://github.com/triscale-innov/GFlops.jl/issues/42\n",
    "    \"Symbolics\" # https://github.com/JuliaSymbolics/Symbolics.jl/issues/827\n",
    "    \"CrystalNets\" # \n",
    "    \"PDMats\" # https://github.com/JuliaStats/PDMats.jl/pull/153/files#r1090770057\n",
    "    \"MethodAnalysis\" # https://github.com/timholy/MethodAnalysis.jl/issues/36\n",
    "]\n",
    "\n",
    "likely_tol = [\n",
    "];\n",
    "\n",
    "fixed = [\n",
    "    \"DocStringExtensions\" # https://github.com/JuliaDocs/DocStringExtensions.jl/pull/137\n",
    "    \"EndpointRanges\" # \n",
    "    \"AstroImages\" # https://github.com/JuliaAstro/AstroImages.jl/pull/35\n",
    "    \"Deductive\" # https://github.com/ctrekker/Deductive.jl/pull/28\n",
    "    \"UsingMerge\" # master\n",
    "    \"JWAS\" # https://github.com/reworkhow/JWAS.jl/pull/133\n",
    "    \"InMemoryDatasets\" # https://github.com/sl-solution/InMemoryDatasets.jl/commit/528be734543a87786c53bba7c7dffd287e7b8f74\n",
    "    \"GenericArpack\" # https://github.com/dgleich/GenericArpack.jl/pull/4\n",
    "    \"DataStructures\" # https://github.com/JuliaCollections/DataStructures.jl/pull/832\n",
    "    \"Compat\" # https://github.com/JuliaLang/Compat.jl/pull/786\n",
    "    \"Profile\" # https://github.com/JuliaLang/julia/pull/48458\n",
    "    \"ExprTools\" # https://github.com/invenia/ExprTools.jl/pull/36\n",
    "    \"NamedDims\" # https://github.com/invenia/NamedDims.jl/pull/214\n",
    "    \"Distributions\" # https://github.com/JuliaStats/Distributions.jl/pull/1671\n",
    "]\n",
    "\n",
    "\n",
    "ignored_packages = [\n",
    "]"
   ]
  },
  {
   "cell_type": "code",
   "execution_count": 29,
   "metadata": {},
   "outputs": [
    {
     "data": {
      "text/plain": [
       "130"
      ]
     },
     "execution_count": 29,
     "metadata": {},
     "output_type": "execute_result"
    }
   ],
   "source": [
    "# Total package failures that we haven't categorized\n",
    "\n",
    "total_unknown(fails)"
   ]
  },
  {
   "cell_type": "markdown",
   "metadata": {},
   "source": [
    "# Examples\n",
    "\n",
    "Here are some examples of how one might do queries and categorize errors"
   ]
  },
  {
   "cell_type": "code",
   "execution_count": null,
   "metadata": {},
   "outputs": [],
   "source": []
  },
  {
   "cell_type": "code",
   "execution_count": 30,
   "metadata": {
    "scrolled": true
   },
   "outputs": [
    {
     "data": {
      "text/plain": [
       "109-element Vector{String}:\n",
       " \"SortingAlgorithms\"\n",
       " \"SLEEFPirates\"\n",
       " \"FastBroadcast\"\n",
       " \"JuliaVariables\"\n",
       " \"LazyArrays\"\n",
       " \"LoweredCodeUtils\"\n",
       " \"Tracker\"\n",
       " \"OnlineStatsBase\"\n",
       " \"ComponentArrays\"\n",
       " \"PrettyPrinting\"\n",
       " \"GLMakie\"\n",
       " \"MeasureBase\"\n",
       " \"Gridap\"\n",
       " ⋮\n",
       " \"ContinuousTimePolicyGradients\"\n",
       " \"Bennu\"\n",
       " \"MixedAnova\"\n",
       " \"LogicToolkit\"\n",
       " \"FilesystemDatastructures\"\n",
       " \"PkgCacheInspector\"\n",
       " \"TraceEstimators\"\n",
       " \"QuranTree\"\n",
       " \"BioMakie\"\n",
       " \"MatrixPolynomials\"\n",
       " \"MakieTeX\"\n",
       " \"SignalTablesInterface_GLMakie\""
      ]
     },
     "execution_count": 30,
     "metadata": {},
     "output_type": "execute_result"
    }
   ],
   "source": [
    "# Unknown failures\n",
    "\n",
    "filter(x -> x.why == Unknown && \n",
    "       !(x.package in issues_opened) && \n",
    "       !(x.package in likely_tol) && \n",
    "       !(x.package in ignored_packages) && \n",
    "       !(x.package in fixed) &&\n",
    "       !(x.reason == \":abort\"), \n",
    "    fails).package"
   ]
  },
  {
   "cell_type": "code",
   "execution_count": 15,
   "metadata": {
    "scrolled": true
   },
   "outputs": [
    {
     "data": {
      "text/plain": [
       "30-element Vector{Any}:\n",
       " (130, Unknown)\n",
       " (19, MaybeTail)\n",
       " (16, LoadChange)\n",
       " (15, TimeLimit)\n",
       " (12, SizeDataType)\n",
       " (9, StackExport)\n",
       " (9, ApproxError)\n",
       " (8, Inactivity)\n",
       " (6, UMF_Symbol)\n",
       " (6, Uncolon)\n",
       " (4, LdivAmbig)\n",
       " (4, DocumentFunction)\n",
       " (4, CxxWrap)\n",
       " ⋮\n",
       " (3, SlicesExport)\n",
       " (2, MissingBinary)\n",
       " (2, NewExceptionType)\n",
       " (2, InferredFailure)\n",
       " (1, StatefulTaken)\n",
       " (1, NoMethodAxpy)\n",
       " (1, STDLIB_BS)\n",
       " (1, LogLimit)\n",
       " (1, MissingDependency)\n",
       " (1, UnsatReq)\n",
       " (1, UnexpectedPass)\n",
       " (1, DocTest)"
      ]
     },
     "execution_count": 15,
     "metadata": {},
     "output_type": "execute_result"
    }
   ],
   "source": [
    "# Categorize\n",
    "\n",
    "z = []\n",
    "for i in instances(FailureType)\n",
    "    n = count(row -> row.why == i, eachrow(fails))\n",
    "    n > 0 && push!(z, (n, i))\n",
    "end\n",
    "sort!(z; rev=true)"
   ]
  },
  {
   "cell_type": "code",
   "execution_count": 16,
   "metadata": {},
   "outputs": [
    {
     "data": {
      "text/plain": [
       "16-element Vector{String}:\n",
       " \"Dagger\"\n",
       " \"QuantEcon\"\n",
       " \"Try\"\n",
       " \"ParallelStencil\"\n",
       " \"AutomationLabsModelPredictiveControl\"\n",
       " \"ConcurrentUtils\"\n",
       " \"HarmonicBalance\"\n",
       " \"SyncBarriers\"\n",
       " \"LessUnitful\"\n",
       " \"ReportMetrics\"\n",
       " \"EQDSKReader\"\n",
       " \"Pigeons\"\n",
       " \"PreludeDicts\"\n",
       " \"TestFunctionRunner\"\n",
       " \"MPIMapReduce\"\n",
       " \"ConcurrentCollections\""
      ]
     },
     "execution_count": 16,
     "metadata": {},
     "output_type": "execute_result"
    }
   ],
   "source": [
    "filter(x -> x.why == LoadChange,  fails).package"
   ]
  },
  {
   "cell_type": "code",
   "execution_count": null,
   "metadata": {},
   "outputs": [],
   "source": []
  },
  {
   "cell_type": "code",
   "execution_count": null,
   "metadata": {},
   "outputs": [],
   "source": []
  }
 ],
 "metadata": {
  "@webio": {
   "lastCommId": null,
   "lastKernelId": null
  },
  "kernelspec": {
   "display_name": "Julia 1.9.0-beta3",
   "language": "julia",
   "name": "julia-1.9"
  },
  "language_info": {
   "file_extension": ".jl",
   "mimetype": "application/julia",
   "name": "julia",
   "version": "1.9.0"
  }
 },
 "nbformat": 4,
 "nbformat_minor": 4
}
