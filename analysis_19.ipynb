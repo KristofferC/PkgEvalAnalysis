{
 "cells": [
  {
   "cell_type": "markdown",
   "metadata": {},
   "source": [
    "# PkgEvalAnalysis\n",
    "\n",
    "Latest pkgeval: https://s3.amazonaws.com/julialang-reports/nanosoldier/pkgeval/by_hash/fb69baf_vs_40279f9/report.html\n",
    "\n",
    "Looking at RangeHelpers."
   ]
  },
  {
   "cell_type": "code",
   "execution_count": 7,
   "metadata": {},
   "outputs": [],
   "source": [
    "using DataFrames, Feather"
   ]
  },
  {
   "cell_type": "code",
   "execution_count": 27,
   "metadata": {},
   "outputs": [],
   "source": [
    "@enum FailureType begin\n",
    "    # General ones\n",
    "    Unknown\n",
    "    InferredFailure\n",
    "    PrintingChange\n",
    "    TestAmbiguities\n",
    "    NewAmbiguity\n",
    "    ApproxError\n",
    "    DocTest\n",
    "    NewExceptionType\n",
    "    DownloadError\n",
    "    UnexpectedPass\n",
    "    BadBoy\n",
    "    SyntaxError\n",
    "    VisualRegression\n",
    "    MissingDep\n",
    "    BuildError\n",
    "    UnsatReq\n",
    "    BSONDataTypeField\n",
    "    Belapsed\n",
    "    StderrCheck\n",
    "    \n",
    "    # From PkgEval\n",
    "    MissingDependency\n",
    "    Inactivity\n",
    "    MissingBinary\n",
    "    Untestable\n",
    "    LogLimit\n",
    "    TimeLimit\n",
    "    Syntax\n",
    "    \n",
    "    # Special\n",
    "    AssertionObvious\n",
    "    StackExport\n",
    "    SlicesExport\n",
    "    BLASVectorLike\n",
    "    SortAmbig\n",
    "    Uncolon\n",
    "    JlTypeInf\n",
    "    QuickSortAlg\n",
    "    IsFinite\n",
    "    CassetteLineInfo\n",
    "    LibBLASNotDefined\n",
    "    LoadChange\n",
    "    NormalizeAmbig\n",
    "    CxxWrap\n",
    "    STDLIB_BS\n",
    "    NoMethodAxpy\n",
    "    UMF_Symbol\n",
    "    BaseJoin\n",
    "    SizeDataType\n",
    "    StatefulTaken\n",
    "end\n"
   ]
  },
  {
   "cell_type": "code",
   "execution_count": 12,
   "metadata": {
    "scrolled": true
   },
   "outputs": [],
   "source": [
    "# Unpack the data unless it has already been unpacked\n",
    "\n",
    "#if !isdir(\"data\")\n",
    "#    run(`tar -xvf data.tar.xz`)\n",
    "#end\n",
    "primary  = Feather.read(\"data/primary_log.feather\");\n",
    "against = Feather.read(\"data/against_log.feather\");"
   ]
  },
  {
   "cell_type": "code",
   "execution_count": 39,
   "metadata": {},
   "outputs": [],
   "source": [
    "# Join the primary and against data\n",
    "\n",
    "package_results = leftjoin(primary, against,\n",
    "     on=:package, makeunique=true, indicator=:source);"
   ]
  },
  {
   "cell_type": "code",
   "execution_count": 40,
   "metadata": {},
   "outputs": [],
   "source": [
    "# Filter out packages that started failing but didn't start failing when the RNG stream changed\n",
    "\n",
    "fails = filter(test->test.source == \"both\" &&\n",
    "                 test.status != test.status_1 &&\n",
    "                 test.status in (\":fail\", \":kill\"), package_results)\n",
    "\n",
    "# Initially we do not know why a package failed\n",
    "fails.why = fill(Unknown, size(fails, 1));\n",
    "\n",
    "missing_binary_idx     = fails.reason .== \":binary_dependency\"\n",
    "inactivity_idx         = fails.reason .== \":inactivity\"\n",
    "missing_dependency_idx = fails.reason .== \":missing_dependency\"\n",
    "untestable_idx         = fails.reason .== \":untestable\"\n",
    "log_limit_idx          = fails.reason .== \":log_limit\"\n",
    "time_limit_idx         = fails.reason .== \":time_limit\"\n",
    "\n",
    "# Initially we do not know why a package failed\n",
    "fails.why = fill(Unknown, size(fails, 1));\n",
    "\n",
    "fails.why[missing_binary_idx]     .= MissingBinary\n",
    "fails.why[inactivity_idx]         .= Inactivity\n",
    "fails.why[missing_dependency_idx] .= MissingDependency\n",
    "fails.why[untestable_idx]         .= Untestable\n",
    "fails.why[log_limit_idx]          .= LogLimit\n",
    "fails.why[time_limit_idx]         .= TimeLimit\n",
    "\n",
    "nothing"
   ]
  },
  {
   "cell_type": "code",
   "execution_count": 41,
   "metadata": {},
   "outputs": [
    {
     "data": {
      "text/plain": [
       "total_unknown (generic function with 1 method)"
      ]
     },
     "execution_count": 41,
     "metadata": {},
     "output_type": "execute_result"
    }
   ],
   "source": [
    "# Some utility functions\n",
    "\n",
    "query(fails, s) = filter(row -> occursin(s, row[:log]), fails)    \n",
    "\n",
    "function update_reason!(fails, needle, why)\n",
    "    idxs = findall(row -> occursin(needle, row), fails.log)\n",
    "    fails.why[idxs] .= why\n",
    "    return fails\n",
    "end\n",
    "\n",
    "total_unknown(fails) = count(x -> x.why == Unknown, eachrow(fails))"
   ]
  },
  {
   "cell_type": "code",
   "execution_count": 42,
   "metadata": {},
   "outputs": [
    {
     "data": {
      "text/plain": [
       "35-element Vector{String}:\n",
       " \"LatinHypercubeSampling\"\n",
       " \"DiskArrayTools\"\n",
       " \"JuliennedArrays\"\n",
       " \"PatternFolds\"\n",
       " \"SphericalHarmonicArrays\"\n",
       " \"PlasmaEquilibriumToolkit\"\n",
       " \"Quantikz\"\n",
       " \"LessUnitful\"\n",
       " \"DataStructures\"\n",
       " \"DiskArrays\"\n",
       " \"Wasmtime\"\n",
       " \"ForneyLab\"\n",
       " \"QuasiArrays\"\n",
       " ⋮\n",
       " \"PlutoHooks\"\n",
       " \"OceanGrids\"\n",
       " \"DisjointCliqueCover\"\n",
       " \"ExprTools\"\n",
       " \"ChainedFixes\"\n",
       " \"FluxArchitectures\"\n",
       " \"YAXArrays\"\n",
       " \"NamedDims\"\n",
       " \"MultivariateOrthogonalPolynomials\"\n",
       " \"ClassicalOrthogonalPolynomials\"\n",
       " \"Cassette\"\n",
       " \"NaiveGAflux\""
      ]
     },
     "execution_count": 42,
     "metadata": {},
     "output_type": "execute_result"
    }
   ],
   "source": [
    "query(fails, r\"Expression: (\\N.*?) == \").package"
   ]
  },
  {
   "cell_type": "code",
   "execution_count": 43,
   "metadata": {},
   "outputs": [],
   "source": [
    "# Here we pattern match certain test errors and categorize them based on that.\n",
    "\n",
    "# Generic ones\n",
    "update_reason!(fails, \"Test.detect_ambiguities\", TestAmbiguities)\n",
    "update_reason!(fails, \"detect_ambiguities(\", TestAmbiguities)\n",
    "\n",
    "update_reason!(fails, \"Expression: all_doctests()\", DocTest)\n",
    "update_reason!(fails, \"Error: doctest failure in \", DocTest)\n",
    "\n",
    "update_reason!(fails, \"does not match inferred return type\", InferredFailure);\n",
    "update_reason!(fails, \"Expression: isapprox\", ApproxError)\n",
    "update_reason!(fails, r\"Expression: (\\S*) ≈ (\\S*)\", ApproxError) \n",
    "update_reason!(fails, \"Expression: ≈(\", ApproxError)\n",
    "    \n",
    "update_reason!(fails, \"is ambiguous. Candidates:\", NewAmbiguity)\n",
    "update_reason!(fails, \" ambiguities found\", NewAmbiguity)\n",
    "\n",
    "update_reason!(fails, \"Unsatisfiable requirements detected for package\", UnsatReq)\n",
    "\n",
    "\n",
    "\n",
    "update_reason!(fails, \"Log Test Failed at\", PrintingChange)\n",
    "update_reason!(fails, \"Expression: occursin(r\\\"\", PrintingChange)\n",
    "update_reason!(fails, \"Expression: startswith(\", PrintingChange)\n",
    "# update_reason!(fails, r\"Expression: (\\N.*?) == \", PrintingChange)\n",
    "update_reason!(fails, \"Evaluated: occursin(\", PrintingChange)\n",
    "update_reason!(fails, \"Evaluated: endswith(\", PrintingChange)\n",
    "update_reason!(fails, \"- DIFF ------------------------\", PrintingChange)\n",
    "update_reason!(fails, \"LoadError: syntax\", SyntaxError)\n",
    "\n",
    "update_reason!(fails, \"Image did not match reference image\", VisualRegression)\n",
    "\n",
    "update_reason!(fails, \"      Thrown: \", NewExceptionType)\n",
    "update_reason!(fails, \"The requested URL returned error\", DownloadError)\n",
    "update_reason!(fails, \"gzip: stdin: not in gzip format\", DownloadError)\n",
    "update_reason!(fails, \"Unexpected Pass\", UnexpectedPass)\n",
    "\n",
    "update_reason!(fails, \"Error building \", BuildError)\n",
    "update_reason!(fails, \"isempty(stderr_content)\", StderrCheck)\n",
    "\n",
    "\n",
    "# Specific ones for this release\n",
    "update_reason!(fails, \"Assertion `obvious_subtype == 3\", AssertionObvious)\n",
    "update_reason!(fails, \"Base export \\\"stack\\\"; uses of it in module\", StackExport)\n",
    "update_reason!(fails, \"ArgumentError: only support vector like inputs\", BLASVectorLike)\n",
    "update_reason!(fails, \"MethodError: sort!(::\", SortAmbig)\n",
    "update_reason!(fails, \"no method matching uncolon\", Uncolon)\n",
    "update_reason!(fails, \"undefined symbol: jl_typeinf_begin\", JlTypeInf)\n",
    "update_reason!(fails, \"`QuickSortAlg` not defined\", QuickSortAlg)\n",
    "update_reason!(fails, \"no method matching isfinite\", IsFinite)\n",
    "update_reason!(fails, \"MethodError: no method matching Core.LineInfoNode\", CassetteLineInfo)\n",
    "update_reason!(fails, \"`libblas` not defined\", LibBLASNotDefined)\n",
    "update_reason!(fails, \"`liblapack` not defined\", LibBLASNotDefined)\n",
    "\n",
    "\n",
    "  \n",
    "\n",
    "update_reason!(fails, \"ERROR: LoadError: ArgumentError: Package \", LoadChange)\n",
    "update_reason!(fails, \"MethodError: normalize(\", NormalizeAmbig)\n",
    "update_reason!(fails, \"Failed to precompile CxxWrap\", CxxWrap)\n",
    "\n",
    "update_reason!(fails, \"If you want to set `julia_version`\", STDLIB_BS)\n",
    "update_reason!(fails, \"no method matching axpby\", NoMethodAxpy)\n",
    "\n",
    "update_reason!(fails, \"UndefVarError: `umf\", UMF_Symbol)\n",
    "update_reason!(fails, \"function Base.join must be \", BaseJoin)\n",
    "\n",
    "\n",
    "\n",
    "update_reason!(fails, \"Base export \\\"Slices\\\"; uses of\", SlicesExport)\n",
    "\n",
    "\n",
    "update_reason!(fails, \"type DataType has no field size\", SizeDataType)\n",
    "update_reason!(fails, \"type Stateful has no field taken\", StatefulTaken)\n",
    "\n",
    "\n",
    "  \n",
    "\n",
    "\n",
    "\n",
    "\n",
    "nothing"
   ]
  },
  {
   "cell_type": "code",
   "execution_count": 44,
   "metadata": {},
   "outputs": [
    {
     "data": {
      "text/plain": [
       "Any[]"
      ]
     },
     "execution_count": 44,
     "metadata": {},
     "output_type": "execute_result"
    }
   ],
   "source": [
    "# Packages that have gotten  \n",
    "\n",
    "issues_opened = [\n",
    "    \"Checkpointing\" # https://github.com/JuliaGPU/GPUCompiler.jl/issues/361\n",
    "    \"CodeInfoTools.jl\" # https://github.com/JuliaCompilerPlugins/CodeInfoTools.jl\n",
    "    \"CompatHelperLocal\" # https://gitlab.com/aplavin/compathelperlocal.jl/-/issues/1\n",
    "    \"DocumentFunction\" # https://github.com/madsjulia/DocumentFunction.jl/issues/6\n",
    "    \"DataStructures \"# https://github.com/JuliaCollections/DataStructures.jl/pull/832\n",
    "    \"TightBindingApproximation\" # https://github.com/JuliaLang/julia/issues/47476\n",
    "]\n",
    "\n",
    "likely_tol = [\n",
    "];\n",
    "\n",
    "fixed = [\n",
    "    \"DocStringExtensions\" # https://github.com/JuliaDocs/DocStringExtensions.jl/pull/137\n",
    "    \"EndpointRanges\" # \n",
    "    \"AstroImages\" # https://github.com/JuliaAstro/AstroImages.jl/pull/35\n",
    "    \"Deductive\" # https://github.com/ctrekker/Deductive.jl/pull/28\n",
    "]\n",
    "\n",
    "\n",
    "ignored_packages = [\n",
    "]"
   ]
  },
  {
   "cell_type": "code",
   "execution_count": 45,
   "metadata": {},
   "outputs": [
    {
     "data": {
      "text/plain": [
       "92"
      ]
     },
     "execution_count": 45,
     "metadata": {},
     "output_type": "execute_result"
    }
   ],
   "source": [
    "# Total package failures that we haven't categorized\n",
    "\n",
    "total_unknown(fails)"
   ]
  },
  {
   "cell_type": "markdown",
   "metadata": {},
   "source": [
    "# Examples\n",
    "\n",
    "Here are some examples of how one might do queries and categorize errors"
   ]
  },
  {
   "cell_type": "code",
   "execution_count": null,
   "metadata": {},
   "outputs": [],
   "source": []
  },
  {
   "cell_type": "code",
   "execution_count": 46,
   "metadata": {
    "scrolled": true
   },
   "outputs": [
    {
     "data": {
      "text/html": [
       "<div class=\"data-frame\"><p>89 rows × 15 columns (omitted printing of 9 columns)</p><table class=\"data-frame\"><thead><tr><th></th><th>configuration</th><th>package</th><th>version</th><th>status</th><th>reason</th><th>duration</th></tr><tr><th></th><th title=\"String\">String</th><th title=\"String\">String</th><th title=\"String\">String</th><th title=\"String\">String</th><th title=\"String\">String</th><th title=\"Float64\">Float64</th></tr></thead><tbody><tr><th>1</th><td>primary</td><td>UsingMerge</td><td>v&quot;0.0.5&quot;</td><td>:fail</td><td>:unknown</td><td>11.58</td></tr><tr><th>2</th><td>primary</td><td>Terminators</td><td>v&quot;0.1.1&quot;</td><td>:fail</td><td>:test_failures</td><td>19.5</td></tr><tr><th>3</th><td>primary</td><td>PrettyPrinting</td><td>v&quot;0.4.0&quot;</td><td>:fail</td><td>:unknown</td><td>27.05</td></tr><tr><th>4</th><td>primary</td><td>LatinHypercubeSampling</td><td>v&quot;1.8.0&quot;</td><td>:fail</td><td>:test_failures</td><td>32.44</td></tr><tr><th>5</th><td>primary</td><td>Malt</td><td>v&quot;0.7.0&quot;</td><td>:fail</td><td>:test_failures</td><td>15.06</td></tr><tr><th>6</th><td>primary</td><td>PatternFolds</td><td>v&quot;0.2.2&quot;</td><td>:fail</td><td>:test_failures</td><td>41.44</td></tr><tr><th>7</th><td>primary</td><td>RectiGrids</td><td>missing</td><td>:fail</td><td>:unknown</td><td>0.0</td></tr><tr><th>8</th><td>primary</td><td>Anasol</td><td>v&quot;1.0.1&quot;</td><td>:fail</td><td>:unknown</td><td>44.75</td></tr><tr><th>9</th><td>primary</td><td>TriMatrices</td><td>v&quot;0.2.0&quot;</td><td>:fail</td><td>:test_failures</td><td>34.87</td></tr><tr><th>10</th><td>primary</td><td>SphericalHarmonicArrays</td><td>v&quot;0.4.12&quot;</td><td>:fail</td><td>:test_failures</td><td>97.68</td></tr><tr><th>11</th><td>primary</td><td>LogisticOptTools</td><td>v&quot;0.1.0&quot;</td><td>:fail</td><td>:network</td><td>44.43</td></tr><tr><th>12</th><td>primary</td><td>LazyInverses</td><td>v&quot;1.1.4&quot;</td><td>:fail</td><td>:test_failures</td><td>108.55</td></tr><tr><th>13</th><td>primary</td><td>PlasmaEquilibriumToolkit</td><td>v&quot;0.5.9&quot;</td><td>:fail</td><td>:test_failures</td><td>29.67</td></tr><tr><th>14</th><td>primary</td><td>PDFIO</td><td>v&quot;0.1.14&quot;</td><td>:fail</td><td>:test_failures</td><td>93.69</td></tr><tr><th>15</th><td>primary</td><td>Quantikz</td><td>v&quot;1.1.2&quot;</td><td>:fail</td><td>:test_failures</td><td>23.94</td></tr><tr><th>16</th><td>primary</td><td>Jolab</td><td>v&quot;0.1.5&quot;</td><td>:fail</td><td>:test_failures</td><td>155.03</td></tr><tr><th>17</th><td>primary</td><td>MeasureBase</td><td>v&quot;0.14.4&quot;</td><td>:fail</td><td>:test_failures</td><td>187.05</td></tr><tr><th>18</th><td>primary</td><td>DataStructures</td><td>v&quot;0.18.13&quot;</td><td>:fail</td><td>:test_failures</td><td>278.86</td></tr><tr><th>19</th><td>primary</td><td>Wasmtime</td><td>v&quot;0.1.0&quot;</td><td>:fail</td><td>:test_failures</td><td>26.24</td></tr><tr><th>20</th><td>primary</td><td>ForneyLab</td><td>v&quot;0.12.0&quot;</td><td>:fail</td><td>:test_failures</td><td>239.02</td></tr><tr><th>21</th><td>primary</td><td>Replay</td><td>v&quot;0.4.2&quot;</td><td>:fail</td><td>:test_failures</td><td>20.88</td></tr><tr><th>22</th><td>primary</td><td>Alicorn</td><td>v&quot;1.0.0&quot;</td><td>:fail</td><td>:test_failures</td><td>285.17</td></tr><tr><th>23</th><td>primary</td><td>OnlineStatsBase</td><td>v&quot;1.5.0&quot;</td><td>:fail</td><td>:test_failures</td><td>42.25</td></tr><tr><th>24</th><td>primary</td><td>MultivariateStats</td><td>v&quot;0.10.0&quot;</td><td>:fail</td><td>:test_failures</td><td>251.75</td></tr><tr><th>25</th><td>primary</td><td>MethodAnalysis</td><td>v&quot;0.4.11&quot;</td><td>:fail</td><td>:test_failures</td><td>77.16</td></tr><tr><th>26</th><td>primary</td><td>PDSampler</td><td>v&quot;0.1.1&quot;</td><td>:fail</td><td>:unknown</td><td>72.12</td></tr><tr><th>27</th><td>primary</td><td>SPDX</td><td>v&quot;0.1.2&quot;</td><td>:fail</td><td>:test_failures</td><td>68.61</td></tr><tr><th>28</th><td>primary</td><td>DomainSets</td><td>v&quot;0.5.14&quot;</td><td>:fail</td><td>:test_failures</td><td>235.05</td></tr><tr><th>29</th><td>primary</td><td>Revise</td><td>v&quot;3.4.0&quot;</td><td>:fail</td><td>:test_failures</td><td>293.36</td></tr><tr><th>30</th><td>primary</td><td>ITensorGaussianMPS</td><td>v&quot;0.0.4&quot;</td><td>:fail</td><td>:test_failures</td><td>106.46</td></tr><tr><th>&vellip;</th><td>&vellip;</td><td>&vellip;</td><td>&vellip;</td><td>&vellip;</td><td>&vellip;</td><td>&vellip;</td></tr></tbody></table></div>"
      ],
      "text/latex": [
       "\\begin{tabular}{r|ccccccc}\n",
       "\t& configuration & package & version & status & reason & duration & \\\\\n",
       "\t\\hline\n",
       "\t& String & String & String & String & String & Float64 & \\\\\n",
       "\t\\hline\n",
       "\t1 & primary & UsingMerge & v\"0.0.5\" & :fail & :unknown & 11.58 & $\\dots$ \\\\\n",
       "\t2 & primary & Terminators & v\"0.1.1\" & :fail & :test\\_failures & 19.5 & $\\dots$ \\\\\n",
       "\t3 & primary & PrettyPrinting & v\"0.4.0\" & :fail & :unknown & 27.05 & $\\dots$ \\\\\n",
       "\t4 & primary & LatinHypercubeSampling & v\"1.8.0\" & :fail & :test\\_failures & 32.44 & $\\dots$ \\\\\n",
       "\t5 & primary & Malt & v\"0.7.0\" & :fail & :test\\_failures & 15.06 & $\\dots$ \\\\\n",
       "\t6 & primary & PatternFolds & v\"0.2.2\" & :fail & :test\\_failures & 41.44 & $\\dots$ \\\\\n",
       "\t7 & primary & RectiGrids & missing & :fail & :unknown & 0.0 & $\\dots$ \\\\\n",
       "\t8 & primary & Anasol & v\"1.0.1\" & :fail & :unknown & 44.75 & $\\dots$ \\\\\n",
       "\t9 & primary & TriMatrices & v\"0.2.0\" & :fail & :test\\_failures & 34.87 & $\\dots$ \\\\\n",
       "\t10 & primary & SphericalHarmonicArrays & v\"0.4.12\" & :fail & :test\\_failures & 97.68 & $\\dots$ \\\\\n",
       "\t11 & primary & LogisticOptTools & v\"0.1.0\" & :fail & :network & 44.43 & $\\dots$ \\\\\n",
       "\t12 & primary & LazyInverses & v\"1.1.4\" & :fail & :test\\_failures & 108.55 & $\\dots$ \\\\\n",
       "\t13 & primary & PlasmaEquilibriumToolkit & v\"0.5.9\" & :fail & :test\\_failures & 29.67 & $\\dots$ \\\\\n",
       "\t14 & primary & PDFIO & v\"0.1.14\" & :fail & :test\\_failures & 93.69 & $\\dots$ \\\\\n",
       "\t15 & primary & Quantikz & v\"1.1.2\" & :fail & :test\\_failures & 23.94 & $\\dots$ \\\\\n",
       "\t16 & primary & Jolab & v\"0.1.5\" & :fail & :test\\_failures & 155.03 & $\\dots$ \\\\\n",
       "\t17 & primary & MeasureBase & v\"0.14.4\" & :fail & :test\\_failures & 187.05 & $\\dots$ \\\\\n",
       "\t18 & primary & DataStructures & v\"0.18.13\" & :fail & :test\\_failures & 278.86 & $\\dots$ \\\\\n",
       "\t19 & primary & Wasmtime & v\"0.1.0\" & :fail & :test\\_failures & 26.24 & $\\dots$ \\\\\n",
       "\t20 & primary & ForneyLab & v\"0.12.0\" & :fail & :test\\_failures & 239.02 & $\\dots$ \\\\\n",
       "\t21 & primary & Replay & v\"0.4.2\" & :fail & :test\\_failures & 20.88 & $\\dots$ \\\\\n",
       "\t22 & primary & Alicorn & v\"1.0.0\" & :fail & :test\\_failures & 285.17 & $\\dots$ \\\\\n",
       "\t23 & primary & OnlineStatsBase & v\"1.5.0\" & :fail & :test\\_failures & 42.25 & $\\dots$ \\\\\n",
       "\t24 & primary & MultivariateStats & v\"0.10.0\" & :fail & :test\\_failures & 251.75 & $\\dots$ \\\\\n",
       "\t25 & primary & MethodAnalysis & v\"0.4.11\" & :fail & :test\\_failures & 77.16 & $\\dots$ \\\\\n",
       "\t26 & primary & PDSampler & v\"0.1.1\" & :fail & :unknown & 72.12 & $\\dots$ \\\\\n",
       "\t27 & primary & SPDX & v\"0.1.2\" & :fail & :test\\_failures & 68.61 & $\\dots$ \\\\\n",
       "\t28 & primary & DomainSets & v\"0.5.14\" & :fail & :test\\_failures & 235.05 & $\\dots$ \\\\\n",
       "\t29 & primary & Revise & v\"3.4.0\" & :fail & :test\\_failures & 293.36 & $\\dots$ \\\\\n",
       "\t30 & primary & ITensorGaussianMPS & v\"0.0.4\" & :fail & :test\\_failures & 106.46 & $\\dots$ \\\\\n",
       "\t$\\dots$ & $\\dots$ & $\\dots$ & $\\dots$ & $\\dots$ & $\\dots$ & $\\dots$ &  \\\\\n",
       "\\end{tabular}\n"
      ],
      "text/plain": [
       "\u001b[1m89×15 DataFrame\u001b[0m\n",
       "\u001b[1m Row \u001b[0m│\u001b[1m configuration \u001b[0m\u001b[1m package                           \u001b[0m\u001b[1m version    \u001b[0m\u001b[1m status \u001b[0m\u001b[1m r\u001b[0m ⋯\n",
       "\u001b[1m     \u001b[0m│\u001b[90m String        \u001b[0m\u001b[90m String                            \u001b[0m\u001b[90m String     \u001b[0m\u001b[90m String \u001b[0m\u001b[90m S\u001b[0m ⋯\n",
       "─────┼──────────────────────────────────────────────────────────────────────────\n",
       "   1 │ primary        UsingMerge                         v\"0.0.5\"    :fail   : ⋯\n",
       "   2 │ primary        Terminators                        v\"0.1.1\"    :fail   :\n",
       "   3 │ primary        PrettyPrinting                     v\"0.4.0\"    :fail   :\n",
       "   4 │ primary        LatinHypercubeSampling             v\"1.8.0\"    :fail   :\n",
       "   5 │ primary        Malt                               v\"0.7.0\"    :fail   : ⋯\n",
       "   6 │ primary        PatternFolds                       v\"0.2.2\"    :fail   :\n",
       "   7 │ primary        RectiGrids                         missing     :fail   :\n",
       "   8 │ primary        Anasol                             v\"1.0.1\"    :fail   :\n",
       "   9 │ primary        TriMatrices                        v\"0.2.0\"    :fail   : ⋯\n",
       "  10 │ primary        SphericalHarmonicArrays            v\"0.4.12\"   :fail   :\n",
       "  11 │ primary        LogisticOptTools                   v\"0.1.0\"    :fail   :\n",
       "  ⋮  │       ⋮                        ⋮                      ⋮         ⋮       ⋱\n",
       "  80 │ primary        MultivariateOrthogonalPolynomials  v\"0.3.0\"    :fail   :\n",
       "  81 │ primary        Fenrir                             v\"0.1.2\"    :fail   : ⋯\n",
       "  82 │ primary        SDPA                               missing     :fail   :\n",
       "  83 │ primary        ApproximateGPs                     v\"0.4.3\"    :fail   :\n",
       "  84 │ primary        ClassicalOrthogonalPolynomials     v\"0.6.7\"    :fail   :\n",
       "  85 │ primary        ModelWrappers                      v\"0.3.7\"    :fail   : ⋯\n",
       "  86 │ primary        SemiclassicalOrthogonalPolynomia…  v\"0.3.1\"    :fail   :\n",
       "  87 │ primary        ApproxFunSingularities             v\"0.3.3\"    :fail   :\n",
       "  88 │ primary        SingularIntegralEquations          v\"0.7.0\"    :fail   :\n",
       "  89 │ primary        Symbolics                          v\"4.13.0\"   :fail   : ⋯\n",
       "\u001b[36m                                                  11 columns and 68 rows omitted\u001b[0m"
      ]
     },
     "execution_count": 46,
     "metadata": {},
     "output_type": "execute_result"
    }
   ],
   "source": [
    "# Unknown failures\n",
    "\n",
    "filter(x -> x.why == Unknown && \n",
    "       !(x.package in issues_opened) && \n",
    "       !(x.package in likely_tol) && \n",
    "       !(x.package in ignored_packages) && \n",
    "       !(x.package in fixed) &&\n",
    "       !(x.reason == \":abort\"), \n",
    "    fails)"
   ]
  },
  {
   "cell_type": "code",
   "execution_count": 32,
   "metadata": {
    "scrolled": true
   },
   "outputs": [
    {
     "data": {
      "text/plain": [
       "25-element Vector{Any}:\n",
       " (67, Unknown)\n",
       " (31, PrintingChange)\n",
       " (10, CxxWrap)\n",
       " (9, SizeDataType)\n",
       " (9, LoadChange)\n",
       " (8, UnsatReq)\n",
       " (5, UMF_Symbol)\n",
       " (5, Uncolon)\n",
       " (5, StackExport)\n",
       " (5, TimeLimit)\n",
       " (4, JlTypeInf)\n",
       " (4, ApproxError)\n",
       " (3, StatefulTaken)\n",
       " (3, SortAmbig)\n",
       " (3, SlicesExport)\n",
       " (3, DocTest)\n",
       " (2, NormalizeAmbig)\n",
       " (2, IsFinite)\n",
       " (2, NewExceptionType)\n",
       " (2, NewAmbiguity)\n",
       " (1, BaseJoin)\n",
       " (1, NoMethodAxpy)\n",
       " (1, STDLIB_BS)\n",
       " (1, BLASVectorLike)\n",
       " (1, LogLimit)"
      ]
     },
     "execution_count": 32,
     "metadata": {},
     "output_type": "execute_result"
    }
   ],
   "source": [
    "# Categorize\n",
    "\n",
    "z = []\n",
    "for i in instances(FailureType)\n",
    "    n = count(row -> row.why == i, eachrow(fails))\n",
    "    n > 0 && push!(z, (n, i))\n",
    "end\n",
    "sort!(z; rev=true)"
   ]
  },
  {
   "cell_type": "code",
   "execution_count": 33,
   "metadata": {},
   "outputs": [
    {
     "data": {
      "text/plain": [
       "31-element Vector{String}:\n",
       " \"SnoopPrecompile\"\n",
       " \"LatinHypercubeSampling\"\n",
       " \"SIMD\"\n",
       " \"PatternFolds\"\n",
       " \"SphericalHarmonicArrays\"\n",
       " \"PlasmaEquilibriumToolkit\"\n",
       " \"Quantikz\"\n",
       " \"DataStructures\"\n",
       " \"Wasmtime\"\n",
       " \"ForneyLab\"\n",
       " \"Replay\"\n",
       " \"LiterateTest\"\n",
       " \"Compat\"\n",
       " ⋮\n",
       " \"DiscreteDifferentialGeometry\"\n",
       " \"SphericalHarmonicModes\"\n",
       " \"PlutoHooks\"\n",
       " \"OceanGrids\"\n",
       " \"DisjointCliqueCover\"\n",
       " \"ExprTools\"\n",
       " \"ChainedFixes\"\n",
       " \"YAXArrays\"\n",
       " \"NamedDims\"\n",
       " \"MultivariateOrthogonalPolynomials\"\n",
       " \"ClassicalOrthogonalPolynomials\"\n",
       " \"Cassette\""
      ]
     },
     "execution_count": 33,
     "metadata": {},
     "output_type": "execute_result"
    }
   ],
   "source": [
    "filter(x -> x.why == PrintingChange,  fails).package"
   ]
  },
  {
   "cell_type": "code",
   "execution_count": null,
   "metadata": {},
   "outputs": [],
   "source": []
  },
  {
   "cell_type": "code",
   "execution_count": null,
   "metadata": {},
   "outputs": [],
   "source": []
  }
 ],
 "metadata": {
  "@webio": {
   "lastCommId": null,
   "lastKernelId": null
  },
  "kernelspec": {
   "display_name": "Julia 1.8.2",
   "language": "julia",
   "name": "julia-1.8"
  },
  "language_info": {
   "file_extension": ".jl",
   "mimetype": "application/julia",
   "name": "julia",
   "version": "1.8.2"
  }
 },
 "nbformat": 4,
 "nbformat_minor": 4
}
